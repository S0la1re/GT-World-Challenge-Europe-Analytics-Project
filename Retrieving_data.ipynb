{
 "cells": [
  {
   "cell_type": "code",
   "execution_count": 13,
   "metadata": {},
   "outputs": [],
   "source": [
    "import os\n",
    "import requests\n",
    "import pandas as pd\n",
    "from bs4 import BeautifulSoup\n",
    "\n",
    "\n",
    "def parse_years(input_years):\n",
    "    # Processes input parameters for years, supporting specific years, lists, and ranges.\n",
    "    if isinstance(input_years, list):\n",
    "        return [str(year) for year in input_years]\n",
    "    elif isinstance(input_years, str) and '-' in input_years:\n",
    "        start_year, end_year = map(int, input_years.split('-'))\n",
    "        return [str(year) for year in range(start_year, end_year + 1)]  # Including the end year\n",
    "    elif isinstance(input_years, int):\n",
    "        return [str(input_years)]  # Convert a single year into a list of strings\n",
    "    return None\n",
    "\n",
    "def get_seasons():\n",
    "    url = \"https://www.gt-world-challenge-europe.com/results?filter_season_id=0&filter_meeting_id=0&filter_race_id=\"\n",
    "    response = requests.get(url)\n",
    "    soup = BeautifulSoup(response.text, 'html.parser')\n",
    "\n",
    "    seasons_options = soup.select('#filter_season_id option')\n",
    "    seasons = {option.text.strip(): option['value'] for option in seasons_options if option['value']}\n",
    "    \n",
    "    return seasons\n",
    "\n",
    "\n",
    "def get_meetings(season_id):\n",
    "    url = f\"https://www.gt-world-challenge-europe.com/results?filter_season_id={season_id}&filter_meeting_id=0&filter_race_id=\"\n",
    "    response = requests.get(url)\n",
    "    soup = BeautifulSoup(response.text, 'html.parser')\n",
    "\n",
    "    meetings_options = soup.select('#filter_meeting_id option')\n",
    "    meetings = {option.text.strip(): option['value'] for option in meetings_options if option['value']}\n",
    "    \n",
    "    return meetings\n",
    "\n",
    "\n",
    "def get_races(season_id, meeting_id):\n",
    "    url = f\"https://www.gt-world-challenge-europe.com/results?filter_season_id={season_id}&filter_meeting_id={meeting_id}&filter_race_id=\"\n",
    "    response = requests.get(url)\n",
    "    soup = BeautifulSoup(response.text, 'html.parser')\n",
    "\n",
    "    # Извлечение всех доступных опций гонок из выпадающего списка на странице\n",
    "    races_options = soup.select('#filter_race_id option')\n",
    "    \n",
    "    # Пропускаем первый элемент, так как это просто подпись, а не фактическая гонка\n",
    "    races = [{'name': option.text.strip(), 'race_id': option['value']} for option in races_options if option['value']]\n",
    "    \n",
    "    return races\n",
    "\n",
    "\n",
    "def load_race_data(year):\n",
    "    # Получаем данные о сезонах\n",
    "    seasons = get_seasons()\n",
    "    season_id = seasons[str(year)]  # Преобразование года в строку, чтобы совпадало с ключами в словаре\n",
    "\n",
    "    # Получаем данные о встречах для выбранного сезона\n",
    "    meetings = get_meetings(season_id)\n",
    "\n",
    "    all_races = []  # Список для хранения всех заездов\n",
    "\n",
    "    # Проходим по каждой встрече и собираем информацию о заездах\n",
    "    for meeting_name, meeting_id in meetings.items():\n",
    "        races = get_races(season_id, meeting_id)\n",
    "        for race in races:\n",
    "            all_races.append({\n",
    "                'Season': year,\n",
    "                'Meeting': meeting_name,\n",
    "                'Race Name': race['name'],\n",
    "                'Race ID': race['race_id']\n",
    "            })\n",
    "\n",
    "    # Преобразование списка словарей в DataFrame\n",
    "    race_data_df = pd.DataFrame(all_races)\n",
    "    return race_data_df\n",
    "\n",
    "\n",
    "\n",
    "\n",
    "\n",
    "\n",
    "\n",
    "\n",
    "\n",
    "def get_race_results(season, meeting, race_name, race_data):\n",
    "    # Get season, meeting, and race IDs\n",
    "    season_id, meeting_id, race_id = None, None, None\n",
    "    for data in race_data:\n",
    "        if data['season'] == season and data['meeting'] == meeting:\n",
    "            season_id = data['season_id']\n",
    "            meeting_id = data['meeting_id']\n",
    "            for race in data['races']:\n",
    "                if race['name'] == race_name:\n",
    "                    race_id = race['race_id']\n",
    "                    break\n",
    "            break\n",
    "    \n",
    "    if not season_id or not meeting_id or not race_id:\n",
    "        raise ValueError(f\"Cannot find data for season: {season}, meeting: {meeting}, race: {race_name}\")\n",
    "\n",
    "    # Construct URL and request the site\n",
    "    final_url = f\"https://www.gt-world-challenge-europe.com/results?filter_season_id={season_id}&filter_meeting_id={meeting_id}&filter_race_id={race_id}\"\n",
    "    response = requests.get(final_url)\n",
    "    soup = BeautifulSoup(response.text, 'html.parser')\n",
    "\n",
    "    # Check for the presence of a table on the page\n",
    "    table = soup.find('table', {'class': 'table'})\n",
    "    if table:\n",
    "        headers = [header.text.strip() for header in table.find('thead').find_all('th')]\n",
    "        data_rows = [[col.text.strip() for col in row.find_all('td')] for row in table.find('tbody').find_all('tr')]\n",
    "        return pd.DataFrame(data_rows, columns=headers)\n",
    "    else:\n",
    "        print(f\"No data table found for race: {race_name} in season: {season}, meeting: {meeting}. Skipping this race.\")\n",
    "        return pd.DataFrame()  # Return an empty DataFrame for missing data\n",
    "\n",
    "\n",
    "def all_race_data(race_data):\n",
    "    # Preparing an empty list to store information about each race\n",
    "    summary_data = []\n",
    "\n",
    "    # We go through all the downloaded data to collect information\n",
    "    for data in race_data:\n",
    "        season = data['season']\n",
    "        meeting = data['meeting']\n",
    "        for race in data['races']:\n",
    "            race_name = race['name']\n",
    "            # Adding race information to the list\n",
    "            summary_data.append({\n",
    "                'Season': season,\n",
    "                'Meeting': meeting,\n",
    "                'Race Name': race_name\n",
    "            })\n",
    "\n",
    "    # Creating a DataFrame from the collected information\n",
    "    summary_df = pd.DataFrame(summary_data)\n",
    "\n",
    "    return summary_df\n",
    "\n",
    "\n",
    "def save_race_data_to_csv(years=None, meetings=None, race_type=None, race_data=None, save_path='.', create_folders=False):\n",
    "    if not race_data:\n",
    "        print(\"No data to process.\")\n",
    "        return\n",
    "\n",
    "    if isinstance(years, str):\n",
    "        years = parse_years(years)\n",
    "    if isinstance(meetings, str):\n",
    "        meetings = [meetings]\n",
    "    if race_type and isinstance(race_type, str):\n",
    "        race_type = [race_type.lower()]\n",
    "\n",
    "    data_dir = os.path.join(save_path, 'data_csv')\n",
    "    os.makedirs(data_dir, exist_ok=True)\n",
    "    \n",
    "    for data in race_data:\n",
    "        if years and data['season'] not in years:\n",
    "            continue\n",
    "        if meetings and data['meeting'] not in meetings:\n",
    "            continue\n",
    "        \n",
    "        meeting_dir = os.path.join(data_dir, data['season'], data['meeting'].replace(\" \", \"_\"))\n",
    "        os.makedirs(meeting_dir, exist_ok=True)\n",
    "        \n",
    "        for race in data['races']:\n",
    "            if race_type:\n",
    "                # Check for a match with the specified race type\n",
    "                if not any(r.lower() == race['name'].lower() for r in race_type):\n",
    "                    continue  # Skip the race if it does not match the specified type\n",
    "            \n",
    "            # Determine the save path based on the create_folders flag\n",
    "            folder_path = meeting_dir\n",
    "            if create_folders:\n",
    "                if \"qualifying\" in race['name'].lower():\n",
    "                    folder_path = os.path.join(meeting_dir, \"Qualifications\")\n",
    "                elif \"main race\" in race['name'].lower():\n",
    "                    folder_path = os.path.join(meeting_dir, \"Races\")\n",
    "                os.makedirs(folder_path, exist_ok=True)\n",
    "            \n",
    "            file_path = os.path.join(folder_path, f\"{race['name'].replace(' ', '_')}.csv\")\n",
    "            df = get_race_results(data['season'], data['meeting'], race['name'], race_data)\n",
    "            df.to_csv(file_path, index=False)\n",
    "            print(f\"Saved: {file_path}\")\n"
   ]
  },
  {
   "cell_type": "code",
   "execution_count": null,
   "metadata": {},
   "outputs": [],
   "source": []
  },
  {
   "cell_type": "code",
   "execution_count": 10,
   "metadata": {},
   "outputs": [
    {
     "data": {
      "text/plain": [
       "[]"
      ]
     },
     "execution_count": 10,
     "metadata": {},
     "output_type": "execute_result"
    }
   ],
   "source": [
    "seasons = get_seasons()\n",
    "meetings = get_meetings(seasons)\n",
    "get_races(seasons, meetings)\n"
   ]
  },
  {
   "cell_type": "code",
   "execution_count": 11,
   "metadata": {},
   "outputs": [
    {
     "name": "stdout",
     "output_type": "stream",
     "text": [
      "Meeting []\n",
      "Monza [{'name': 'Main Race after 2.30 hours', 'race_id': '1356'}, {'name': 'Main Race after 1.30 hour', 'race_id': '1355'}, {'name': 'Main Race after 30 mins', 'race_id': '1357'}, {'name': 'Main Race', 'race_id': '1329'}, {'name': 'Combined Qualifying', 'race_id': '1354'}, {'name': 'Qualifying 3', 'race_id': '1353'}, {'name': 'Qualifying 2', 'race_id': '1352'}, {'name': 'Qualifying 1', 'race_id': '1328'}, {'name': 'Pit walk', 'race_id': '1351'}, {'name': 'Fanatec Esports GT Pro Series', 'race_id': '1350'}, {'name': 'Pre Qualifying', 'race_id': '1327'}, {'name': 'Free practice', 'race_id': '1326'}, {'name': 'Bronze Test', 'race_id': '1325'}]\n",
      "Brands Hatch [{'name': 'Race 2', 'race_id': '1324'}, {'name': 'Race 1', 'race_id': '1323'}, {'name': 'Pit walk', 'race_id': '1358'}, {'name': 'Qualifying 2', 'race_id': '1359'}, {'name': 'Qualifying 1', 'race_id': '1322'}, {'name': 'Pre Qualifying', 'race_id': '1321'}, {'name': 'Free practice', 'race_id': '1320'}]\n",
      "Circuit Paul Ricard 1000Km [{'name': 'Main Race after 5.30 hours', 'race_id': '1371'}, {'name': 'Main race after 4.30 hours', 'race_id': '1370'}, {'name': 'Main Race after 3.30 hours', 'race_id': '1369'}, {'name': 'Main Race after 2.30 hours', 'race_id': '1368'}, {'name': 'Main Race after 1.30 hour', 'race_id': '1367'}, {'name': 'Main Race', 'race_id': '1334'}, {'name': 'Combined Qualifying', 'race_id': '1366'}, {'name': 'Qualifying 3', 'race_id': '1365'}, {'name': 'Qualifying 2', 'race_id': '1364'}, {'name': 'Qualifying 1', 'race_id': '1333'}, {'name': 'Pre Qualifying Practice', 'race_id': '1332'}, {'name': 'Free practice', 'race_id': '1331'}, {'name': 'Bronze Test', 'race_id': '1330'}]\n",
      "CrowdStrike 24 Hours of Spa [{'name': 'Main Race', 'race_id': '1345'}, {'name': 'Main Race after 23 hours', 'race_id': '1412'}, {'name': 'Main Race after 22 hours', 'race_id': '1411'}, {'name': 'Main Race after 21 hours', 'race_id': '1410'}, {'name': 'Main Race after 20 hours', 'race_id': '1409'}, {'name': 'Main Race after 19 hours', 'race_id': '1408'}, {'name': 'Main Race after 18 hours', 'race_id': '1407'}, {'name': 'Main Race after 17 hours', 'race_id': '1406'}, {'name': 'Main Race after 16 hours', 'race_id': '1405'}, {'name': 'Main Race after 16 hours', 'race_id': '1404'}, {'name': 'Main Race after 15 hours', 'race_id': '1403'}, {'name': 'Main Race after 14 hours', 'race_id': '1402'}, {'name': 'Main Race after 13 hours', 'race_id': '1401'}, {'name': 'Main Race after 12 hours', 'race_id': '1400'}, {'name': 'Main Race after 11 hours', 'race_id': '1399'}, {'name': 'Main Race after 10 hours', 'race_id': '1398'}, {'name': 'Main Race after 9 hours', 'race_id': '1397'}, {'name': 'Main Race after 8 hours', 'race_id': '1396'}, {'name': 'Main Race after 7 hours', 'race_id': '1395'}, {'name': 'Main Race after 6 hours', 'race_id': '1394'}, {'name': 'Main Race after 5 hours', 'race_id': '1393'}, {'name': 'Main Race after 4 hours', 'race_id': '1392'}, {'name': 'Main Race after 3 hours', 'race_id': '1391'}, {'name': 'Main Race after 2 hours', 'race_id': '1390'}, {'name': 'Main Race after 1 hour', 'race_id': '1389'}, {'name': 'Warm-up', 'race_id': '1343'}, {'name': 'Super Pole', 'race_id': '1344'}, {'name': 'Night Practice', 'race_id': '1342'}, {'name': 'Combined Qualifying', 'race_id': '1388'}, {'name': 'Qualifying 4', 'race_id': '1341'}, {'name': 'Qualifying 3', 'race_id': '1340'}, {'name': 'Qualifying 2', 'race_id': '1339'}, {'name': 'Qualifying 1', 'race_id': '1338'}, {'name': 'Pre Qualifying', 'race_id': '1337'}, {'name': 'Free practice', 'race_id': '1336'}, {'name': 'Bronze Test', 'race_id': '1335'}]\n",
      "Misano [{'name': 'Race 2', 'race_id': '1378'}, {'name': 'Qualifying 2', 'race_id': '1377'}, {'name': 'Race 1', 'race_id': '1376'}, {'name': 'Qualifying 1', 'race_id': '1375'}, {'name': 'Pre Qualifying', 'race_id': '1374'}, {'name': 'Free practice', 'race_id': '1373'}, {'name': 'Official Paid Test Sessions 1', 'race_id': '1372'}]\n",
      "Nürburgring [{'name': 'Main Race after 2.30 hours', 'race_id': '1441'}, {'name': 'Main Race after 1.30 hour', 'race_id': '1440'}, {'name': 'Main Race', 'race_id': '1387'}, {'name': 'Combined Qualifying', 'race_id': '1439'}, {'name': 'Qualifying 3', 'race_id': '1386'}, {'name': 'Qualifying 2', 'race_id': '1385'}, {'name': 'Qualifying 1', 'race_id': '1384'}, {'name': 'Pre Qualifying', 'race_id': '1383'}, {'name': 'Free practice', 'race_id': '1382'}, {'name': 'Bronze Test', 'race_id': '1381'}, {'name': 'Official Paid Test Sessions 1', 'race_id': '1380'}, {'name': 'Official Paid Test Sessions 1', 'race_id': '1379'}]\n",
      "Hockenheim [{'name': 'Race 2', 'race_id': '1438'}, {'name': 'Qualifying 2', 'race_id': '1437'}, {'name': 'Race 1', 'race_id': '1436'}, {'name': 'Qualifying 1', 'race_id': '1435'}, {'name': 'Pre Qualifying', 'race_id': '1434'}, {'name': 'Free practice', 'race_id': '1433'}, {'name': 'Official Paid Test Sessions 1', 'race_id': '1432'}]\n",
      "Valencia [{'name': 'Race 2', 'race_id': '1419'}, {'name': 'Qualifying 2', 'race_id': '1418'}, {'name': 'Race 1', 'race_id': '1417'}, {'name': 'Qualifying 1', 'race_id': '1416'}, {'name': 'Pre Qualifying', 'race_id': '1415'}, {'name': 'Free practice', 'race_id': '1414'}, {'name': 'Official Paid Test Sessions 1', 'race_id': '1413'}]\n",
      "Barcelona [{'name': 'Main Race after 1.30 hour', 'race_id': '1446'}, {'name': 'Main Race', 'race_id': '1425'}, {'name': 'Combined Qualifying', 'race_id': '1445'}, {'name': 'Qualifying 3', 'race_id': '1444'}, {'name': 'Qualifying 2', 'race_id': '1443'}, {'name': 'Qualifying 1', 'race_id': '1442'}, {'name': 'Pre Qualifying', 'race_id': '1424'}, {'name': 'Free practice', 'race_id': '1423'}, {'name': 'Bronze Test', 'race_id': '1422'}, {'name': 'Official Paid Test Session 2', 'race_id': '1421'}, {'name': 'Official Paid Test Sessions 1', 'race_id': '1420'}]\n",
      "Zandvoort [{'name': 'Race 2', 'race_id': '1431'}, {'name': 'Qualifying 2', 'race_id': '1430'}, {'name': 'Race 1', 'race_id': '1429'}, {'name': 'Qualifying 1', 'race_id': '1428'}, {'name': 'Pre Qualifying', 'race_id': '1427'}, {'name': 'Free practice', 'race_id': '1426'}]\n"
     ]
    }
   ],
   "source": [
    "seasons = get_seasons()\n",
    "season_id = seasons['2023']  # Получаем ID для сезона 2023\n",
    "meetings = get_meetings(season_id)\n",
    "\n",
    "'''for meeting_name, meeting_id in meetings.items():\n",
    "    races = get_races(season_id, meeting_id)\n",
    "    print(meeting_name, races)'''\n",
    "\n"
   ]
  },
  {
   "cell_type": "code",
   "execution_count": 7,
   "metadata": {},
   "outputs": [
    {
     "data": {
      "text/html": [
       "<div>\n",
       "<style scoped>\n",
       "    .dataframe tbody tr th:only-of-type {\n",
       "        vertical-align: middle;\n",
       "    }\n",
       "\n",
       "    .dataframe tbody tr th {\n",
       "        vertical-align: top;\n",
       "    }\n",
       "\n",
       "    .dataframe thead th {\n",
       "        text-align: right;\n",
       "    }\n",
       "</style>\n",
       "<table border=\"1\" class=\"dataframe\">\n",
       "  <thead>\n",
       "    <tr style=\"text-align: right;\">\n",
       "      <th></th>\n",
       "      <th>Season</th>\n",
       "      <th>Meeting</th>\n",
       "      <th>Race Name</th>\n",
       "    </tr>\n",
       "  </thead>\n",
       "  <tbody>\n",
       "    <tr>\n",
       "      <th>0</th>\n",
       "      <td>2023</td>\n",
       "      <td>Monza</td>\n",
       "      <td>Main Race after 2.30 hours</td>\n",
       "    </tr>\n",
       "    <tr>\n",
       "      <th>1</th>\n",
       "      <td>2023</td>\n",
       "      <td>Monza</td>\n",
       "      <td>Main Race after 1.30 hour</td>\n",
       "    </tr>\n",
       "    <tr>\n",
       "      <th>2</th>\n",
       "      <td>2023</td>\n",
       "      <td>Monza</td>\n",
       "      <td>Main Race after 30 mins</td>\n",
       "    </tr>\n",
       "    <tr>\n",
       "      <th>3</th>\n",
       "      <td>2023</td>\n",
       "      <td>Monza</td>\n",
       "      <td>Main Race</td>\n",
       "    </tr>\n",
       "    <tr>\n",
       "      <th>4</th>\n",
       "      <td>2023</td>\n",
       "      <td>Monza</td>\n",
       "      <td>Combined Qualifying</td>\n",
       "    </tr>\n",
       "  </tbody>\n",
       "</table>\n",
       "</div>"
      ],
      "text/plain": [
       "  Season Meeting                   Race Name\n",
       "0   2023   Monza  Main Race after 2.30 hours\n",
       "1   2023   Monza   Main Race after 1.30 hour\n",
       "2   2023   Monza     Main Race after 30 mins\n",
       "3   2023   Monza                   Main Race\n",
       "4   2023   Monza         Combined Qualifying"
      ]
     },
     "execution_count": 7,
     "metadata": {},
     "output_type": "execute_result"
    }
   ],
   "source": [
    "race_summary_df = all_race_data(my_race_data)\n",
    "\n",
    "race_summary_df.head(5)"
   ]
  },
  {
   "cell_type": "code",
   "execution_count": 8,
   "metadata": {},
   "outputs": [
    {
     "data": {
      "text/plain": [
       "0        Main Race after 2.30 hours\n",
       "1         Main Race after 1.30 hour\n",
       "2           Main Race after 30 mins\n",
       "3                         Main Race\n",
       "4               Combined Qualifying\n",
       "5                      Qualifying 3\n",
       "6                      Qualifying 2\n",
       "7                      Qualifying 1\n",
       "8                          Pit walk\n",
       "9     Fanatec Esports GT Pro Series\n",
       "10                   Pre Qualifying\n",
       "11                    Free practice\n",
       "12                      Bronze Test\n",
       "Name: Race Name, dtype: object"
      ]
     },
     "execution_count": 8,
     "metadata": {},
     "output_type": "execute_result"
    }
   ],
   "source": [
    "results = race_summary_df[race_summary_df['Meeting'] == 'Monza']['Race Name'].reset_index(drop=True)\n",
    "results.head(15)"
   ]
  },
  {
   "cell_type": "code",
   "execution_count": 4,
   "metadata": {},
   "outputs": [
    {
     "ename": "ValueError",
     "evalue": "Cannot find data for season: 2023, meeting: Monza, race: Fanatec Esports GT Pro Series",
     "output_type": "error",
     "traceback": [
      "\u001b[1;31m---------------------------------------------------------------------------\u001b[0m",
      "\u001b[1;31mValueError\u001b[0m                                Traceback (most recent call last)",
      "\u001b[1;32m~\\AppData\\Local\\Temp\\ipykernel_61420\\1055345652.py\u001b[0m in \u001b[0;36m<module>\u001b[1;34m\u001b[0m\n\u001b[1;32m----> 1\u001b[1;33m \u001b[0mdf\u001b[0m \u001b[1;33m=\u001b[0m \u001b[0mget_race_results\u001b[0m\u001b[1;33m(\u001b[0m\u001b[1;34m\"2023\"\u001b[0m\u001b[1;33m,\u001b[0m \u001b[1;34m\"Monza\"\u001b[0m\u001b[1;33m,\u001b[0m \u001b[1;34m\"Fanatec Esports GT Pro Series\"\u001b[0m\u001b[1;33m,\u001b[0m \u001b[0mmy_race_data\u001b[0m\u001b[1;33m)\u001b[0m\u001b[1;33m\u001b[0m\u001b[1;33m\u001b[0m\u001b[0m\n\u001b[0m\u001b[0;32m      2\u001b[0m \u001b[1;33m\u001b[0m\u001b[0m\n\u001b[0;32m      3\u001b[0m \u001b[0mdf\u001b[0m\u001b[1;33m.\u001b[0m\u001b[0mhead\u001b[0m\u001b[1;33m(\u001b[0m\u001b[1;33m)\u001b[0m\u001b[1;33m\u001b[0m\u001b[1;33m\u001b[0m\u001b[0m\n",
      "\u001b[1;32m~\\AppData\\Local\\Temp\\ipykernel_61420\\3241316014.py\u001b[0m in \u001b[0;36mget_race_results\u001b[1;34m(season, meeting, race_name, race_data)\u001b[0m\n\u001b[0;32m     84\u001b[0m \u001b[1;33m\u001b[0m\u001b[0m\n\u001b[0;32m     85\u001b[0m     \u001b[1;32mif\u001b[0m \u001b[1;32mnot\u001b[0m \u001b[0mseason_id\u001b[0m \u001b[1;32mor\u001b[0m \u001b[1;32mnot\u001b[0m \u001b[0mmeeting_id\u001b[0m \u001b[1;32mor\u001b[0m \u001b[1;32mnot\u001b[0m \u001b[0mrace_id\u001b[0m\u001b[1;33m:\u001b[0m\u001b[1;33m\u001b[0m\u001b[1;33m\u001b[0m\u001b[0m\n\u001b[1;32m---> 86\u001b[1;33m         \u001b[1;32mraise\u001b[0m \u001b[0mValueError\u001b[0m\u001b[1;33m(\u001b[0m\u001b[1;34mf\"Cannot find data for season: {season}, meeting: {meeting}, race: {race_name}\"\u001b[0m\u001b[1;33m)\u001b[0m\u001b[1;33m\u001b[0m\u001b[1;33m\u001b[0m\u001b[0m\n\u001b[0m\u001b[0;32m     87\u001b[0m \u001b[1;33m\u001b[0m\u001b[0m\n\u001b[0;32m     88\u001b[0m     \u001b[1;31m# Construct URL and request the site\u001b[0m\u001b[1;33m\u001b[0m\u001b[1;33m\u001b[0m\u001b[0m\n",
      "\u001b[1;31mValueError\u001b[0m: Cannot find data for season: 2023, meeting: Monza, race: Fanatec Esports GT Pro Series"
     ]
    }
   ],
   "source": [
    "df = get_race_results(\"2023\", \"Monza\", \"Fanatec Esports GT Pro Series\", my_race_data)\n",
    "\n",
    "df.head()"
   ]
  },
  {
   "cell_type": "code",
   "execution_count": 22,
   "metadata": {},
   "outputs": [
    {
     "name": "stdout",
     "output_type": "stream",
     "text": [
      "Saved: C:\\Users\\ireev\\Desktop\\data_csv\\2023\\Monza\\Qualifications\\Qualifying_1.csv\n"
     ]
    }
   ],
   "source": [
    "save_race_data_to_csv(years=\"2023\", meetings=\"Monza\", race_type=\"Qualifying 1\", race_data=my_race_data, create_folders=True, save_path=\"C:\\\\Users\\\\ireev\\\\Desktop\\\\\")"
   ]
  },
  {
   "cell_type": "markdown",
   "metadata": {},
   "source": []
  }
 ],
 "metadata": {
  "kernelspec": {
   "display_name": "base",
   "language": "python",
   "name": "python3"
  },
  "language_info": {
   "codemirror_mode": {
    "name": "ipython",
    "version": 3
   },
   "file_extension": ".py",
   "mimetype": "text/x-python",
   "name": "python",
   "nbconvert_exporter": "python",
   "pygments_lexer": "ipython3",
   "version": "3.9.18"
  }
 },
 "nbformat": 4,
 "nbformat_minor": 2
}
