{
 "cells": [
  {
   "cell_type": "markdown",
   "metadata": {},
   "source": [
    "# **Racing Data Analysis Project**"
   ]
  },
  {
   "cell_type": "markdown",
   "metadata": {},
   "source": [
    "Our primary goal is to analyze and determine which cars dominate on specific tracks and identify the most versatile vehicles.\n",
    "\n",
    "For 50 laps we will got that assess system:\n",
    "\n",
    "1. 1st place: 10 points + 3 bonuses = 13 points\n",
    "2. 2nd place: 9 points + 2 bonuses = 11 points\n",
    "3. 3rd place: 8 points + 1 bonus = 9 points\n",
    "4. 4th place: 7 points\n",
    "5. 5th place: 6 points\n",
    "6. 6th place: 5 points\n",
    "7. 7th place: 4 points\n",
    "8. 8th place: 3 points\n",
    "9. 9th place: 2 points\n",
    "10. 10th place: 1 point\n",
    "\n",
    "**Race Length Accounting**\n",
    "\n",
    "Determine the base length of the race (eg 50 laps).<br>\n",
    "If the race is longer, for example 64 laps, the points are multiplied by a factor (64/50).<br>\n",
    "If the race is shorter, for example 42 laps, the points are multiplied by a factor (42/50).<br>\n",
    "So, if a win is worth 13 points in a 50-lap race, in a 64-lap race it will be worth 13 * (64/50) = 16.64 points."
   ]
  },
  {
   "cell_type": "markdown",
   "metadata": {},
   "source": [
    "## **1. Load Libraries**"
   ]
  },
  {
   "cell_type": "code",
   "execution_count": 2,
   "metadata": {},
   "outputs": [],
   "source": [
    "import pandas as pd"
   ]
  },
  {
   "cell_type": "markdown",
   "metadata": {},
   "source": [
    "## **2. Load Data**"
   ]
  },
  {
   "cell_type": "code",
   "execution_count": 3,
   "metadata": {},
   "outputs": [
    {
     "name": "stdout",
     "output_type": "stream",
     "text": [
      "<class 'pandas.core.frame.DataFrame'>\n",
      "RangeIndex: 7319 entries, 0 to 7318\n",
      "Data columns (total 17 columns):\n",
      " #   Column                Non-Null Count  Dtype          \n",
      "---  ------                --------------  -----          \n",
      " 0   Season                7319 non-null   int64          \n",
      " 1   Meeting               7319 non-null   object         \n",
      " 2   Event name            7319 non-null   object         \n",
      " 3   Pos                   7319 non-null   int64          \n",
      " 4   Car #                 7319 non-null   int64          \n",
      " 5   Class                 7319 non-null   category       \n",
      " 6   Special Class         7319 non-null   bool           \n",
      " 7   Drivers               7319 non-null   object         \n",
      " 8   Team                  7319 non-null   object         \n",
      " 9   Car                   7319 non-null   object         \n",
      " 10  Best lap set          7319 non-null   bool           \n",
      " 11  Time                  7319 non-null   object         \n",
      " 12  Time timedelta        7319 non-null   timedelta64[ns]\n",
      " 13  Laps                  7319 non-null   int64          \n",
      " 14  Gap                   7319 non-null   object         \n",
      " 15  Gap Timedelta         7319 non-null   timedelta64[ns]\n",
      " 16  Dropped off the Race  7319 non-null   bool           \n",
      "dtypes: bool(3), category(1), int64(4), object(7), timedelta64[ns](2)\n",
      "memory usage: 772.4+ KB\n"
     ]
    }
   ],
   "source": [
    "df = pd.read_parquet(\".\\\\cleaned_data\\\\race_data.parquet\")\n",
    "df.info()"
   ]
  },
  {
   "cell_type": "code",
   "execution_count": 4,
   "metadata": {},
   "outputs": [
    {
     "name": "stdout",
     "output_type": "stream",
     "text": [
      "Index(['Invitational', 'Am Cup', 'Bronze Cup', 'Pro-Am Cup', 'Silver Cup',\n",
      "       'Gold Cup', 'Pro Cup'],\n",
      "      dtype='object')\n"
     ]
    }
   ],
   "source": [
    "categories_order = df['Class'].cat.categories\n",
    "\n",
    "print(categories_order)"
   ]
  },
  {
   "cell_type": "code",
   "execution_count": 5,
   "metadata": {},
   "outputs": [
    {
     "name": "stdout",
     "output_type": "stream",
     "text": [
      "Is the 'Class' column ordered? True\n"
     ]
    }
   ],
   "source": [
    "is_ordered = df['Class'].cat.ordered\n",
    "\n",
    "print(\"Is the 'Class' column ordered?\" , is_ordered)"
   ]
  },
  {
   "cell_type": "code",
   "execution_count": 25,
   "metadata": {},
   "outputs": [
    {
     "data": {
      "text/plain": [
       "Event name\n",
       "Main Race                     1\n",
       "Main Race after 1.30 hour     1\n",
       "Main Race after 2.30 hours    1\n",
       "Name: count, dtype: int64"
      ]
     },
     "execution_count": 25,
     "metadata": {},
     "output_type": "execute_result"
    }
   ],
   "source": [
    "df[(df['Season'] == 2021) & (df['Meeting'] == 'Monza') & (df['Pos'] == 1)]['Event name'].value_counts()\n",
    "\n"
   ]
  },
  {
   "cell_type": "code",
   "execution_count": 33,
   "metadata": {},
   "outputs": [
    {
     "data": {
      "text/plain": [
       "Laps\n",
       "79    1\n",
       "Name: count, dtype: int64"
      ]
     },
     "execution_count": 33,
     "metadata": {},
     "output_type": "execute_result"
    }
   ],
   "source": [
    "df[(df['Season'] == 2021) & (df['Meeting'] == 'Monza') & (df['Event name'] == 'Main Race') & (df['Pos'] == 1)]['Laps'].value_counts()"
   ]
  }
 ],
 "metadata": {
  "kernelspec": {
   "display_name": "base",
   "language": "python",
   "name": "python3"
  },
  "language_info": {
   "codemirror_mode": {
    "name": "ipython",
    "version": 3
   },
   "file_extension": ".py",
   "mimetype": "text/x-python",
   "name": "python",
   "nbconvert_exporter": "python",
   "pygments_lexer": "ipython3",
   "version": "3.9.18"
  }
 },
 "nbformat": 4,
 "nbformat_minor": 2
}
