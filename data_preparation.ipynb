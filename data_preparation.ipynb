{
 "cells": [
  {
   "cell_type": "markdown",
   "metadata": {},
   "source": [
    "# Data Preparation"
   ]
  },
  {
   "cell_type": "code",
   "execution_count": 3,
   "metadata": {},
   "outputs": [],
   "source": [
    "import os\n",
    "import pandas as pd\n",
    "\n",
    "def create_dataframe_from_races_csvs(base_path, year):\n",
    "    required_columns = ['Pos', 'Car #', 'Class', 'Drivers', 'Team', 'Car', 'Time', 'Laps', 'Gap']\n",
    "    all_data = []  # List to hold all data rows\n",
    "\n",
    "    year_path = os.path.join(base_path, str(year))  # Path to the specific year\n",
    "\n",
    "    if not os.path.exists(year_path):\n",
    "        print(f\"The directory for year {year} does not exist.\")\n",
    "        return pd.DataFrame()\n",
    "\n",
    "    for meeting in os.listdir(year_path):  # Iterate through all meetings in the year\n",
    "        meeting_path = os.path.join(year_path, meeting)\n",
    "        races_path = os.path.join(meeting_path, \"Races\")  # Path to the 'Races' folder\n",
    "        \n",
    "        if os.path.exists(races_path):\n",
    "            for race_file in os.listdir(races_path):  # Iterate through all race files\n",
    "                file_path = os.path.join(races_path, race_file)\n",
    "                try:\n",
    "                    df = pd.read_csv(file_path)\n",
    "                    if set(required_columns).issubset(df.columns):\n",
    "                        df['season'] = year\n",
    "                        df['meeting'] = meeting.replace(\"_\", \" \")\n",
    "                        df['race_name'] = race_file.replace(\".csv\", \"\").replace(\"_\", \" \")\n",
    "                        all_data.append(df[[\"season\", \"meeting\", \"race_name\"] + required_columns])\n",
    "                    else:\n",
    "                        print(f\"Skipping {file_path} due to missing required columns.\")\n",
    "                except Exception as e:\n",
    "                    print(f\"Error reading {file_path}: {e}\")\n",
    "\n",
    "    # Concatenate all data into a single DataFrame\n",
    "    final_df = pd.concat(all_data, ignore_index=True) if all_data else pd.DataFrame()\n",
    "    return final_df"
   ]
  },
  {
   "cell_type": "code",
   "execution_count": 6,
   "metadata": {},
   "outputs": [
    {
     "name": "stdout",
     "output_type": "stream",
     "text": [
      "   season    meeting  race_name  ...      Time  Laps    Gap\n",
      "0    2023  Barcelona  Main Race  ...  1:41.540  88.0    NaN\n",
      "1    2023  Barcelona  Main Race  ...  1:41.665  88.0  0.422\n",
      "2    2023  Barcelona  Main Race  ...  1:41.562  88.0  2.328\n",
      "3    2023  Barcelona  Main Race  ...  1:41.467  88.0  2.770\n",
      "4    2023  Barcelona  Main Race  ...  1:42.162  88.0  4.413\n",
      "\n",
      "[5 rows x 12 columns]\n",
      "2873\n"
     ]
    }
   ],
   "source": [
    "base_path = \".\\data_csv\"  # Update to your path\n",
    "year = 2023\n",
    "df = create_dataframe_from_races_csvs(base_path, year)\n",
    "print(df.head())\n",
    "\n",
    "print(len(df))\n"
   ]
  },
  {
   "cell_type": "code",
   "execution_count": 7,
   "metadata": {},
   "outputs": [
    {
     "name": "stdout",
     "output_type": "stream",
     "text": [
      "<class 'pandas.core.frame.DataFrame'>\n",
      "RangeIndex: 2873 entries, 0 to 2872\n",
      "Data columns (total 12 columns):\n",
      " #   Column     Non-Null Count  Dtype  \n",
      "---  ------     --------------  -----  \n",
      " 0   season     2873 non-null   int64  \n",
      " 1   meeting    2873 non-null   object \n",
      " 2   race_name  2873 non-null   object \n",
      " 3   Pos        2873 non-null   object \n",
      " 4   Car #      2873 non-null   int64  \n",
      " 5   Class      2873 non-null   object \n",
      " 6   Drivers    2873 non-null   object \n",
      " 7   Team       2873 non-null   object \n",
      " 8   Car        2873 non-null   object \n",
      " 9   Time       2805 non-null   object \n",
      " 10  Laps       2851 non-null   float64\n",
      " 11  Gap        2802 non-null   object \n",
      "dtypes: float64(1), int64(2), object(9)\n",
      "memory usage: 269.5+ KB\n"
     ]
    }
   ],
   "source": [
    "df.info()"
   ]
  }
 ],
 "metadata": {
  "kernelspec": {
   "display_name": "base",
   "language": "python",
   "name": "python3"
  },
  "language_info": {
   "codemirror_mode": {
    "name": "ipython",
    "version": 3
   },
   "file_extension": ".py",
   "mimetype": "text/x-python",
   "name": "python",
   "nbconvert_exporter": "python",
   "pygments_lexer": "ipython3",
   "version": "3.9.18"
  }
 },
 "nbformat": 4,
 "nbformat_minor": 2
}
