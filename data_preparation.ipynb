{
 "cells": [
  {
   "cell_type": "markdown",
   "metadata": {},
   "source": [
    "# Data Preparation"
   ]
  },
  {
   "cell_type": "code",
   "execution_count": 132,
   "metadata": {},
   "outputs": [],
   "source": [
    "import os\n",
    "import pandas as pd\n",
    "from pandas.api.types import CategoricalDtype"
   ]
  },
  {
   "cell_type": "code",
   "execution_count": 133,
   "metadata": {},
   "outputs": [],
   "source": [
    "def create_dataframe_from_races_csvs_multi_years(base_path, years):\n",
    "    required_columns = ['Pos', 'Car #', 'Class', 'Drivers', 'Team', 'Car', 'Time', 'Laps', 'Gap']\n",
    "    all_data = []  # List to hold all data rows\n",
    "\n",
    "    for year in years:  # Process each year in the list\n",
    "        year_path = os.path.join(base_path, str(year))  # Path to the specific year\n",
    "\n",
    "        if not os.path.exists(year_path):\n",
    "            print(f\"The directory for year {year} does not exist.\")\n",
    "            continue  # Skip to the next year if the directory doesn't exist\n",
    "\n",
    "        for meeting in os.listdir(year_path):  # Iterate through all meetings in the year\n",
    "            meeting_path = os.path.join(year_path, meeting)\n",
    "            races_path = os.path.join(meeting_path, \"Races\")  # Path to the 'Races' folder\n",
    "\n",
    "            if os.path.exists(races_path):\n",
    "                for race_file in os.listdir(races_path):  # Iterate through all race files\n",
    "                    file_path = os.path.join(races_path, race_file)\n",
    "                    try:\n",
    "                        df = pd.read_csv(file_path)\n",
    "                        if set(required_columns).issubset(df.columns):\n",
    "                            df['Season'] = year\n",
    "                            df['Meeting'] = meeting.replace(\"_\", \" \")\n",
    "                            df['Race name'] = race_file.replace(\".csv\", \"\").replace(\"_\", \" \")\n",
    "                            all_data.append(df[[\"Season\", \"Meeting\", \"Race name\"] + required_columns])\n",
    "                        else:\n",
    "                            print(f\"Skipping {file_path} due to missing required columns.\")\n",
    "                    except Exception as e:\n",
    "                        print(f\"Error reading {file_path}: {e}\")\n",
    "\n",
    "    # Concatenate all data into a single DataFrame\n",
    "    final_df = pd.concat(all_data, ignore_index=True) if all_data else pd.DataFrame()\n",
    "    return final_df\n"
   ]
  },
  {
   "cell_type": "markdown",
   "metadata": {},
   "source": [
    "## Load the Data About Races "
   ]
  },
  {
   "cell_type": "code",
   "execution_count": 134,
   "metadata": {},
   "outputs": [],
   "source": [
    "base_path = \".\\data_csv\"  # Update to your path\n",
    "years = [2021, 2022, 2023]\n",
    "all_races = create_dataframe_from_races_csvs_multi_years(base_path, years)"
   ]
  },
  {
   "cell_type": "markdown",
   "metadata": {},
   "source": [
    "## Exploratory Data Analysis (EDA)"
   ]
  },
  {
   "cell_type": "markdown",
   "metadata": {},
   "source": [
    "**`Disclaimer:`** <br>\n",
    "`I haven't found any information that explains what data these columns actually contain.`<br>\n",
    "`Next will be my guesses about the true meaning of the columns.`<br><br>\n",
    "\n",
    "\n",
    "The **raw** dataset contains information about various races, with the following columns:\n",
    "\n",
    "1. **Season**: The year the race took place;\n",
    "2. **Meeting**: The location of the meeting;\n",
    "3. **Race name**: The name of the race;\n",
    "4. **Pos**: The finishing position in the race;\n",
    "5. **Car #**: The car number;\n",
    "6. **Class**: The racing class in which a team competes in a race;\n",
    "7. **Drivers**: The names of the drivers;\n",
    "8. **Team**: The name of the team;\n",
    "9. **Car**: The make and model of the car;\n",
    "10. **Time**: Best lap time;\n",
    "11. **Laps**: The number of laps completed;\n",
    "12. **Gap**: Represent the time difference between each car and the car ahead of it, with a slight twist: <br>\n",
    "    * If a car is on the same lap as the leader of the race, the Gap shows the actual time difference. <br>\n",
    "    * If a car is one or more laps behind, the Gap resets and shows the time difference to the car ahead within the same lap, not the overall race leader.\n"
   ]
  },
  {
   "cell_type": "code",
   "execution_count": 135,
   "metadata": {},
   "outputs": [
    {
     "data": {
      "text/html": [
       "<div>\n",
       "<style scoped>\n",
       "    .dataframe tbody tr th:only-of-type {\n",
       "        vertical-align: middle;\n",
       "    }\n",
       "\n",
       "    .dataframe tbody tr th {\n",
       "        vertical-align: top;\n",
       "    }\n",
       "\n",
       "    .dataframe thead th {\n",
       "        text-align: right;\n",
       "    }\n",
       "</style>\n",
       "<table border=\"1\" class=\"dataframe\">\n",
       "  <thead>\n",
       "    <tr style=\"text-align: right;\">\n",
       "      <th></th>\n",
       "      <th>Season</th>\n",
       "      <th>Meeting</th>\n",
       "      <th>Race name</th>\n",
       "      <th>Pos</th>\n",
       "      <th>Car #</th>\n",
       "      <th>Class</th>\n",
       "      <th>Drivers</th>\n",
       "      <th>Team</th>\n",
       "      <th>Car</th>\n",
       "      <th>Time</th>\n",
       "      <th>Laps</th>\n",
       "      <th>Gap</th>\n",
       "    </tr>\n",
       "  </thead>\n",
       "  <tbody>\n",
       "    <tr>\n",
       "      <th>0</th>\n",
       "      <td>2021</td>\n",
       "      <td>Barcelona</td>\n",
       "      <td>Main Race</td>\n",
       "      <td>1</td>\n",
       "      <td>88</td>\n",
       "      <td>Pro Cup</td>\n",
       "      <td>Raffaele Marciello, Felipe Fraga, Jules Gounon</td>\n",
       "      <td>AKKA ASP</td>\n",
       "      <td>Mercedes-AMG GT3</td>\n",
       "      <td>1:47.211</td>\n",
       "      <td>95.0</td>\n",
       "      <td>NaN</td>\n",
       "    </tr>\n",
       "    <tr>\n",
       "      <th>1</th>\n",
       "      <td>2021</td>\n",
       "      <td>Barcelona</td>\n",
       "      <td>Main Race</td>\n",
       "      <td>2</td>\n",
       "      <td>54</td>\n",
       "      <td>Pro Cup</td>\n",
       "      <td>Klaus Bachler, Christian Engelhart, Matteo Cai...</td>\n",
       "      <td>Dinamic Motorsport</td>\n",
       "      <td>Porsche 911 GT3-R (991.II)</td>\n",
       "      <td>1:47.148</td>\n",
       "      <td>95.0</td>\n",
       "      <td>2.174</td>\n",
       "    </tr>\n",
       "    <tr>\n",
       "      <th>2</th>\n",
       "      <td>2021</td>\n",
       "      <td>Barcelona</td>\n",
       "      <td>Main Race</td>\n",
       "      <td>3</td>\n",
       "      <td>32</td>\n",
       "      <td>Pro Cup</td>\n",
       "      <td>Dries Vanthoor, Robin Frijns, Charles Weerts</td>\n",
       "      <td>Team WRT</td>\n",
       "      <td>Audi R8 LMS GT3</td>\n",
       "      <td>1:47.612</td>\n",
       "      <td>95.0</td>\n",
       "      <td>4.036</td>\n",
       "    </tr>\n",
       "    <tr>\n",
       "      <th>3</th>\n",
       "      <td>2021</td>\n",
       "      <td>Barcelona</td>\n",
       "      <td>Main Race</td>\n",
       "      <td>4</td>\n",
       "      <td>63</td>\n",
       "      <td>Pro Cup</td>\n",
       "      <td>Mirko Bortolotti, Marco Mapelli, Andrea Caldar...</td>\n",
       "      <td>Orange 1 FFF Racing Team</td>\n",
       "      <td>Lamborghini Huracan GT3 Evo</td>\n",
       "      <td>1:47.027</td>\n",
       "      <td>95.0</td>\n",
       "      <td>9.511</td>\n",
       "    </tr>\n",
       "    <tr>\n",
       "      <th>4</th>\n",
       "      <td>2021</td>\n",
       "      <td>Barcelona</td>\n",
       "      <td>Main Race</td>\n",
       "      <td>5</td>\n",
       "      <td>4</td>\n",
       "      <td>Pro Cup</td>\n",
       "      <td>Maro Engel, Luca Stolz, Nico Bastian</td>\n",
       "      <td>HRT</td>\n",
       "      <td>Mercedes-AMG GT3</td>\n",
       "      <td>1:47.588</td>\n",
       "      <td>95.0</td>\n",
       "      <td>9.984</td>\n",
       "    </tr>\n",
       "  </tbody>\n",
       "</table>\n",
       "</div>"
      ],
      "text/plain": [
       "   Season    Meeting  Race name  ...      Time  Laps    Gap\n",
       "0    2021  Barcelona  Main Race  ...  1:47.211  95.0    NaN\n",
       "1    2021  Barcelona  Main Race  ...  1:47.148  95.0  2.174\n",
       "2    2021  Barcelona  Main Race  ...  1:47.612  95.0  4.036\n",
       "3    2021  Barcelona  Main Race  ...  1:47.027  95.0  9.511\n",
       "4    2021  Barcelona  Main Race  ...  1:47.588  95.0  9.984\n",
       "\n",
       "[5 rows x 12 columns]"
      ]
     },
     "execution_count": 135,
     "metadata": {},
     "output_type": "execute_result"
    }
   ],
   "source": [
    "all_races.head()"
   ]
  },
  {
   "cell_type": "markdown",
   "metadata": {},
   "source": [
    "### Data Types and Missing Values\n",
    "\n",
    "Data Types should be:\n",
    "\n",
    "1. **Season**: is a numerical and discrete variable, it should be represented as **integer**;\n",
    "2. **Meeting**: is categorical and nominal variable, it should be represented as **object**;\n",
    "3. **Race name**: is categorical and nominal variable, it should be represented as **object**;\n",
    "4. **Pos**: is categorical and ordinal variable, it should be represented as **integer**;\n",
    "5. **Car #**: is categorical and discrete variable, it should be represented as **integer**;\n",
    "6. **Class**: is categorical and ordinal variable, it should be represented as **category**;\n",
    "7. **Drivers**: is categorical and nominal variable, it should be represented as **object**;\n",
    "8. **Team**: is categorical and nominal variable, it should be represented as **object**;\n",
    "9. **Car**: is categorical and nominal variable, it should be represented as **object**;\n",
    "10. **Time**: is numerical and continuous variable, it should be represented as **timedelta**;\n",
    "11. **Laps**: is a numerical and discrete variable, it should be represented as **integer**;\n",
    "12. **Gap**: is numerical and continuous variable, it should be represented as **timedelta**;"
   ]
  },
  {
   "cell_type": "code",
   "execution_count": 136,
   "metadata": {},
   "outputs": [
    {
     "name": "stdout",
     "output_type": "stream",
     "text": [
      "<class 'pandas.core.frame.DataFrame'>\n",
      "RangeIndex: 7606 entries, 0 to 7605\n",
      "Data columns (total 12 columns):\n",
      " #   Column     Non-Null Count  Dtype  \n",
      "---  ------     --------------  -----  \n",
      " 0   Season     7606 non-null   int64  \n",
      " 1   Meeting    7606 non-null   object \n",
      " 2   Race name  7606 non-null   object \n",
      " 3   Pos        7606 non-null   object \n",
      " 4   Car #      7606 non-null   int64  \n",
      " 5   Class      7606 non-null   object \n",
      " 6   Drivers    7606 non-null   object \n",
      " 7   Team       7606 non-null   object \n",
      " 8   Car        7606 non-null   object \n",
      " 9   Time       7467 non-null   object \n",
      " 10  Laps       7533 non-null   float64\n",
      " 11  Gap        7389 non-null   object \n",
      "dtypes: float64(1), int64(2), object(9)\n",
      "memory usage: 713.2+ KB\n"
     ]
    }
   ],
   "source": [
    "all_races.info()"
   ]
  },
  {
   "cell_type": "markdown",
   "metadata": {},
   "source": [
    "##### Columns data types that differ from the required data type\n",
    "\n",
    "4.   Pos        7606 non-null   object, should be int;\n",
    "6.   Class      7606 non-null   object, should be category;\n",
    "10.   Time       7467 non-null   object, should be timedelta;\n",
    "11.  Laps       7533 non-null   float64, should be integer;\n",
    "12.  Gap        7389 non-null   object, should be timedelta.\n",
    "\n",
    "\n",
    "##### Missing Values\n",
    "\n",
    "Columns that contain missing values:\n",
    "\n",
    "10.   Time       7467 non-null   object; \n",
    "11.  Laps       7533 non-null   float64;\n",
    "12.  Gap        7389 non-null   object.\n",
    "\n"
   ]
  },
  {
   "cell_type": "markdown",
   "metadata": {},
   "source": [
    "### Inspecting and fix columns"
   ]
  },
  {
   "cell_type": "markdown",
   "metadata": {},
   "source": [
    "#### 1. Pos\n",
    "Column `'Pos'` is object, it's mean that most likely it contains non digit values. Then inspect column and select all not digit values."
   ]
  },
  {
   "cell_type": "code",
   "execution_count": 137,
   "metadata": {},
   "outputs": [
    {
     "name": "stdout",
     "output_type": "stream",
     "text": [
      "   Pos  count\n",
      "0   NC    286\n",
      "1  DSQ      1\n"
     ]
    }
   ],
   "source": [
    "print(all_races[all_races['Pos'].str.contains('\\D', regex=True, na=False)]['Pos'].value_counts().reset_index())"
   ]
  },
  {
   "cell_type": "markdown",
   "metadata": {},
   "source": [
    "Next delete all row that contain 'NC' (Not Classified) and 'DSQ' (Disqualified).\n",
    "\n",
    "'Not Classified': This is a term used to refer to competitors who do not meet certain criteria for classification in the final results of a race or event."
   ]
  },
  {
   "cell_type": "code",
   "execution_count": 138,
   "metadata": {},
   "outputs": [],
   "source": [
    "all_races = all_races.loc[~all_races['Pos'].isin(['NC', 'DSQ'])]\n",
    "all_races.reset_index(drop=True, inplace=True)"
   ]
  },
  {
   "cell_type": "markdown",
   "metadata": {},
   "source": [
    "Change 'Pos' datatype from object to int"
   ]
  },
  {
   "cell_type": "code",
   "execution_count": 139,
   "metadata": {},
   "outputs": [],
   "source": [
    "all_races.loc[:, 'Pos'] = all_races['Pos'].astype('int64')"
   ]
  },
  {
   "cell_type": "markdown",
   "metadata": {},
   "source": [
    "#### 2. Class\n",
    "Column `'Class'` is object, but we will change it to category."
   ]
  },
  {
   "cell_type": "code",
   "execution_count": 140,
   "metadata": {},
   "outputs": [
    {
     "name": "stdout",
     "output_type": "stream",
     "text": [
      "          Class  count\n",
      "0       Pro Cup   2614\n",
      "1    Silver Cup   1870\n",
      "2    Pro-AM Cup   1042\n",
      "3      Gold Cup    827\n",
      "4    Bronze Cup    823\n",
      "5    Pro-Am Cup     72\n",
      "6        AM Cup     44\n",
      "7        Bronze     21\n",
      "8  Invitational      6\n"
     ]
    }
   ],
   "source": [
    "print(all_races['Class'].value_counts().reset_index())"
   ]
  },
  {
   "cell_type": "markdown",
   "metadata": {},
   "source": [
    "Change 'Pro-AM Cup' to 'Pro-Am Cup'. \n",
    "\n",
    "And 'AM Cup' change to 'Am Cup' for the sake of uniformity. \n",
    "\n",
    "And 'Bronze ' change to 'Bronze Cup' according to racing compliance."
   ]
  },
  {
   "cell_type": "code",
   "execution_count": 141,
   "metadata": {},
   "outputs": [
    {
     "name": "stdout",
     "output_type": "stream",
     "text": [
      "          Class  count\n",
      "0       Pro Cup   2614\n",
      "1    Silver Cup   1870\n",
      "2    Pro-Am Cup   1114\n",
      "3    Bronze Cup    844\n",
      "4      Gold Cup    827\n",
      "5        Am Cup     44\n",
      "6  Invitational      6\n"
     ]
    }
   ],
   "source": [
    "all_races['Class'] = all_races['Class'].replace({'Pro-AM Cup': 'Pro-Am Cup', 'AM Cup': 'Am Cup', 'Bronze': 'Bronze Cup'})\n",
    "\n",
    "print(all_races['Class'].value_counts().reset_index())"
   ]
  },
  {
   "cell_type": "markdown",
   "metadata": {},
   "source": [
    "Determining the order of categories and changing data type."
   ]
  },
  {
   "cell_type": "code",
   "execution_count": 148,
   "metadata": {},
   "outputs": [],
   "source": [
    "# Determine the order for the main categories\n",
    "cat_type = CategoricalDtype(categories=[\n",
    "    'Pro Cup', 'Gold Cup', 'Silver Cup', 'Pro-Am Cup', 'Bronze Cup', 'Am Cup', 'Invitational'\n",
    "], ordered=True)\n",
    "# Change the data type of the 'Class' column\n",
    "all_races['Class'] = all_races['Class'].astype(cat_type)\n",
    "\n",
    "all_races.insert(loc=6, column='Special Class', value=False)\n",
    "# Indicate that 'Invitational' is a special class\n",
    "all_races.loc[all_races['Class'] == 'Invitational', 'Special Class'] = True"
   ]
  },
  {
   "cell_type": "code",
   "execution_count": 158,
   "metadata": {},
   "outputs": [
    {
     "name": "stdout",
     "output_type": "stream",
     "text": [
      "8      Invitational\n",
      "15     Invitational\n",
      "52     Invitational\n",
      "58     Invitational\n",
      "98     Invitational\n",
      "105    Invitational\n",
      "Name: Class, dtype: category\n",
      "Categories (7, object): ['Pro Cup' < 'Gold Cup' < 'Silver Cup' < 'Pro-Am Cup' < 'Bronze Cup' < 'Am Cup' < 'Invitational']\n"
     ]
    }
   ],
   "source": [
    "print(all_races[all_races['Special Class'] == True]['Class'])"
   ]
  },
  {
   "cell_type": "markdown",
   "metadata": {},
   "source": [
    "all_races"
   ]
  },
  {
   "cell_type": "markdown",
   "metadata": {},
   "source": [
    "#### 1. Season"
   ]
  },
  {
   "cell_type": "code",
   "execution_count": 145,
   "metadata": {},
   "outputs": [
    {
     "name": "stdout",
     "output_type": "stream",
     "text": [
      "[2021 2022 2023]\n"
     ]
    }
   ],
   "source": [
    "print(all_races['Season'].unique())"
   ]
  },
  {
   "cell_type": "markdown",
   "metadata": {},
   "source": [
    "#### 2. Meeting"
   ]
  },
  {
   "cell_type": "code",
   "execution_count": 146,
   "metadata": {},
   "outputs": [
    {
     "name": "stdout",
     "output_type": "stream",
     "text": [
      "['Barcelona' 'Brands Hatch' 'Circuit Paul Ricard 1000Km' 'Magny-Cours'\n",
      " 'Misano' 'Monza' 'Nürburgring' 'TotalEnergies 24 Hours of Spa' 'Valencia'\n",
      " 'Zandvoort' 'Hockenheim' 'Imola' 'CrowdStrike 24 Hours of Spa']\n"
     ]
    }
   ],
   "source": [
    "print(all_races['Meeting'].unique())"
   ]
  },
  {
   "cell_type": "code",
   "execution_count": 147,
   "metadata": {},
   "outputs": [
    {
     "name": "stdout",
     "output_type": "stream",
     "text": [
      "          Class  count\n",
      "0       Pro Cup   2614\n",
      "1    Silver Cup   1870\n",
      "2    Pro-Am Cup   1114\n",
      "3    Bronze Cup    844\n",
      "4      Gold Cup    827\n",
      "5        Am Cup     44\n",
      "6  Invitational      6\n"
     ]
    }
   ],
   "source": [
    "print(all_races['Class'].value_counts().reset_index())\n"
   ]
  }
 ],
 "metadata": {
  "kernelspec": {
   "display_name": "base",
   "language": "python",
   "name": "python3"
  },
  "language_info": {
   "codemirror_mode": {
    "name": "ipython",
    "version": 3
   },
   "file_extension": ".py",
   "mimetype": "text/x-python",
   "name": "python",
   "nbconvert_exporter": "python",
   "pygments_lexer": "ipython3",
   "version": "3.9.18"
  }
 },
 "nbformat": 4,
 "nbformat_minor": 2
}
