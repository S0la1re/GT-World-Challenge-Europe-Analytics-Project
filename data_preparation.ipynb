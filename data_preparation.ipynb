{
 "cells": [
  {
   "cell_type": "markdown",
   "metadata": {},
   "source": [
    "# **Racing Data Cleaning Project**\n",
    "\n",
    "\n",
    "## **1\\. Introduction**\n",
    "\n",
    "The goal of this project is to clean and prepare race data for later analysis. Main tasks include:\n",
    "- Removing unnecessary data and duplicates.\n",
    "- Handling missing values.\n",
    "- Correction of data formats."
   ]
  },
  {
   "cell_type": "markdown",
   "metadata": {},
   "source": [
    "## **2\\. Load libraries**"
   ]
  },
  {
   "cell_type": "code",
   "execution_count": 1,
   "metadata": {},
   "outputs": [],
   "source": [
    "import os\n",
    "import re\n",
    "import pandas as pd\n",
    "from pandas.api.types import CategoricalDtype"
   ]
  },
  {
   "cell_type": "markdown",
   "metadata": {},
   "source": [
    "## **3\\. Load data**\n",
    "\n",
    "Here we load the data from various CSV files. Each file corresponds to a specific race.\n",
    "We combine them into one DataFrame to simplify analysis."
   ]
  },
  {
   "cell_type": "code",
   "execution_count": 2,
   "metadata": {},
   "outputs": [],
   "source": [
    "def create_dataframe_from_events(base_path, years, event_type):\n",
    "    if event_type == \"Races\":\n",
    "        required_columns = ['Pos', 'Car #', 'Class', 'Drivers', 'Team', 'Car', 'Time', 'Laps', 'Gap']\n",
    "        folder_name = \"Races\"\n",
    "    elif event_type == \"Qualifications\":\n",
    "        required_columns = ['Pos', 'Car #', 'Class', 'Drivers', 'Team', 'Car', 'Time', 'Laps', 'Gap']\n",
    "        folder_name = \"Qualifications\"\n",
    "    else:\n",
    "        raise ValueError(\"Invalid event type provided. Choose 'Races' or 'Qualifications'.\")\n",
    "\n",
    "    all_data = []  # List to hold all data rows\n",
    "\n",
    "    for year in years:  # Process each year in the list\n",
    "        year_path = os.path.join(base_path, str(year))  # Path to the specific year\n",
    "\n",
    "        if not os.path.exists(year_path):\n",
    "            print(f\"The directory for year {year} does not exist.\")\n",
    "            continue  # Skip to the next year if the directory doesn't exist\n",
    "\n",
    "        for meeting in os.listdir(year_path):  # Iterate through all meetings in the year\n",
    "            meeting_path = os.path.join(year_path, meeting)\n",
    "            event_path = os.path.join(meeting_path, folder_name)  # Path to the 'Races' or 'Qualifications' folder\n",
    "\n",
    "            if os.path.exists(event_path):\n",
    "                for event_file in os.listdir(event_path):  # Iterate through all files in the specified folder\n",
    "                    file_path = os.path.join(event_path, event_file)\n",
    "                    try:\n",
    "                        df = pd.read_csv(file_path)\n",
    "                        if set(required_columns).issubset(df.columns):\n",
    "                            df['Season'] = year\n",
    "                            df['Meeting'] = meeting.replace(\"_\", \" \")\n",
    "                            df['Event name'] = event_file.replace(\".csv\", \"\").replace(\"_\", \" \")\n",
    "                            all_data.append(df[['Season', 'Meeting', 'Event name'] + required_columns])\n",
    "                        else:\n",
    "                            print(f\"Skipping {file_path} due to missing required columns.\")\n",
    "                    except Exception as e:\n",
    "                        print(f\"Error reading {file_path}: {e}\")\n",
    "\n",
    "    # Concatenate all data into a single DataFrame\n",
    "    final_df = pd.concat(all_data, ignore_index=True) if all_data else pd.DataFrame()\n",
    "    return final_df"
   ]
  },
  {
   "cell_type": "code",
   "execution_count": 3,
   "metadata": {},
   "outputs": [],
   "source": [
    "path = \".\\data_csv\" \n",
    "years = [2021, 2022, 2023]\n",
    "all_races = create_dataframe_from_events(path, years, \"Races\")"
   ]
  },
  {
   "cell_type": "markdown",
   "metadata": {},
   "source": [
    "## **4\\. Initial data exploration**\n",
    "\n",
    "After loading the data, it's important to explore the first few entries. This helps us understand the structure of the data and identify any obvious issues such as missing values."
   ]
  },
  {
   "cell_type": "code",
   "execution_count": 4,
   "metadata": {},
   "outputs": [
    {
     "data": {
      "text/html": [
       "<div>\n",
       "<style scoped>\n",
       "    .dataframe tbody tr th:only-of-type {\n",
       "        vertical-align: middle;\n",
       "    }\n",
       "\n",
       "    .dataframe tbody tr th {\n",
       "        vertical-align: top;\n",
       "    }\n",
       "\n",
       "    .dataframe thead th {\n",
       "        text-align: right;\n",
       "    }\n",
       "</style>\n",
       "<table border=\"1\" class=\"dataframe\">\n",
       "  <thead>\n",
       "    <tr style=\"text-align: right;\">\n",
       "      <th></th>\n",
       "      <th>Season</th>\n",
       "      <th>Meeting</th>\n",
       "      <th>Event name</th>\n",
       "      <th>Pos</th>\n",
       "      <th>Car #</th>\n",
       "      <th>Class</th>\n",
       "      <th>Drivers</th>\n",
       "      <th>Team</th>\n",
       "      <th>Car</th>\n",
       "      <th>Time</th>\n",
       "      <th>Laps</th>\n",
       "      <th>Gap</th>\n",
       "    </tr>\n",
       "  </thead>\n",
       "  <tbody>\n",
       "    <tr>\n",
       "      <th>0</th>\n",
       "      <td>2021</td>\n",
       "      <td>Barcelona</td>\n",
       "      <td>Main Race</td>\n",
       "      <td>1</td>\n",
       "      <td>88</td>\n",
       "      <td>Pro Cup</td>\n",
       "      <td>Raffaele Marciello, Felipe Fraga, Jules Gounon</td>\n",
       "      <td>AKKA ASP</td>\n",
       "      <td>Mercedes-AMG GT3</td>\n",
       "      <td>1:47.211</td>\n",
       "      <td>95.0</td>\n",
       "      <td>NaN</td>\n",
       "    </tr>\n",
       "    <tr>\n",
       "      <th>1</th>\n",
       "      <td>2021</td>\n",
       "      <td>Barcelona</td>\n",
       "      <td>Main Race</td>\n",
       "      <td>2</td>\n",
       "      <td>54</td>\n",
       "      <td>Pro Cup</td>\n",
       "      <td>Klaus Bachler, Christian Engelhart, Matteo Cai...</td>\n",
       "      <td>Dinamic Motorsport</td>\n",
       "      <td>Porsche 911 GT3-R (991.II)</td>\n",
       "      <td>1:47.148</td>\n",
       "      <td>95.0</td>\n",
       "      <td>2.174</td>\n",
       "    </tr>\n",
       "    <tr>\n",
       "      <th>2</th>\n",
       "      <td>2021</td>\n",
       "      <td>Barcelona</td>\n",
       "      <td>Main Race</td>\n",
       "      <td>3</td>\n",
       "      <td>32</td>\n",
       "      <td>Pro Cup</td>\n",
       "      <td>Dries Vanthoor, Robin Frijns, Charles Weerts</td>\n",
       "      <td>Team WRT</td>\n",
       "      <td>Audi R8 LMS GT3</td>\n",
       "      <td>1:47.612</td>\n",
       "      <td>95.0</td>\n",
       "      <td>4.036</td>\n",
       "    </tr>\n",
       "    <tr>\n",
       "      <th>3</th>\n",
       "      <td>2021</td>\n",
       "      <td>Barcelona</td>\n",
       "      <td>Main Race</td>\n",
       "      <td>4</td>\n",
       "      <td>63</td>\n",
       "      <td>Pro Cup</td>\n",
       "      <td>Mirko Bortolotti, Marco Mapelli, Andrea Caldar...</td>\n",
       "      <td>Orange 1 FFF Racing Team</td>\n",
       "      <td>Lamborghini Huracan GT3 Evo</td>\n",
       "      <td>1:47.027</td>\n",
       "      <td>95.0</td>\n",
       "      <td>9.511</td>\n",
       "    </tr>\n",
       "    <tr>\n",
       "      <th>4</th>\n",
       "      <td>2021</td>\n",
       "      <td>Barcelona</td>\n",
       "      <td>Main Race</td>\n",
       "      <td>5</td>\n",
       "      <td>4</td>\n",
       "      <td>Pro Cup</td>\n",
       "      <td>Maro Engel, Luca Stolz, Nico Bastian</td>\n",
       "      <td>HRT</td>\n",
       "      <td>Mercedes-AMG GT3</td>\n",
       "      <td>1:47.588</td>\n",
       "      <td>95.0</td>\n",
       "      <td>9.984</td>\n",
       "    </tr>\n",
       "  </tbody>\n",
       "</table>\n",
       "</div>"
      ],
      "text/plain": [
       "   Season    Meeting Event name  ...      Time  Laps    Gap\n",
       "0    2021  Barcelona  Main Race  ...  1:47.211  95.0    NaN\n",
       "1    2021  Barcelona  Main Race  ...  1:47.148  95.0  2.174\n",
       "2    2021  Barcelona  Main Race  ...  1:47.612  95.0  4.036\n",
       "3    2021  Barcelona  Main Race  ...  1:47.027  95.0  9.511\n",
       "4    2021  Barcelona  Main Race  ...  1:47.588  95.0  9.984\n",
       "\n",
       "[5 rows x 12 columns]"
      ]
     },
     "execution_count": 4,
     "metadata": {},
     "output_type": "execute_result"
    }
   ],
   "source": [
    "all_races.head()"
   ]
  },
  {
   "cell_type": "markdown",
   "metadata": {},
   "source": [
    "The dataset contains information about various races, with the following columns:\n",
    "1. `Season`: The year the race took place;\n",
    "2. `Meeting`: The location of the meeting;\n",
    "3. `Race name`: The name of the race;\n",
    "4. `Pos`: The finishing position in the race;\n",
    "5. `Car #`: The car number;\n",
    "6. `Class`: The racing class in which a team competes in a race;\n",
    "7. `Drivers`: The names of the drivers;\n",
    "8. `Team`: The name of the team;\n",
    "9. `Car`: The make and model of the car;\n",
    "10. `Time`: Best lap time;\n",
    "11. `Laps`: The number of laps completed;\n",
    "12. `Gap`: Represent the time difference between each car and the car ahead of it, with a slight twist: <br>\n",
    "    * If a car is on the same lap as the leader of the race, the Gap shows the actual time difference. <br>\n",
    "    * If a car is one or more laps behind, the Gap resets and shows the time difference to the car ahead within the same lap, not the overall race leader.\n",
    "    * `Gap` also stores negative values, according to my assumptions this means that the participant dropped out of the race.\n"
   ]
  },
  {
   "cell_type": "markdown",
   "metadata": {},
   "source": [
    "### **4.1. Data types and missing values**\n",
    "\n",
    "Let's get information about missing values and data types.\n",
    "\n",
    "Data Types should be:\n",
    "1. `Season`: is a numerical and discrete variable, it should be represented as **integer**;\n",
    "2. `Meeting`: is categorical and nominal variable, it should be represented as **object**;\n",
    "3. `Race name`: is categorical and nominal variable, it should be represented as **object**;\n",
    "4. `Pos`: is categorical and ordinal variable, it should be represented as **integer**;\n",
    "5. `Car #`: is categorical and discrete variable, it should be represented as **integer**;\n",
    "6. `Class`: is categorical and ordinal variable, it should be represented as **category**;\n",
    "7. `Drivers`: is categorical and nominal variable, it should be represented as **object**;\n",
    "8. `Team`: is categorical and nominal variable, it should be represented as **object**;\n",
    "9. `Car`: is categorical and nominal variable, it should be represented as **object**;\n",
    "10. `Time`: is numerical and continuous variable, it should be represented as **timedelta**;\n",
    "11. `Laps`: is a numerical and discrete variable, it should be represented as **integer**;\n",
    "12. `Gap`: is numerical and continuous variable, it should be represented as **timedelta**;"
   ]
  },
  {
   "cell_type": "code",
   "execution_count": 5,
   "metadata": {},
   "outputs": [
    {
     "name": "stdout",
     "output_type": "stream",
     "text": [
      "<class 'pandas.core.frame.DataFrame'>\n",
      "RangeIndex: 7606 entries, 0 to 7605\n",
      "Data columns (total 12 columns):\n",
      " #   Column      Non-Null Count  Dtype  \n",
      "---  ------      --------------  -----  \n",
      " 0   Season      7606 non-null   int64  \n",
      " 1   Meeting     7606 non-null   object \n",
      " 2   Event name  7606 non-null   object \n",
      " 3   Pos         7606 non-null   object \n",
      " 4   Car #       7606 non-null   int64  \n",
      " 5   Class       7606 non-null   object \n",
      " 6   Drivers     7606 non-null   object \n",
      " 7   Team        7606 non-null   object \n",
      " 8   Car         7606 non-null   object \n",
      " 9   Time        7467 non-null   object \n",
      " 10  Laps        7533 non-null   float64\n",
      " 11  Gap         7389 non-null   object \n",
      "dtypes: float64(1), int64(2), object(9)\n",
      "memory usage: 713.2+ KB\n"
     ]
    }
   ],
   "source": [
    "all_races.info()"
   ]
  },
  {
   "cell_type": "markdown",
   "metadata": {},
   "source": [
    "#### **4.1.1. Сolumns With Inappropriate Data Types**\n",
    "\n",
    "3\\. `Pos` is an object, should be an int;<br>\n",
    "5\\. `Class` is an object, should be a category;<br>\n",
    "9\\. `Time` is an object, should be a timedelta;<br>\n",
    "10\\. `Laps` is a float64, should be an integer;<br>\n",
    "11\\. `Gap` is an object, should be a timedelta.<br>"
   ]
  },
  {
   "cell_type": "markdown",
   "metadata": {},
   "source": [
    "#### **4.1.2. Columns With Missing Values**\n",
    "\n",
    "If a column contains non-null values that not equal to RangeIndex, in our case 7606, this means that the column contain missing values.\n",
    "\n",
    "9\\. `Time` contain 7467 non-null rows;<br>\n",
    "10\\. `Laps` contain 7533 non-null rows;<br>\n",
    "11\\. `Gap` contain 7389 non-null rows.<br>"
   ]
  },
  {
   "cell_type": "markdown",
   "metadata": {},
   "source": [
    "#### **4.1.3. Duplicates**"
   ]
  },
  {
   "cell_type": "code",
   "execution_count": 6,
   "metadata": {},
   "outputs": [
    {
     "data": {
      "text/plain": [
       "False    7606\n",
       "Name: count, dtype: int64"
      ]
     },
     "execution_count": 6,
     "metadata": {},
     "output_type": "execute_result"
    }
   ],
   "source": [
    "all_races.duplicated().value_counts()"
   ]
  },
  {
   "cell_type": "markdown",
   "metadata": {},
   "source": [
    "We got 0 duplicates."
   ]
  },
  {
   "cell_type": "markdown",
   "metadata": {},
   "source": [
    "## **5\\. Checking and correcting columns**"
   ]
  },
  {
   "cell_type": "markdown",
   "metadata": {},
   "source": [
    "### **5.1. Pos column**\n",
    "\n",
    "The `Pos` (Position) column is expected to contain numeric values representing the finishing position of competitors in a race. However, it's currently of type object, suggesting the presence of non-numeric entries."
   ]
  },
  {
   "cell_type": "markdown",
   "metadata": {},
   "source": [
    "#### **5.1.1. Identifying Non-numeric Entries**\n",
    "\n",
    "Firstly, we identify any non-numeric entries that may indicate special cases such as disqualifications."
   ]
  },
  {
   "cell_type": "code",
   "execution_count": 7,
   "metadata": {},
   "outputs": [
    {
     "data": {
      "text/html": [
       "<div>\n",
       "<style scoped>\n",
       "    .dataframe tbody tr th:only-of-type {\n",
       "        vertical-align: middle;\n",
       "    }\n",
       "\n",
       "    .dataframe tbody tr th {\n",
       "        vertical-align: top;\n",
       "    }\n",
       "\n",
       "    .dataframe thead th {\n",
       "        text-align: right;\n",
       "    }\n",
       "</style>\n",
       "<table border=\"1\" class=\"dataframe\">\n",
       "  <thead>\n",
       "    <tr style=\"text-align: right;\">\n",
       "      <th></th>\n",
       "      <th>Pos</th>\n",
       "      <th>count</th>\n",
       "    </tr>\n",
       "  </thead>\n",
       "  <tbody>\n",
       "    <tr>\n",
       "      <th>0</th>\n",
       "      <td>NC</td>\n",
       "      <td>286</td>\n",
       "    </tr>\n",
       "    <tr>\n",
       "      <th>1</th>\n",
       "      <td>DSQ</td>\n",
       "      <td>1</td>\n",
       "    </tr>\n",
       "  </tbody>\n",
       "</table>\n",
       "</div>"
      ],
      "text/plain": [
       "   Pos  count\n",
       "0   NC    286\n",
       "1  DSQ      1"
      ]
     },
     "execution_count": 7,
     "metadata": {},
     "output_type": "execute_result"
    }
   ],
   "source": [
    "# Display unique non-numeric entries in the 'Pos' column\n",
    "all_races[all_races['Pos'].str.contains('\\D', regex=True, na=False)]['Pos'].value_counts().reset_index()"
   ]
  },
  {
   "cell_type": "markdown",
   "metadata": {},
   "source": [
    "This returns the following special entries:\n",
    "\n",
    "- 'NC' (Not Classified): Refers to competitors who did not meet the classification criteria.\n",
    "- 'DSQ' (Disqualified): Refers to competitors who were disqualified."
   ]
  },
  {
   "cell_type": "markdown",
   "metadata": {},
   "source": [
    "#### **5.1.2. Handling Special Cases**\n",
    "Next, we handle these entries by removing rows with 'NC' and 'DSQ'. It's crucial to remove these to maintain the integrity of the numeric data, plus we don't need this data for our analysis purposes."
   ]
  },
  {
   "cell_type": "code",
   "execution_count": 8,
   "metadata": {},
   "outputs": [],
   "source": [
    "# Remove rows with 'NC' and 'DSQ' from the dataset\n",
    "all_races = all_races.loc[~all_races['Pos'].isin(['NC', 'DSQ'])]\n",
    "all_races.reset_index(drop=True, inplace=True)"
   ]
  },
  {
   "cell_type": "markdown",
   "metadata": {},
   "source": [
    "#### **5.1.3.Converting Data Type**\n",
    "\n",
    "Finally, we convert the `Pos` column to an integer type."
   ]
  },
  {
   "cell_type": "code",
   "execution_count": 9,
   "metadata": {},
   "outputs": [
    {
     "data": {
      "text/plain": [
       "dtype('int64')"
      ]
     },
     "execution_count": 9,
     "metadata": {},
     "output_type": "execute_result"
    }
   ],
   "source": [
    "# Convert the 'Pos' column to an integer data type\n",
    "\n",
    "all_races['Pos'] = pd.to_numeric(all_races['Pos'], errors='coerce')\n",
    "\n",
    "all_races['Pos'].dtype"
   ]
  },
  {
   "cell_type": "markdown",
   "metadata": {},
   "source": [
    "### **5.2. Class column**\n",
    "The `Class` column in our dataset categorizes the racing classes but is currently typed as an object, indicating mixed data types. For clarity and consistency, it's beneficial to convert this column to a categorical type. This not only saves memory but also sets the stage for any order-based analysis we might want to perform later."
   ]
  },
  {
   "cell_type": "markdown",
   "metadata": {},
   "source": [
    "#### **5.2.1. Identifying Unique Classes**\n",
    "We start by examining the unique values within the `Class` column:"
   ]
  },
  {
   "cell_type": "code",
   "execution_count": 10,
   "metadata": {},
   "outputs": [
    {
     "data": {
      "text/html": [
       "<div>\n",
       "<style scoped>\n",
       "    .dataframe tbody tr th:only-of-type {\n",
       "        vertical-align: middle;\n",
       "    }\n",
       "\n",
       "    .dataframe tbody tr th {\n",
       "        vertical-align: top;\n",
       "    }\n",
       "\n",
       "    .dataframe thead th {\n",
       "        text-align: right;\n",
       "    }\n",
       "</style>\n",
       "<table border=\"1\" class=\"dataframe\">\n",
       "  <thead>\n",
       "    <tr style=\"text-align: right;\">\n",
       "      <th></th>\n",
       "      <th>Class</th>\n",
       "      <th>count</th>\n",
       "    </tr>\n",
       "  </thead>\n",
       "  <tbody>\n",
       "    <tr>\n",
       "      <th>0</th>\n",
       "      <td>Pro Cup</td>\n",
       "      <td>2614</td>\n",
       "    </tr>\n",
       "    <tr>\n",
       "      <th>1</th>\n",
       "      <td>Silver Cup</td>\n",
       "      <td>1870</td>\n",
       "    </tr>\n",
       "    <tr>\n",
       "      <th>2</th>\n",
       "      <td>Pro-AM Cup</td>\n",
       "      <td>1042</td>\n",
       "    </tr>\n",
       "    <tr>\n",
       "      <th>3</th>\n",
       "      <td>Gold Cup</td>\n",
       "      <td>827</td>\n",
       "    </tr>\n",
       "    <tr>\n",
       "      <th>4</th>\n",
       "      <td>Bronze Cup</td>\n",
       "      <td>823</td>\n",
       "    </tr>\n",
       "    <tr>\n",
       "      <th>5</th>\n",
       "      <td>Pro-Am Cup</td>\n",
       "      <td>72</td>\n",
       "    </tr>\n",
       "    <tr>\n",
       "      <th>6</th>\n",
       "      <td>AM Cup</td>\n",
       "      <td>44</td>\n",
       "    </tr>\n",
       "    <tr>\n",
       "      <th>7</th>\n",
       "      <td>Bronze</td>\n",
       "      <td>21</td>\n",
       "    </tr>\n",
       "    <tr>\n",
       "      <th>8</th>\n",
       "      <td>Invitational</td>\n",
       "      <td>6</td>\n",
       "    </tr>\n",
       "  </tbody>\n",
       "</table>\n",
       "</div>"
      ],
      "text/plain": [
       "          Class  count\n",
       "0       Pro Cup   2614\n",
       "1    Silver Cup   1870\n",
       "2    Pro-AM Cup   1042\n",
       "3      Gold Cup    827\n",
       "4    Bronze Cup    823\n",
       "5    Pro-Am Cup     72\n",
       "6        AM Cup     44\n",
       "7        Bronze     21\n",
       "8  Invitational      6"
      ]
     },
     "execution_count": 10,
     "metadata": {},
     "output_type": "execute_result"
    }
   ],
   "source": [
    "# Display the unique values in the 'Class' column and their counts\n",
    "all_races['Class'].value_counts().reset_index()"
   ]
  },
  {
   "cell_type": "markdown",
   "metadata": {},
   "source": [
    "This reveals various classes, including 'Pro Cup', 'Silver Cup', and others. However, we notice some inconsistencies in naming conventions which could lead to misinterpretation of the data."
   ]
  },
  {
   "cell_type": "markdown",
   "metadata": {},
   "source": [
    "#### **5.2.2. Renaming for Consistency**\n",
    "\n",
    "To address these inconsistencies, we proceed to normalize the naming convention across the different classes:"
   ]
  },
  {
   "cell_type": "code",
   "execution_count": 11,
   "metadata": {},
   "outputs": [
    {
     "data": {
      "text/html": [
       "<div>\n",
       "<style scoped>\n",
       "    .dataframe tbody tr th:only-of-type {\n",
       "        vertical-align: middle;\n",
       "    }\n",
       "\n",
       "    .dataframe tbody tr th {\n",
       "        vertical-align: top;\n",
       "    }\n",
       "\n",
       "    .dataframe thead th {\n",
       "        text-align: right;\n",
       "    }\n",
       "</style>\n",
       "<table border=\"1\" class=\"dataframe\">\n",
       "  <thead>\n",
       "    <tr style=\"text-align: right;\">\n",
       "      <th></th>\n",
       "      <th>Class</th>\n",
       "      <th>count</th>\n",
       "    </tr>\n",
       "  </thead>\n",
       "  <tbody>\n",
       "    <tr>\n",
       "      <th>0</th>\n",
       "      <td>Pro Cup</td>\n",
       "      <td>2614</td>\n",
       "    </tr>\n",
       "    <tr>\n",
       "      <th>1</th>\n",
       "      <td>Silver Cup</td>\n",
       "      <td>1870</td>\n",
       "    </tr>\n",
       "    <tr>\n",
       "      <th>2</th>\n",
       "      <td>Pro-Am Cup</td>\n",
       "      <td>1114</td>\n",
       "    </tr>\n",
       "    <tr>\n",
       "      <th>3</th>\n",
       "      <td>Bronze Cup</td>\n",
       "      <td>844</td>\n",
       "    </tr>\n",
       "    <tr>\n",
       "      <th>4</th>\n",
       "      <td>Gold Cup</td>\n",
       "      <td>827</td>\n",
       "    </tr>\n",
       "    <tr>\n",
       "      <th>5</th>\n",
       "      <td>Am Cup</td>\n",
       "      <td>44</td>\n",
       "    </tr>\n",
       "    <tr>\n",
       "      <th>6</th>\n",
       "      <td>Invitational</td>\n",
       "      <td>6</td>\n",
       "    </tr>\n",
       "  </tbody>\n",
       "</table>\n",
       "</div>"
      ],
      "text/plain": [
       "          Class  count\n",
       "0       Pro Cup   2614\n",
       "1    Silver Cup   1870\n",
       "2    Pro-Am Cup   1114\n",
       "3    Bronze Cup    844\n",
       "4      Gold Cup    827\n",
       "5        Am Cup     44\n",
       "6  Invitational      6"
      ]
     },
     "execution_count": 11,
     "metadata": {},
     "output_type": "execute_result"
    }
   ],
   "source": [
    "# Standardize the class names for uniformity\n",
    "all_races['Class'] = all_races['Class'].replace({\n",
    "    'Pro-AM Cup': 'Pro-Am Cup', \n",
    "    'AM Cup': 'Am Cup', \n",
    "    'Bronze': 'Bronze Cup'\n",
    "})\n",
    "\n",
    "all_races['Class'].value_counts().reset_index()"
   ]
  },
  {
   "cell_type": "markdown",
   "metadata": {},
   "source": [
    "Now the class names are uniform, making the data cleaner and the 'Class' column easier to work with."
   ]
  },
  {
   "cell_type": "markdown",
   "metadata": {},
   "source": [
    "#### **5.2.3. Setting a Logical Order**\n",
    "\n",
    "Some analyses might require an understanding of the hierarchy or order of the classes. For this reason, we define a logical order for the categories, from most to least prestigious, and apply this ordering to our data:"
   ]
  },
  {
   "cell_type": "code",
   "execution_count": 12,
   "metadata": {},
   "outputs": [],
   "source": [
    "# Define the category order and convert the 'class' column to a categorical type\n",
    "cat_type = CategoricalDtype(categories=[\n",
    "    'Invitational', 'Am Cup', 'Bronze Cup', 'Pro-Am Cup', 'Silver Cup', 'Gold Cup', 'Pro Cup'\n",
    "], ordered=True)\n",
    "\n",
    "all_races['Class'] = all_races['Class'].astype(cat_type)"
   ]
  },
  {
   "cell_type": "markdown",
   "metadata": {},
   "source": [
    "#### **5.2.4. Flagging Special Categories**\n",
    "For further clarity, we flag 'Invitational' as a special class since it may follow different rules or standards:"
   ]
  },
  {
   "cell_type": "code",
   "execution_count": 13,
   "metadata": {},
   "outputs": [],
   "source": [
    "# Create a new column to indicate special class status\n",
    "all_races.insert(loc=6, column='Special Class', value=False)\n",
    "all_races.loc[all_races['Class'] == 'Invitational', 'Special Class'] = True"
   ]
  },
  {
   "cell_type": "markdown",
   "metadata": {},
   "source": [
    "### **5.3. Time column**\n",
    "\n",
    "The `Time` column contains the time of the fastest lap for each participant. Missing values in this column indicate that a fastest lap time was not recorded, possibly due to early race retirements or other issues."
   ]
  },
  {
   "cell_type": "markdown",
   "metadata": {},
   "source": [
    "#### **5.3.1. Investigating Missing Values**\n",
    "First, we explore the missing values to understand their nature:"
   ]
  },
  {
   "cell_type": "code",
   "execution_count": 14,
   "metadata": {},
   "outputs": [
    {
     "data": {
      "text/html": [
       "<div>\n",
       "<style scoped>\n",
       "    .dataframe tbody tr th:only-of-type {\n",
       "        vertical-align: middle;\n",
       "    }\n",
       "\n",
       "    .dataframe tbody tr th {\n",
       "        vertical-align: top;\n",
       "    }\n",
       "\n",
       "    .dataframe thead th {\n",
       "        text-align: right;\n",
       "    }\n",
       "</style>\n",
       "<table border=\"1\" class=\"dataframe\">\n",
       "  <thead>\n",
       "    <tr style=\"text-align: right;\">\n",
       "      <th></th>\n",
       "      <th>Season</th>\n",
       "      <th>Meeting</th>\n",
       "      <th>Event name</th>\n",
       "      <th>Pos</th>\n",
       "      <th>Car #</th>\n",
       "      <th>Class</th>\n",
       "      <th>Special Class</th>\n",
       "      <th>Drivers</th>\n",
       "      <th>Team</th>\n",
       "      <th>Car</th>\n",
       "      <th>Time</th>\n",
       "      <th>Laps</th>\n",
       "      <th>Gap</th>\n",
       "    </tr>\n",
       "  </thead>\n",
       "  <tbody>\n",
       "    <tr>\n",
       "      <th>633</th>\n",
       "      <td>2021</td>\n",
       "      <td>Monza</td>\n",
       "      <td>Main Race after 1.30 hour</td>\n",
       "      <td>41</td>\n",
       "      <td>25</td>\n",
       "      <td>Pro Cup</td>\n",
       "      <td>False</td>\n",
       "      <td>Adrien Tambay, Alexandre Cougnaud, Christopher...</td>\n",
       "      <td>Sainteloc Racing</td>\n",
       "      <td>Audi R8 LMS GT3</td>\n",
       "      <td>NaN</td>\n",
       "      <td>2.0</td>\n",
       "      <td>-1:18:14.532</td>\n",
       "    </tr>\n",
       "    <tr>\n",
       "      <th>634</th>\n",
       "      <td>2021</td>\n",
       "      <td>Monza</td>\n",
       "      <td>Main Race after 1.30 hour</td>\n",
       "      <td>42</td>\n",
       "      <td>70</td>\n",
       "      <td>Pro-Am Cup</td>\n",
       "      <td>False</td>\n",
       "      <td>Oliver Millroy, Brendan Iribe</td>\n",
       "      <td>Inception Racing</td>\n",
       "      <td>McLaren 720S GT3</td>\n",
       "      <td>NaN</td>\n",
       "      <td>1.0</td>\n",
       "      <td>-1:29:07.011</td>\n",
       "    </tr>\n",
       "    <tr>\n",
       "      <th>675</th>\n",
       "      <td>2021</td>\n",
       "      <td>Monza</td>\n",
       "      <td>Main Race after 2.30 hours</td>\n",
       "      <td>41</td>\n",
       "      <td>25</td>\n",
       "      <td>Pro Cup</td>\n",
       "      <td>False</td>\n",
       "      <td>Adrien Tambay, Alexandre Cougnaud, Christopher...</td>\n",
       "      <td>Sainteloc Racing</td>\n",
       "      <td>Audi R8 LMS GT3</td>\n",
       "      <td>NaN</td>\n",
       "      <td>2.0</td>\n",
       "      <td>-2:16:56.451</td>\n",
       "    </tr>\n",
       "    <tr>\n",
       "      <th>676</th>\n",
       "      <td>2021</td>\n",
       "      <td>Monza</td>\n",
       "      <td>Main Race after 2.30 hours</td>\n",
       "      <td>42</td>\n",
       "      <td>70</td>\n",
       "      <td>Pro-Am Cup</td>\n",
       "      <td>False</td>\n",
       "      <td>Oliver Millroy, Brendan Iribe</td>\n",
       "      <td>Inception Racing</td>\n",
       "      <td>McLaren 720S GT3</td>\n",
       "      <td>NaN</td>\n",
       "      <td>1.0</td>\n",
       "      <td>-2:27:48.930</td>\n",
       "    </tr>\n",
       "    <tr>\n",
       "      <th>2246</th>\n",
       "      <td>2022</td>\n",
       "      <td>Barcelona</td>\n",
       "      <td>Main Race after 1.30 hour</td>\n",
       "      <td>47</td>\n",
       "      <td>19</td>\n",
       "      <td>Pro Cup</td>\n",
       "      <td>False</td>\n",
       "      <td>Leo Roussel, Giacomo Altoe, Arthur Rougier</td>\n",
       "      <td>Emil Frey Racing</td>\n",
       "      <td>Lamborghini Huracan GT3 Evo</td>\n",
       "      <td>NaN</td>\n",
       "      <td>2.0</td>\n",
       "      <td>-1:27:06.233</td>\n",
       "    </tr>\n",
       "  </tbody>\n",
       "</table>\n",
       "</div>"
      ],
      "text/plain": [
       "      Season    Meeting                  Event name  ...  Time  Laps           Gap\n",
       "633     2021      Monza   Main Race after 1.30 hour  ...   NaN   2.0  -1:18:14.532\n",
       "634     2021      Monza   Main Race after 1.30 hour  ...   NaN   1.0  -1:29:07.011\n",
       "675     2021      Monza  Main Race after 2.30 hours  ...   NaN   2.0  -2:16:56.451\n",
       "676     2021      Monza  Main Race after 2.30 hours  ...   NaN   1.0  -2:27:48.930\n",
       "2246    2022  Barcelona   Main Race after 1.30 hour  ...   NaN   2.0  -1:27:06.233\n",
       "\n",
       "[5 rows x 13 columns]"
      ]
     },
     "execution_count": 14,
     "metadata": {},
     "output_type": "execute_result"
    }
   ],
   "source": [
    "# Display rows where 'Time' is missing\n",
    "missing_time_rows = all_races[all_races['Time'].isnull()].head()\n",
    "missing_time_rows.head()"
   ]
  },
  {
   "cell_type": "markdown",
   "metadata": {},
   "source": [
    "#### **5.3.2. Filling Missing Values**\n",
    "\n",
    "We'll fill missing `Time` values with a placeholder '0.000'. This value indicates no recorded fastest lap. "
   ]
  },
  {
   "cell_type": "code",
   "execution_count": 15,
   "metadata": {},
   "outputs": [],
   "source": [
    "# Fill missing 'Time' values with '0.000'\n",
    "all_races['Time'] = all_races['Time'].fillna('0.000')"
   ]
  },
  {
   "cell_type": "markdown",
   "metadata": {},
   "source": [
    "#### **5.3.3. Creating Indicator for Best Lap Set**\n",
    "\n",
    "To differentiate between participants who set a fastest lap and those who didn't, we create a new column, `Best lap set`. This column will be True if a time was recorded and False otherwise:"
   ]
  },
  {
   "cell_type": "code",
   "execution_count": 16,
   "metadata": {},
   "outputs": [],
   "source": [
    "# Create a 'Best lap set' column that will be False if 'Time' is '0.000'\n",
    "all_races.insert(10, 'Best lap set', all_races['Time'] != '0.000')"
   ]
  },
  {
   "cell_type": "markdown",
   "metadata": {},
   "source": [
    "#### **5.3.4. Converting Time for Calculations**\n",
    "\n",
    "For precise calculations that involve time data, we will convert the `Time` values to a timedelta data type in a new `Time timedelta` column. This will allow for accurate and efficient time-based operations while keeping the original `Time` column in its readable object format:"
   ]
  },
  {
   "cell_type": "code",
   "execution_count": 17,
   "metadata": {},
   "outputs": [],
   "source": [
    "def convert_to_timedelta(value):\n",
    "    try:\n",
    "        # Directly return a timedelta of zero for '0.000'\n",
    "        if value == '0.000' or value == '0':\n",
    "            return pd.to_timedelta('00:00:00.000')\n",
    "        \n",
    "        # Check the number of parts when split by ':'\n",
    "        parts = value.split(':')\n",
    "        if len(parts) == 1:  # Only seconds (and possibly milliseconds)\n",
    "            return pd.to_timedelta(float(value), unit='s')\n",
    "        elif len(parts) == 2:  # Minutes and seconds\n",
    "            return pd.to_timedelta('00:' + value)\n",
    "        elif len(parts) == 3:  # Hours, minutes, and seconds\n",
    "            return pd.to_timedelta(value)\n",
    "    except Exception as e:\n",
    "        print(f\"Error converting value: {value}, Error: {e}\")\n",
    "        # Return a default timedelta in case of unexpected format\n",
    "        return pd.Timedelta(0)\n",
    "\n",
    "# Apply the conversion to each value in 'Time'\n",
    "time_timedelta_values = all_races['Time'].astype(str).apply(convert_to_timedelta)\n",
    "\n",
    "# Insert the new 'Time Timedelta' column into the DataFrame\n",
    "all_races.insert(loc=12, column='Time timedelta', value=time_timedelta_values)"
   ]
  },
  {
   "cell_type": "markdown",
   "metadata": {},
   "source": [
    "### **5.4. Laps Column**\n",
    "\n",
    "The Laps column quantifies the total number of laps completed by each participant during a race. However, this column is currently formatted as a float, which is not suitable for a variable that should inherently be an integer."
   ]
  },
  {
   "cell_type": "markdown",
   "metadata": {},
   "source": [
    "#### **5.4.1. Investigating Missing Values**"
   ]
  },
  {
   "cell_type": "code",
   "execution_count": 18,
   "metadata": {},
   "outputs": [
    {
     "data": {
      "text/html": [
       "<div>\n",
       "<style scoped>\n",
       "    .dataframe tbody tr th:only-of-type {\n",
       "        vertical-align: middle;\n",
       "    }\n",
       "\n",
       "    .dataframe tbody tr th {\n",
       "        vertical-align: top;\n",
       "    }\n",
       "\n",
       "    .dataframe thead th {\n",
       "        text-align: right;\n",
       "    }\n",
       "</style>\n",
       "<table border=\"1\" class=\"dataframe\">\n",
       "  <thead>\n",
       "    <tr style=\"text-align: right;\">\n",
       "      <th></th>\n",
       "      <th>Season</th>\n",
       "      <th>Meeting</th>\n",
       "      <th>Event name</th>\n",
       "      <th>Pos</th>\n",
       "      <th>Car #</th>\n",
       "      <th>Class</th>\n",
       "      <th>Special Class</th>\n",
       "      <th>Drivers</th>\n",
       "      <th>Team</th>\n",
       "      <th>Car</th>\n",
       "      <th>Best lap set</th>\n",
       "      <th>Time</th>\n",
       "      <th>Time timedelta</th>\n",
       "      <th>Laps</th>\n",
       "      <th>Gap</th>\n",
       "    </tr>\n",
       "  </thead>\n",
       "  <tbody>\n",
       "  </tbody>\n",
       "</table>\n",
       "</div>"
      ],
      "text/plain": [
       "Empty DataFrame\n",
       "Columns: [Season, Meeting, Event name, Pos, Car #, Class, Special Class, Drivers, Team, Car, Best lap set, Time, Time timedelta, Laps, Gap]\n",
       "Index: []"
      ]
     },
     "execution_count": 18,
     "metadata": {},
     "output_type": "execute_result"
    }
   ],
   "source": [
    "# Display rows where 'Time' is missing\n",
    "missing_time_laps = all_races[all_races['Laps'].isnull()].head()\n",
    "missing_time_laps.head()"
   ]
  },
  {
   "cell_type": "markdown",
   "metadata": {},
   "source": [
    "Since we don't have missing values, we can simply change the data type."
   ]
  },
  {
   "cell_type": "markdown",
   "metadata": {},
   "source": [
    "#### **5.4.2. Converting Floats to Integers**"
   ]
  },
  {
   "cell_type": "code",
   "execution_count": 19,
   "metadata": {},
   "outputs": [
    {
     "data": {
      "text/plain": [
       "dtype('int64')"
      ]
     },
     "execution_count": 19,
     "metadata": {},
     "output_type": "execute_result"
    }
   ],
   "source": [
    "# Change data type of 'Laps' from float to int\n",
    "all_races['Laps'] = all_races['Laps'].astype('int64')\n",
    "all_races['Laps'].dtype"
   ]
  },
  {
   "cell_type": "markdown",
   "metadata": {},
   "source": [
    "### **5.5. Gap Column** \n",
    "`Gap`: Represent the time difference between each car and the car ahead of it, with a slight twist:<br> \n",
    "If a car is on the same lap as the leader of the race, the `Gap` shows the actual time difference.<br> \n",
    "If a car is one or more laps behind, the `Gap` resets and shows the time difference to the car ahead within the same lap, not the overall race leader.\n",
    "\n",
    "However, the column has several issues that need addressing: it contains missing values for race leaders (since they have no gap to the leader), and negative values which may indicate cars that dropped out of the race.\n"
   ]
  },
  {
   "cell_type": "markdown",
   "metadata": {},
   "source": [
    "#### **5.5.1. Inspectiong Gap Column**"
   ]
  },
  {
   "cell_type": "code",
   "execution_count": 20,
   "metadata": {},
   "outputs": [
    {
     "data": {
      "text/html": [
       "<div>\n",
       "<style scoped>\n",
       "    .dataframe tbody tr th:only-of-type {\n",
       "        vertical-align: middle;\n",
       "    }\n",
       "\n",
       "    .dataframe tbody tr th {\n",
       "        vertical-align: top;\n",
       "    }\n",
       "\n",
       "    .dataframe thead th {\n",
       "        text-align: right;\n",
       "    }\n",
       "</style>\n",
       "<table border=\"1\" class=\"dataframe\">\n",
       "  <thead>\n",
       "    <tr style=\"text-align: right;\">\n",
       "      <th></th>\n",
       "      <th>Pos</th>\n",
       "      <th>count</th>\n",
       "    </tr>\n",
       "  </thead>\n",
       "  <tbody>\n",
       "    <tr>\n",
       "      <th>0</th>\n",
       "      <td>1</td>\n",
       "      <td>144</td>\n",
       "    </tr>\n",
       "  </tbody>\n",
       "</table>\n",
       "</div>"
      ],
      "text/plain": [
       "   Pos  count\n",
       "0    1    144"
      ]
     },
     "execution_count": 20,
     "metadata": {},
     "output_type": "execute_result"
    }
   ],
   "source": [
    "null_gap_rows = all_races[pd.isnull(all_races['Gap'])]\n",
    "null_gap_rows['Pos'].value_counts().reset_index()"
   ]
  },
  {
   "cell_type": "markdown",
   "metadata": {},
   "source": [
    "#### **5.5.2. Handling Missing Values**"
   ]
  },
  {
   "cell_type": "markdown",
   "metadata": {},
   "source": [
    "Missing values are present in cases where the car is leading. Since there's no gap to measure against themselves, these entries are logically missing. We will fill these with a placeholder:"
   ]
  },
  {
   "cell_type": "code",
   "execution_count": 21,
   "metadata": {},
   "outputs": [],
   "source": [
    "# Fill missing 'Gap' values with '0.000' to indicate no gap\n",
    "all_races['Gap'] = all_races['Gap'].fillna('0.000')"
   ]
  },
  {
   "cell_type": "markdown",
   "metadata": {},
   "source": [
    "#### **5.5.3. Interpreting  Negative Values**\n",
    "\n",
    "Negative values in the `Gap` column could indicate that a car has dropped out of the race. Then we will create a `Dropped off the Race` column with bool values. True if in `Gap` contains '-' before numbers, False overwise."
   ]
  },
  {
   "cell_type": "code",
   "execution_count": 22,
   "metadata": {},
   "outputs": [],
   "source": [
    "# Function to determine if a participant has dropped off of the race\n",
    "def check_dropped_off(value):\n",
    "    if pd.isnull(value):\n",
    "        return False\n",
    "    return bool(re.match(r\"^-\", value))\n",
    "\n",
    "# Apply the function to create a new boolean column\n",
    "all_races['Dropped off the Race'] = all_races['Gap'].apply(check_dropped_off)"
   ]
  },
  {
   "cell_type": "markdown",
   "metadata": {},
   "source": [
    "#### **5.5.3. Delete All '-' in Gap Column**"
   ]
  },
  {
   "cell_type": "code",
   "execution_count": 23,
   "metadata": {},
   "outputs": [],
   "source": [
    "all_races['Gap'] = all_races['Gap'].str.replace('-', '', regex=False)"
   ]
  },
  {
   "cell_type": "markdown",
   "metadata": {},
   "source": [
    "#### **5.5.4. Changing the Data Type**\n",
    "\n",
    "Now add a new `Gap Timedelta` column with the same values as in `Gap` but with a different data type for calculations."
   ]
  },
  {
   "cell_type": "code",
   "execution_count": 24,
   "metadata": {},
   "outputs": [],
   "source": [
    "# Apply the conversion to each value in 'Gap'\n",
    "gaps_timedelta_values = all_races['Gap'].astype(str).apply(convert_to_timedelta)\n",
    "\n",
    "# Insert the new 'Gap Timedelta' column into the DataFrame\n",
    "all_races.insert(loc=15, column='Gap Timedelta', value=gaps_timedelta_values)"
   ]
  },
  {
   "cell_type": "markdown",
   "metadata": {},
   "source": [
    "### **5.6. The Work is Mostly Completed**"
   ]
  },
  {
   "cell_type": "code",
   "execution_count": 25,
   "metadata": {},
   "outputs": [
    {
     "name": "stdout",
     "output_type": "stream",
     "text": [
      "<class 'pandas.core.frame.DataFrame'>\n",
      "RangeIndex: 7319 entries, 0 to 7318\n",
      "Data columns (total 17 columns):\n",
      " #   Column                Non-Null Count  Dtype          \n",
      "---  ------                --------------  -----          \n",
      " 0   Season                7319 non-null   int64          \n",
      " 1   Meeting               7319 non-null   object         \n",
      " 2   Event name            7319 non-null   object         \n",
      " 3   Pos                   7319 non-null   int64          \n",
      " 4   Car #                 7319 non-null   int64          \n",
      " 5   Class                 7319 non-null   category       \n",
      " 6   Special Class         7319 non-null   bool           \n",
      " 7   Drivers               7319 non-null   object         \n",
      " 8   Team                  7319 non-null   object         \n",
      " 9   Car                   7319 non-null   object         \n",
      " 10  Best lap set          7319 non-null   bool           \n",
      " 11  Time                  7319 non-null   object         \n",
      " 12  Time timedelta        7319 non-null   timedelta64[ns]\n",
      " 13  Laps                  7319 non-null   int64          \n",
      " 14  Gap                   7319 non-null   object         \n",
      " 15  Gap Timedelta         7319 non-null   timedelta64[ns]\n",
      " 16  Dropped off the Race  7319 non-null   bool           \n",
      "dtypes: bool(3), category(1), int64(4), object(7), timedelta64[ns](2)\n",
      "memory usage: 772.4+ KB\n"
     ]
    }
   ],
   "source": [
    "all_races.reset_index(drop=True).info()"
   ]
  },
  {
   "cell_type": "markdown",
   "metadata": {},
   "source": [
    "Now we don't have missing values and all data types are appropriate. To ensure absolute accuracy, let's manually review each column—Meeting, Event Name and Car—as there may be errors that initially went unnoticed, such as incorrect names or superfluous spaces."
   ]
  },
  {
   "cell_type": "markdown",
   "metadata": {},
   "source": [
    "#### **5.6.1. Inspecting 'Meeting'**"
   ]
  },
  {
   "cell_type": "code",
   "execution_count": 26,
   "metadata": {},
   "outputs": [
    {
     "data": {
      "text/plain": [
       "Meeting\n",
       "TotalEnergies 24 Hours of Spa    2619\n",
       "CrowdStrike 24 Hours of Spa      1659\n",
       "Circuit Paul Ricard 1000Km        932\n",
       "Barcelona                         378\n",
       "Monza                             317\n",
       "Nürburgring                       286\n",
       "Hockenheim                        207\n",
       "Imola                             187\n",
       "Misano                            169\n",
       "Valencia                          162\n",
       "Brands Hatch                      156\n",
       "Zandvoort                         149\n",
       "Magny-Cours                        98\n",
       "Name: count, dtype: int64"
      ]
     },
     "execution_count": 26,
     "metadata": {},
     "output_type": "execute_result"
    }
   ],
   "source": [
    "all_races['Meeting'].value_counts()"
   ]
  },
  {
   "cell_type": "markdown",
   "metadata": {},
   "source": [
    "The 'TotalEnergies 24 Hours of Spa' and the 'CrowdStrike 24 Hours of Spa' refer to the same event, known as the '24 Hours of Spa', but they highlight different title sponsorships for the race. Let's rename \"TotalEnergies 24 Hours of Spa\" and \"CrowdStrike 24 Hours of Spa\" to `Circuit de Spa-Francorchamps`. And \"Circuit Paul Ricard 1000Km\" to `Circuit Paul Ricard` for consistency."
   ]
  },
  {
   "cell_type": "code",
   "execution_count": 27,
   "metadata": {},
   "outputs": [],
   "source": [
    "all_races['Meeting'] = all_races['Meeting'].replace({\n",
    "    'TotalEnergies 24 Hours of Spa': 'Circuit de Spa-Francorchamps',\n",
    "    'CrowdStrike 24 Hours of Spa': 'Circuit de Spa-Francorchamps',\n",
    "    'Circuit Paul Ricard 1000Km' : 'Circuit Paul Ricard'\n",
    "})"
   ]
  },
  {
   "cell_type": "markdown",
   "metadata": {},
   "source": [
    "#### **5.6.2. Inspecting 'Event name'**"
   ]
  },
  {
   "cell_type": "code",
   "execution_count": 28,
   "metadata": {},
   "outputs": [
    {
     "data": {
      "text/plain": [
       "Event name\n",
       "Main Race after 1.30 hour     655\n",
       "Main Race                     638\n",
       "Main Race after 2.30 hours    535\n",
       "Race 2                        402\n",
       "Race 1                        400\n",
       "Main Race after 30 mins       263\n",
       "Main Race after 9 hours       194\n",
       "Main Race after 8 hours       194\n",
       "Main Race after 7 hours       194\n",
       "Main Race after 6 hours       194\n",
       "Main Race after 5 hours       194\n",
       "Main Race after 4 hours       194\n",
       "Main Race after 3 hours       194\n",
       "Main Race after 21 hours      194\n",
       "Main Race after 20 hours      194\n",
       "Main Race after 19 hours      194\n",
       "Main Race after 18 hours      194\n",
       "Main Race after 14 hours      194\n",
       "Main Race after 13 hours      194\n",
       "Main Race after 12 hours      194\n",
       "Main Race after 15 hours      194\n",
       "Main race after 4.30 hours    152\n",
       "Main Race after 3.30 hours    152\n",
       "Main Race after 16 hours      136\n",
       "Main Race after 23 hours      136\n",
       "Main Race after 22 hours      128\n",
       "Main Race after 2 hours       128\n",
       "Main Race after 17 hours      128\n",
       "Main Race after 1 hour        128\n",
       "Main Race after 11 hours      128\n",
       "Main Race after 10 hours      128\n",
       "Main Race after 5.30 hours    106\n",
       "Main Race after 22 Hours       66\n",
       "Name: count, dtype: int64"
      ]
     },
     "execution_count": 28,
     "metadata": {},
     "output_type": "execute_result"
    }
   ],
   "source": [
    "all_races['Event name'].value_counts()"
   ]
  },
  {
   "cell_type": "markdown",
   "metadata": {},
   "source": [
    "We got some naming inconsistency. Let's rename 'Main Race after 22 Hours' to 'Main Race after 22 hours'."
   ]
  },
  {
   "cell_type": "markdown",
   "metadata": {},
   "source": [
    "#### **5.6.2.1. Fix Naming Error** "
   ]
  },
  {
   "cell_type": "code",
   "execution_count": 29,
   "metadata": {},
   "outputs": [],
   "source": [
    "all_races['Event name'] = all_races['Event name'].replace({\n",
    "    'Main Race after 22 Hours': 'Main Race after 22 hours'\n",
    "})"
   ]
  },
  {
   "cell_type": "markdown",
   "metadata": {},
   "source": [
    "#### **5.6.2.1. Inspecting 'Car'** \n"
   ]
  },
  {
   "cell_type": "code",
   "execution_count": 30,
   "metadata": {},
   "outputs": [
    {
     "data": {
      "text/plain": [
       "Car\n",
       "Mercedes-AMG GT3                 1467\n",
       "Porsche 911 GT3-R (991.II)        728\n",
       "Lamborghini Huracan GT3 Evo       647\n",
       "Audi R8 LMS evo II GT3            614\n",
       "Ferrari 488 GT3                   537\n",
       "Porsche 911 GT3 R (992)           470\n",
       "BMW M4 GT3                        450\n",
       "Audi R8 LMS GT3 EVO II            443\n",
       "Audi R8 LMS GT3                   370\n",
       "Lamborghini Huracan GT3 EVO 2     368\n",
       "McLaren 720S GT3                  278\n",
       "McLaren 720S GT3 EVO              202\n",
       "Aston Martin Vantage AMR GT3      200\n",
       "Ferrari 296 GT3                   167\n",
       "BMW M6 GT3                        107\n",
       "Mercedes-AMG GT3 EVO               84\n",
       "Bentley Continental GT3            75\n",
       "Audi R8 LMS GT3 EVO2               46\n",
       "Aston Martin Vantage GT3           38\n",
       "Mercedes-AMG GT GT3 2020           10\n",
       "Honda NSX GT3 EVO 2                10\n",
       "Honda NSX GT3                       8\n",
       "Name: count, dtype: int64"
      ]
     },
     "execution_count": 30,
     "metadata": {},
     "output_type": "execute_result"
    }
   ],
   "source": [
    "all_races['Car'].value_counts()"
   ]
  },
  {
   "cell_type": "markdown",
   "metadata": {},
   "source": [
    "We got some naming inconsistency. Let's rename 'Audi R8 LMS evo II GT3', 'Audi R8 LMS GT3 EVO II', 'Audi R8 LMS GT3 EVO2' to 'Audi R8 LMS GT3 EVO 2'. And 'Lamborghini Huracan GT3 Evo' will be renamed to 'Lamborghini Huracan GT3 EVO'.\n"
   ]
  },
  {
   "cell_type": "code",
   "execution_count": 31,
   "metadata": {},
   "outputs": [],
   "source": [
    "all_races['Car'] = all_races['Car'].replace({\n",
    "    'Audi R8 LMS evo II GT3': 'Audi R8 LMS GT3 EVO 2',\n",
    "    'Audi R8 LMS GT3 EVO II': 'Audi R8 LMS GT3 EVO 2',\n",
    "    'Audi R8 LMS GT3 EVO2': 'Audi R8 LMS GT3 EVO 2',\n",
    "    'Lamborghini Huracan GT3 Evo': 'Lamborghini Huracan GT3 EVO'\n",
    "})"
   ]
  },
  {
   "cell_type": "markdown",
   "metadata": {},
   "source": [
    "## **6. The Work is Done**\n",
    "\n",
    "We now have the appropriate data types and no missing values. Our work is complete and we have now prepared a dataset for analysis."
   ]
  },
  {
   "cell_type": "code",
   "execution_count": 32,
   "metadata": {},
   "outputs": [
    {
     "name": "stdout",
     "output_type": "stream",
     "text": [
      "<class 'pandas.core.frame.DataFrame'>\n",
      "RangeIndex: 7319 entries, 0 to 7318\n",
      "Data columns (total 17 columns):\n",
      " #   Column                Non-Null Count  Dtype          \n",
      "---  ------                --------------  -----          \n",
      " 0   Season                7319 non-null   int64          \n",
      " 1   Meeting               7319 non-null   object         \n",
      " 2   Event name            7319 non-null   object         \n",
      " 3   Pos                   7319 non-null   int64          \n",
      " 4   Car #                 7319 non-null   int64          \n",
      " 5   Class                 7319 non-null   category       \n",
      " 6   Special Class         7319 non-null   bool           \n",
      " 7   Drivers               7319 non-null   object         \n",
      " 8   Team                  7319 non-null   object         \n",
      " 9   Car                   7319 non-null   object         \n",
      " 10  Best lap set          7319 non-null   bool           \n",
      " 11  Time                  7319 non-null   object         \n",
      " 12  Time timedelta        7319 non-null   timedelta64[ns]\n",
      " 13  Laps                  7319 non-null   int64          \n",
      " 14  Gap                   7319 non-null   object         \n",
      " 15  Gap Timedelta         7319 non-null   timedelta64[ns]\n",
      " 16  Dropped off the Race  7319 non-null   bool           \n",
      "dtypes: bool(3), category(1), int64(4), object(7), timedelta64[ns](2)\n",
      "memory usage: 772.4+ KB\n"
     ]
    }
   ],
   "source": [
    "all_races.reset_index(drop=True).info()"
   ]
  },
  {
   "cell_type": "markdown",
   "metadata": {},
   "source": [
    "## **7. Save Cleaned Dataset**\n",
    "\n",
    "The Parquet format is well suited for storing dates with complex structures and data types. It compresses data efficiently and supports most pandas data types."
   ]
  },
  {
   "cell_type": "code",
   "execution_count": 33,
   "metadata": {},
   "outputs": [],
   "source": [
    "all_races.to_csv('.\\\\cleaned_data\\\\race_data.csv', index=False)\n",
    "all_races.to_parquet('.\\\\cleaned_data\\\\race_data.parquet', index=False)"
   ]
  }
 ],
 "metadata": {
  "kernelspec": {
   "display_name": "base",
   "language": "python",
   "name": "python3"
  },
  "language_info": {
   "codemirror_mode": {
    "name": "ipython",
    "version": 3
   },
   "file_extension": ".py",
   "mimetype": "text/x-python",
   "name": "python",
   "nbconvert_exporter": "python",
   "pygments_lexer": "ipython3",
   "version": "3.9.18"
  }
 },
 "nbformat": 4,
 "nbformat_minor": 2
}
