{
 "cells": [
  {
   "cell_type": "markdown",
   "metadata": {},
   "source": [
    "# Data Preparation"
   ]
  },
  {
   "cell_type": "code",
   "execution_count": 40,
   "metadata": {},
   "outputs": [],
   "source": [
    "import os\n",
    "import pandas as pd\n",
    "\n",
    "def create_dataframe_from_races_csvs_multi_years(base_path, years):\n",
    "    required_columns = ['Pos', 'Car #', 'Class', 'Drivers', 'Team', 'Car', 'Time', 'Laps', 'Gap']\n",
    "    all_data = []  # List to hold all data rows\n",
    "\n",
    "    for year in years:  # Process each year in the list\n",
    "        year_path = os.path.join(base_path, str(year))  # Path to the specific year\n",
    "\n",
    "        if not os.path.exists(year_path):\n",
    "            print(f\"The directory for year {year} does not exist.\")\n",
    "            continue  # Skip to the next year if the directory doesn't exist\n",
    "\n",
    "        for meeting in os.listdir(year_path):  # Iterate through all meetings in the year\n",
    "            meeting_path = os.path.join(year_path, meeting)\n",
    "            races_path = os.path.join(meeting_path, \"Races\")  # Path to the 'Races' folder\n",
    "\n",
    "            if os.path.exists(races_path):\n",
    "                for race_file in os.listdir(races_path):  # Iterate through all race files\n",
    "                    file_path = os.path.join(races_path, race_file)\n",
    "                    try:\n",
    "                        df = pd.read_csv(file_path)\n",
    "                        if set(required_columns).issubset(df.columns):\n",
    "                            df['season'] = year\n",
    "                            df['meeting'] = meeting.replace(\"_\", \" \")\n",
    "                            df['race_name'] = race_file.replace(\".csv\", \"\").replace(\"_\", \" \")\n",
    "                            all_data.append(df[[\"season\", \"meeting\", \"race_name\"] + required_columns])\n",
    "                        else:\n",
    "                            print(f\"Skipping {file_path} due to missing required columns.\")\n",
    "                    except Exception as e:\n",
    "                        print(f\"Error reading {file_path}: {e}\")\n",
    "\n",
    "    # Concatenate all data into a single DataFrame\n",
    "    final_df = pd.concat(all_data, ignore_index=True) if all_data else pd.DataFrame()\n",
    "    return final_df\n"
   ]
  },
  {
   "cell_type": "markdown",
   "metadata": {},
   "source": [
    "## Load the Data"
   ]
  },
  {
   "cell_type": "code",
   "execution_count": 45,
   "metadata": {},
   "outputs": [],
   "source": [
    "base_path = \".\\data_csv\"  # Update to your path\n",
    "years = [2021, 2022, 2023]\n",
    "all_races = create_dataframe_from_races_csvs_multi_years(base_path, years)"
   ]
  },
  {
   "cell_type": "code",
   "execution_count": 56,
   "metadata": {},
   "outputs": [],
   "source": [
    "\n",
    "result = all_races[(all_races['season'] == 2023) & \n",
    "                   (all_races['meeting'] == \"CrowdStrike 24 Hours of Spa\") & \n",
    "                   (all_races['race_name'] == 'Main Race after 13 hours')].reset_index(drop=True)\n",
    "\n",
    "result.to_csv(\"C:\\\\Users\\\\ireev\\\\Desktop\\\\Spa_2023_Main_Race_after_13_hours.csv\")\n"
   ]
  },
  {
   "cell_type": "markdown",
   "metadata": {},
   "source": [
    "## Diagnose the Data"
   ]
  },
  {
   "cell_type": "code",
   "execution_count": 44,
   "metadata": {},
   "outputs": [
    {
     "data": {
      "text/html": [
       "<div>\n",
       "<style scoped>\n",
       "    .dataframe tbody tr th:only-of-type {\n",
       "        vertical-align: middle;\n",
       "    }\n",
       "\n",
       "    .dataframe tbody tr th {\n",
       "        vertical-align: top;\n",
       "    }\n",
       "\n",
       "    .dataframe thead th {\n",
       "        text-align: right;\n",
       "    }\n",
       "</style>\n",
       "<table border=\"1\" class=\"dataframe\">\n",
       "  <thead>\n",
       "    <tr style=\"text-align: right;\">\n",
       "      <th></th>\n",
       "      <th>season</th>\n",
       "      <th>meeting</th>\n",
       "      <th>race_name</th>\n",
       "      <th>Pos</th>\n",
       "      <th>Car #</th>\n",
       "      <th>Class</th>\n",
       "      <th>Drivers</th>\n",
       "      <th>Team</th>\n",
       "      <th>Car</th>\n",
       "      <th>Time</th>\n",
       "      <th>Laps</th>\n",
       "      <th>Gap</th>\n",
       "    </tr>\n",
       "  </thead>\n",
       "  <tbody>\n",
       "    <tr>\n",
       "      <th>0</th>\n",
       "      <td>2021</td>\n",
       "      <td>Barcelona</td>\n",
       "      <td>Main Race</td>\n",
       "      <td>1</td>\n",
       "      <td>88</td>\n",
       "      <td>Pro Cup</td>\n",
       "      <td>Raffaele Marciello, Felipe Fraga, Jules Gounon</td>\n",
       "      <td>AKKA ASP</td>\n",
       "      <td>Mercedes-AMG GT3</td>\n",
       "      <td>1:47.211</td>\n",
       "      <td>95.0</td>\n",
       "      <td>NaN</td>\n",
       "    </tr>\n",
       "    <tr>\n",
       "      <th>1</th>\n",
       "      <td>2021</td>\n",
       "      <td>Barcelona</td>\n",
       "      <td>Main Race</td>\n",
       "      <td>2</td>\n",
       "      <td>54</td>\n",
       "      <td>Pro Cup</td>\n",
       "      <td>Klaus Bachler, Christian Engelhart, Matteo Cai...</td>\n",
       "      <td>Dinamic Motorsport</td>\n",
       "      <td>Porsche 911 GT3-R (991.II)</td>\n",
       "      <td>1:47.148</td>\n",
       "      <td>95.0</td>\n",
       "      <td>2.174</td>\n",
       "    </tr>\n",
       "    <tr>\n",
       "      <th>2</th>\n",
       "      <td>2021</td>\n",
       "      <td>Barcelona</td>\n",
       "      <td>Main Race</td>\n",
       "      <td>3</td>\n",
       "      <td>32</td>\n",
       "      <td>Pro Cup</td>\n",
       "      <td>Dries Vanthoor, Robin Frijns, Charles Weerts</td>\n",
       "      <td>Team WRT</td>\n",
       "      <td>Audi R8 LMS GT3</td>\n",
       "      <td>1:47.612</td>\n",
       "      <td>95.0</td>\n",
       "      <td>4.036</td>\n",
       "    </tr>\n",
       "    <tr>\n",
       "      <th>3</th>\n",
       "      <td>2021</td>\n",
       "      <td>Barcelona</td>\n",
       "      <td>Main Race</td>\n",
       "      <td>4</td>\n",
       "      <td>63</td>\n",
       "      <td>Pro Cup</td>\n",
       "      <td>Mirko Bortolotti, Marco Mapelli, Andrea Caldar...</td>\n",
       "      <td>Orange 1 FFF Racing Team</td>\n",
       "      <td>Lamborghini Huracan GT3 Evo</td>\n",
       "      <td>1:47.027</td>\n",
       "      <td>95.0</td>\n",
       "      <td>9.511</td>\n",
       "    </tr>\n",
       "    <tr>\n",
       "      <th>4</th>\n",
       "      <td>2021</td>\n",
       "      <td>Barcelona</td>\n",
       "      <td>Main Race</td>\n",
       "      <td>5</td>\n",
       "      <td>4</td>\n",
       "      <td>Pro Cup</td>\n",
       "      <td>Maro Engel, Luca Stolz, Nico Bastian</td>\n",
       "      <td>HRT</td>\n",
       "      <td>Mercedes-AMG GT3</td>\n",
       "      <td>1:47.588</td>\n",
       "      <td>95.0</td>\n",
       "      <td>9.984</td>\n",
       "    </tr>\n",
       "  </tbody>\n",
       "</table>\n",
       "</div>"
      ],
      "text/plain": [
       "   season    meeting  race_name Pos  Car #    Class  \\\n",
       "0    2021  Barcelona  Main Race   1     88  Pro Cup   \n",
       "1    2021  Barcelona  Main Race   2     54  Pro Cup   \n",
       "2    2021  Barcelona  Main Race   3     32  Pro Cup   \n",
       "3    2021  Barcelona  Main Race   4     63  Pro Cup   \n",
       "4    2021  Barcelona  Main Race   5      4  Pro Cup   \n",
       "\n",
       "                                             Drivers  \\\n",
       "0     Raffaele Marciello, Felipe Fraga, Jules Gounon   \n",
       "1  Klaus Bachler, Christian Engelhart, Matteo Cai...   \n",
       "2       Dries Vanthoor, Robin Frijns, Charles Weerts   \n",
       "3  Mirko Bortolotti, Marco Mapelli, Andrea Caldar...   \n",
       "4               Maro Engel, Luca Stolz, Nico Bastian   \n",
       "\n",
       "                       Team                          Car      Time  Laps  \\\n",
       "0                  AKKA ASP             Mercedes-AMG GT3  1:47.211  95.0   \n",
       "1        Dinamic Motorsport   Porsche 911 GT3-R (991.II)  1:47.148  95.0   \n",
       "2                  Team WRT              Audi R8 LMS GT3  1:47.612  95.0   \n",
       "3  Orange 1 FFF Racing Team  Lamborghini Huracan GT3 Evo  1:47.027  95.0   \n",
       "4                       HRT             Mercedes-AMG GT3  1:47.588  95.0   \n",
       "\n",
       "     Gap  \n",
       "0    NaN  \n",
       "1  2.174  \n",
       "2  4.036  \n",
       "3  9.511  \n",
       "4  9.984  "
      ]
     },
     "execution_count": 44,
     "metadata": {},
     "output_type": "execute_result"
    }
   ],
   "source": [
    "all_races.head()"
   ]
  },
  {
   "cell_type": "code",
   "execution_count": 46,
   "metadata": {},
   "outputs": [
    {
     "name": "stdout",
     "output_type": "stream",
     "text": [
      "<class 'pandas.core.frame.DataFrame'>\n",
      "RangeIndex: 7606 entries, 0 to 7605\n",
      "Data columns (total 12 columns):\n",
      " #   Column     Non-Null Count  Dtype  \n",
      "---  ------     --------------  -----  \n",
      " 0   season     7606 non-null   int64  \n",
      " 1   meeting    7606 non-null   object \n",
      " 2   race_name  7606 non-null   object \n",
      " 3   Pos        7606 non-null   object \n",
      " 4   Car #      7606 non-null   int64  \n",
      " 5   Class      7606 non-null   object \n",
      " 6   Drivers    7606 non-null   object \n",
      " 7   Team       7606 non-null   object \n",
      " 8   Car        7606 non-null   object \n",
      " 9   Time       7467 non-null   object \n",
      " 10  Laps       7533 non-null   float64\n",
      " 11  Gap        7389 non-null   object \n",
      "dtypes: float64(1), int64(2), object(9)\n",
      "memory usage: 713.2+ KB\n"
     ]
    }
   ],
   "source": [
    "all_races.info()"
   ]
  }
 ],
 "metadata": {
  "kernelspec": {
   "display_name": "base",
   "language": "python",
   "name": "python3"
  },
  "language_info": {
   "codemirror_mode": {
    "name": "ipython",
    "version": 3
   },
   "file_extension": ".py",
   "mimetype": "text/x-python",
   "name": "python",
   "nbconvert_exporter": "python",
   "pygments_lexer": "ipython3",
   "version": "3.9.18"
  }
 },
 "nbformat": 4,
 "nbformat_minor": 2
}
