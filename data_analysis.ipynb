{
 "cells": [
  {
   "cell_type": "markdown",
   "metadata": {},
   "source": [
    "# **Racing Data Analysis Project**"
   ]
  },
  {
   "cell_type": "markdown",
   "metadata": {},
   "source": [
    "## **1. Load Libraries**"
   ]
  },
  {
   "cell_type": "code",
   "execution_count": 1,
   "metadata": {},
   "outputs": [],
   "source": [
    "import pandas as pd"
   ]
  },
  {
   "cell_type": "markdown",
   "metadata": {},
   "source": [
    "## **2. Load Data**"
   ]
  },
  {
   "cell_type": "code",
   "execution_count": 3,
   "metadata": {},
   "outputs": [
    {
     "name": "stdout",
     "output_type": "stream",
     "text": [
      "<class 'pandas.core.frame.DataFrame'>\n",
      "RangeIndex: 7319 entries, 0 to 7318\n",
      "Data columns (total 17 columns):\n",
      " #   Column                Non-Null Count  Dtype \n",
      "---  ------                --------------  ----- \n",
      " 0   Season                7319 non-null   int64 \n",
      " 1   Meeting               7319 non-null   object\n",
      " 2   Event name            7319 non-null   object\n",
      " 3   Pos                   7319 non-null   int64 \n",
      " 4   Car #                 7319 non-null   int64 \n",
      " 5   Class                 7319 non-null   object\n",
      " 6   Special Class         7319 non-null   bool  \n",
      " 7   Drivers               7319 non-null   object\n",
      " 8   Team                  7319 non-null   object\n",
      " 9   Car                   7319 non-null   object\n",
      " 10  Best lap set          7319 non-null   bool  \n",
      " 11  Time                  7319 non-null   object\n",
      " 12  Time timedelta        7319 non-null   object\n",
      " 13  Laps                  7319 non-null   int64 \n",
      " 14  Gap                   7319 non-null   object\n",
      " 15  Gap Timedelta         7319 non-null   object\n",
      " 16  Dropped off the Race  7319 non-null   bool  \n",
      "dtypes: bool(3), int64(4), object(10)\n",
      "memory usage: 822.1+ KB\n"
     ]
    }
   ],
   "source": [
    "df = pd.read_csv(\".\\\\cleaned_data\\\\race_data.csv\")\n",
    "df.info()"
   ]
  }
 ],
 "metadata": {
  "kernelspec": {
   "display_name": "base",
   "language": "python",
   "name": "python3"
  },
  "language_info": {
   "codemirror_mode": {
    "name": "ipython",
    "version": 3
   },
   "file_extension": ".py",
   "mimetype": "text/x-python",
   "name": "python",
   "nbconvert_exporter": "python",
   "pygments_lexer": "ipython3",
   "version": "3.9.18"
  }
 },
 "nbformat": 4,
 "nbformat_minor": 2
}
