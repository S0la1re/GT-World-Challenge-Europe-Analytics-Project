{
 "cells": [
  {
   "cell_type": "markdown",
   "metadata": {},
   "source": [
    "# **Racing Data Analysis Project**"
   ]
  },
  {
   "cell_type": "markdown",
   "metadata": {},
   "source": [
    "Our primary goal is to analyze and determine which cars dominate on specific tracks and identify the most versatile vehicles.\n",
    "\n",
    "For 50 laps we will got that assess system:\n",
    "\n",
    "1. 1st place: 10 points + 3 bonuses = 13 points\n",
    "2. 2nd place: 9 points + 2 bonuses = 11 points\n",
    "3. 3rd place: 8 points + 1 bonus = 9 points\n",
    "4. 4th place: 7 points\n",
    "5. 5th place: 6 points\n",
    "6. 6th place: 5 points\n",
    "7. 7th place: 4 points\n",
    "8. 8th place: 3 points\n",
    "9. 9th place: 2 points\n",
    "10. 10th place: 1 point\n",
    "\n",
    "**Race Length Accounting**\n",
    "\n",
    "Determine the base length of the race (eg 50 laps).<br>\n",
    "If the race is longer, for example 64 laps, the points are multiplied by a factor (64/50).<br>\n",
    "If the race is shorter, for example 42 laps, the points are multiplied by a factor (42/50).<br>\n",
    "So, if a win is worth 13 points in a 50-lap race, in a 64-lap race it will be worth 13 * (64/50) = 16.64 points."
   ]
  },
  {
   "cell_type": "markdown",
   "metadata": {},
   "source": [
    "## **1. Load Libraries**"
   ]
  },
  {
   "cell_type": "code",
   "execution_count": 2,
   "metadata": {},
   "outputs": [],
   "source": [
    "import pandas as pd\n",
    "import matplotlib.pyplot as plt\n",
    "import seaborn as sns"
   ]
  },
  {
   "cell_type": "markdown",
   "metadata": {},
   "source": [
    "## **2. Load Data**"
   ]
  },
  {
   "cell_type": "code",
   "execution_count": 3,
   "metadata": {},
   "outputs": [
    {
     "name": "stdout",
     "output_type": "stream",
     "text": [
      "<class 'pandas.core.frame.DataFrame'>\n",
      "RangeIndex: 7319 entries, 0 to 7318\n",
      "Data columns (total 17 columns):\n",
      " #   Column                Non-Null Count  Dtype          \n",
      "---  ------                --------------  -----          \n",
      " 0   Season                7319 non-null   int64          \n",
      " 1   Meeting               7319 non-null   object         \n",
      " 2   Event name            7319 non-null   object         \n",
      " 3   Pos                   7319 non-null   int64          \n",
      " 4   Car #                 7319 non-null   int64          \n",
      " 5   Class                 7319 non-null   category       \n",
      " 6   Special Class         7319 non-null   bool           \n",
      " 7   Drivers               7319 non-null   object         \n",
      " 8   Team                  7319 non-null   object         \n",
      " 9   Car                   7319 non-null   object         \n",
      " 10  Best lap set          7319 non-null   bool           \n",
      " 11  Time                  7319 non-null   object         \n",
      " 12  Time timedelta        7319 non-null   timedelta64[ns]\n",
      " 13  Laps                  7319 non-null   int64          \n",
      " 14  Gap                   7319 non-null   object         \n",
      " 15  Gap Timedelta         7319 non-null   timedelta64[ns]\n",
      " 16  Dropped off the Race  7319 non-null   bool           \n",
      "dtypes: bool(3), category(1), int64(4), object(7), timedelta64[ns](2)\n",
      "memory usage: 772.4+ KB\n"
     ]
    }
   ],
   "source": [
    "df = pd.read_parquet(\".\\\\cleaned_data\\\\race_data.parquet\")\n",
    "df.info()"
   ]
  },
  {
   "cell_type": "code",
   "execution_count": 4,
   "metadata": {},
   "outputs": [
    {
     "name": "stdout",
     "output_type": "stream",
     "text": [
      "Index(['Invitational', 'Am Cup', 'Bronze Cup', 'Pro-Am Cup', 'Silver Cup',\n",
      "       'Gold Cup', 'Pro Cup'],\n",
      "      dtype='object')\n"
     ]
    }
   ],
   "source": [
    "categories_order = df['Class'].cat.categories\n",
    "\n",
    "print(categories_order)"
   ]
  },
  {
   "cell_type": "code",
   "execution_count": 5,
   "metadata": {},
   "outputs": [
    {
     "name": "stdout",
     "output_type": "stream",
     "text": [
      "Is the 'Class' column ordered? True\n"
     ]
    }
   ],
   "source": [
    "is_ordered = df['Class'].cat.ordered\n",
    "\n",
    "print(\"Is the 'Class' column ordered?\" , is_ordered)"
   ]
  },
  {
   "cell_type": "code",
   "execution_count": 6,
   "metadata": {},
   "outputs": [
    {
     "data": {
      "text/plain": [
       "Event name\n",
       "Main Race                     1\n",
       "Main Race after 1.30 hour     1\n",
       "Main Race after 2.30 hours    1\n",
       "Name: count, dtype: int64"
      ]
     },
     "execution_count": 6,
     "metadata": {},
     "output_type": "execute_result"
    }
   ],
   "source": [
    "df[(df['Season'] == 2021) & (df['Meeting'] == 'Monza') & (df['Pos'] == 1)]['Event name'].value_counts()"
   ]
  },
  {
   "cell_type": "code",
   "execution_count": 7,
   "metadata": {},
   "outputs": [
    {
     "data": {
      "text/plain": [
       "Laps\n",
       "79    1\n",
       "Name: count, dtype: int64"
      ]
     },
     "execution_count": 7,
     "metadata": {},
     "output_type": "execute_result"
    }
   ],
   "source": [
    "df[(df['Season'] == 2021) & (df['Meeting'] == 'Monza') & (df['Event name'] == 'Main Race') & (df['Pos'] == 1)]['Laps'].value_counts()"
   ]
  },
  {
   "cell_type": "markdown",
   "metadata": {},
   "source": [
    "## Best by Points\n",
    "Add Points column"
   ]
  },
  {
   "cell_type": "code",
   "execution_count": 8,
   "metadata": {},
   "outputs": [],
   "source": [
    "# Definition of the point system\n",
    "points_system = {1: 15, 2: 12, 3: 10, 4: 7, 5: 6, 6: 5, 7: 4, 8: 3, 9: 2, 10: 1}\n",
    "\n",
    "# Function to assign points based on position\n",
    "def assign_points(pos, laps, base_laps=50):\n",
    "    base_points = points_system.get(pos, 0)\n",
    "    lap_factor = laps / base_laps\n",
    "    return base_points * lap_factor\n",
    "\n",
    "# Adding a 'Points' column to the DataFrame\n",
    "df['Points'] = df.apply(lambda row: assign_points(row['Pos'], row['Laps']), axis=1)"
   ]
  },
  {
   "cell_type": "code",
   "execution_count": 9,
   "metadata": {},
   "outputs": [
    {
     "name": "stdout",
     "output_type": "stream",
     "text": [
      "<class 'pandas.core.frame.DataFrame'>\n",
      "RangeIndex: 7319 entries, 0 to 7318\n",
      "Data columns (total 18 columns):\n",
      " #   Column                Non-Null Count  Dtype          \n",
      "---  ------                --------------  -----          \n",
      " 0   Season                7319 non-null   int64          \n",
      " 1   Meeting               7319 non-null   object         \n",
      " 2   Event name            7319 non-null   object         \n",
      " 3   Pos                   7319 non-null   int64          \n",
      " 4   Car #                 7319 non-null   int64          \n",
      " 5   Class                 7319 non-null   category       \n",
      " 6   Special Class         7319 non-null   bool           \n",
      " 7   Drivers               7319 non-null   object         \n",
      " 8   Team                  7319 non-null   object         \n",
      " 9   Car                   7319 non-null   object         \n",
      " 10  Best lap set          7319 non-null   bool           \n",
      " 11  Time                  7319 non-null   object         \n",
      " 12  Time timedelta        7319 non-null   timedelta64[ns]\n",
      " 13  Laps                  7319 non-null   int64          \n",
      " 14  Gap                   7319 non-null   object         \n",
      " 15  Gap Timedelta         7319 non-null   timedelta64[ns]\n",
      " 16  Dropped off the Race  7319 non-null   bool           \n",
      " 17  Points                7319 non-null   float64        \n",
      "dtypes: bool(3), category(1), float64(1), int64(4), object(7), timedelta64[ns](2)\n",
      "memory usage: 829.6+ KB\n"
     ]
    }
   ],
   "source": [
    "df.info()"
   ]
  },
  {
   "cell_type": "code",
   "execution_count": 10,
   "metadata": {},
   "outputs": [
    {
     "data": {
      "text/html": [
       "<div>\n",
       "<style scoped>\n",
       "    .dataframe tbody tr th:only-of-type {\n",
       "        vertical-align: middle;\n",
       "    }\n",
       "\n",
       "    .dataframe tbody tr th {\n",
       "        vertical-align: top;\n",
       "    }\n",
       "\n",
       "    .dataframe thead th {\n",
       "        text-align: right;\n",
       "    }\n",
       "</style>\n",
       "<table border=\"1\" class=\"dataframe\">\n",
       "  <thead>\n",
       "    <tr style=\"text-align: right;\">\n",
       "      <th></th>\n",
       "      <th>Car</th>\n",
       "      <th>Points</th>\n",
       "    </tr>\n",
       "  </thead>\n",
       "  <tbody>\n",
       "    <tr>\n",
       "      <th>0</th>\n",
       "      <td>Audi R8 LMS GT3 EVO 2</td>\n",
       "      <td>2582.94</td>\n",
       "    </tr>\n",
       "    <tr>\n",
       "      <th>1</th>\n",
       "      <td>BMW M4 GT3</td>\n",
       "      <td>2431.52</td>\n",
       "    </tr>\n",
       "    <tr>\n",
       "      <th>2</th>\n",
       "      <td>Porsche 911 GT3 R (992)</td>\n",
       "      <td>1580.96</td>\n",
       "    </tr>\n",
       "    <tr>\n",
       "      <th>3</th>\n",
       "      <td>Mercedes-AMG GT3</td>\n",
       "      <td>1561.62</td>\n",
       "    </tr>\n",
       "    <tr>\n",
       "      <th>4</th>\n",
       "      <td>McLaren 720S GT3 EVO</td>\n",
       "      <td>243.58</td>\n",
       "    </tr>\n",
       "    <tr>\n",
       "      <th>5</th>\n",
       "      <td>Ferrari 296 GT3</td>\n",
       "      <td>117.26</td>\n",
       "    </tr>\n",
       "    <tr>\n",
       "      <th>6</th>\n",
       "      <td>Lamborghini Huracan GT3 EVO 2</td>\n",
       "      <td>60.42</td>\n",
       "    </tr>\n",
       "    <tr>\n",
       "      <th>7</th>\n",
       "      <td>Aston Martin Vantage GT3</td>\n",
       "      <td>0.00</td>\n",
       "    </tr>\n",
       "    <tr>\n",
       "      <th>8</th>\n",
       "      <td>Ferrari 488 GT3</td>\n",
       "      <td>0.00</td>\n",
       "    </tr>\n",
       "    <tr>\n",
       "      <th>9</th>\n",
       "      <td>Porsche 911 GT3-R (991.II)</td>\n",
       "      <td>0.00</td>\n",
       "    </tr>\n",
       "  </tbody>\n",
       "</table>\n",
       "</div>"
      ],
      "text/plain": [
       "                             Car   Points\n",
       "0          Audi R8 LMS GT3 EVO 2  2582.94\n",
       "1                     BMW M4 GT3  2431.52\n",
       "2        Porsche 911 GT3 R (992)  1580.96\n",
       "3               Mercedes-AMG GT3  1561.62\n",
       "4           McLaren 720S GT3 EVO   243.58\n",
       "5                Ferrari 296 GT3   117.26\n",
       "6  Lamborghini Huracan GT3 EVO 2    60.42\n",
       "7       Aston Martin Vantage GT3     0.00\n",
       "8                Ferrari 488 GT3     0.00\n",
       "9     Porsche 911 GT3-R (991.II)     0.00"
      ]
     },
     "execution_count": 10,
     "metadata": {},
     "output_type": "execute_result"
    }
   ],
   "source": [
    "filtered_data = df[(df['Meeting'] == 'CrowdStrike 24 Hours of Spa') & (df['Season'] == 2023)]\n",
    "total_points_by_car = filtered_data.groupby('Car')['Points'].sum().sort_values(ascending=False).reset_index()\n",
    "total_points_by_car"
   ]
  },
  {
   "cell_type": "code",
   "execution_count": 11,
   "metadata": {},
   "outputs": [
    {
     "data": {
      "text/plain": [
       "array(['Barcelona', 'Brands Hatch', 'Circuit Paul Ricard 1000Km',\n",
       "       'CrowdStrike 24 Hours of Spa', 'Hockenheim', 'Misano', 'Monza',\n",
       "       'Nürburgring', 'Valencia', 'Zandvoort'], dtype=object)"
      ]
     },
     "execution_count": 11,
     "metadata": {},
     "output_type": "execute_result"
    }
   ],
   "source": [
    "df[df['Season'] == 2023]['Meeting'].unique()"
   ]
  },
  {
   "cell_type": "code",
   "execution_count": 12,
   "metadata": {},
   "outputs": [
    {
     "data": {
      "text/html": [
       "<div>\n",
       "<style scoped>\n",
       "    .dataframe tbody tr th:only-of-type {\n",
       "        vertical-align: middle;\n",
       "    }\n",
       "\n",
       "    .dataframe tbody tr th {\n",
       "        vertical-align: top;\n",
       "    }\n",
       "\n",
       "    .dataframe thead th {\n",
       "        text-align: right;\n",
       "    }\n",
       "</style>\n",
       "<table border=\"1\" class=\"dataframe\">\n",
       "  <thead>\n",
       "    <tr style=\"text-align: right;\">\n",
       "      <th></th>\n",
       "      <th>Car</th>\n",
       "      <th>Points</th>\n",
       "      <th>Track</th>\n",
       "      <th>Season</th>\n",
       "    </tr>\n",
       "  </thead>\n",
       "  <tbody>\n",
       "    <tr>\n",
       "      <th>0</th>\n",
       "      <td>Mercedes-AMG GT3</td>\n",
       "      <td>103.90</td>\n",
       "      <td>Barcelona</td>\n",
       "      <td>2021</td>\n",
       "    </tr>\n",
       "    <tr>\n",
       "      <th>1</th>\n",
       "      <td>Porsche 911 GT3-R (991.II)</td>\n",
       "      <td>65.44</td>\n",
       "      <td>Barcelona</td>\n",
       "      <td>2021</td>\n",
       "    </tr>\n",
       "    <tr>\n",
       "      <th>2</th>\n",
       "      <td>Lamborghini Huracan GT3 Evo</td>\n",
       "      <td>49.20</td>\n",
       "      <td>Barcelona</td>\n",
       "      <td>2021</td>\n",
       "    </tr>\n",
       "    <tr>\n",
       "      <th>3</th>\n",
       "      <td>Audi R8 LMS GT3</td>\n",
       "      <td>34.96</td>\n",
       "      <td>Barcelona</td>\n",
       "      <td>2021</td>\n",
       "    </tr>\n",
       "    <tr>\n",
       "      <th>4</th>\n",
       "      <td>Ferrari 488 GT3</td>\n",
       "      <td>30.04</td>\n",
       "      <td>Barcelona</td>\n",
       "      <td>2021</td>\n",
       "    </tr>\n",
       "  </tbody>\n",
       "</table>\n",
       "</div>"
      ],
      "text/plain": [
       "                           Car  Points      Track  Season\n",
       "0             Mercedes-AMG GT3  103.90  Barcelona    2021\n",
       "1   Porsche 911 GT3-R (991.II)   65.44  Barcelona    2021\n",
       "2  Lamborghini Huracan GT3 Evo   49.20  Barcelona    2021\n",
       "3              Audi R8 LMS GT3   34.96  Barcelona    2021\n",
       "4              Ferrari 488 GT3   30.04  Barcelona    2021"
      ]
     },
     "execution_count": 12,
     "metadata": {},
     "output_type": "execute_result"
    }
   ],
   "source": [
    "# Подготовка датафрейма для хранения общих результатов\n",
    "total_points_by_car_and_track = pd.DataFrame()\n",
    "\n",
    "# Получение уникальных трасс и сезонов\n",
    "unique_tracks = df['Meeting'].unique()\n",
    "unique_seasons = df['Season'].unique()\n",
    "\n",
    "# Цикл по всем сезонам и трассам для расчета баллов\n",
    "for season in unique_seasons:\n",
    "    for track in unique_tracks:\n",
    "        # Фильтрация данных для конкретной трассы и сезона\n",
    "        filtered_data = df[(df['Meeting'] == track) & (df['Season'] == season)]\n",
    "        \n",
    "        # Проверка, есть ли данные для данной трассы и сезона\n",
    "        if not filtered_data.empty:\n",
    "            # Расчет и суммирование баллов\n",
    "            points_by_car = filtered_data.groupby('Car')['Points'].sum().sort_values(ascending=False).reset_index()\n",
    "            \n",
    "            # Добавление информации о трассе и сезоне\n",
    "            points_by_car['Track'] = track\n",
    "            points_by_car['Season'] = season\n",
    "            \n",
    "            # Сохранение результатов в общем датафрейме\n",
    "            total_points_by_car_and_track = pd.concat([total_points_by_car_and_track, points_by_car])\n",
    "\n",
    "# Сброс индекса в итоговом датафрейме\n",
    "total_points_by_car_and_track.reset_index(drop=True, inplace=True)\n",
    "\n",
    "# Отображение итогового датафрейма\n",
    "total_points_by_car_and_track.head()\n"
   ]
  },
  {
   "cell_type": "code",
   "execution_count": 13,
   "metadata": {},
   "outputs": [
    {
     "data": {
      "text/html": [
       "<div>\n",
       "<style scoped>\n",
       "    .dataframe tbody tr th:only-of-type {\n",
       "        vertical-align: middle;\n",
       "    }\n",
       "\n",
       "    .dataframe tbody tr th {\n",
       "        vertical-align: top;\n",
       "    }\n",
       "\n",
       "    .dataframe thead th {\n",
       "        text-align: right;\n",
       "    }\n",
       "</style>\n",
       "<table border=\"1\" class=\"dataframe\">\n",
       "  <thead>\n",
       "    <tr style=\"text-align: right;\">\n",
       "      <th></th>\n",
       "      <th>Car</th>\n",
       "      <th>Points</th>\n",
       "    </tr>\n",
       "  </thead>\n",
       "  <tbody>\n",
       "    <tr>\n",
       "      <th>0</th>\n",
       "      <td>Audi R8 LMS GT3 EVO 2</td>\n",
       "      <td>3081.72</td>\n",
       "    </tr>\n",
       "    <tr>\n",
       "      <th>1</th>\n",
       "      <td>BMW M4 GT3</td>\n",
       "      <td>2984.22</td>\n",
       "    </tr>\n",
       "    <tr>\n",
       "      <th>2</th>\n",
       "      <td>Mercedes-AMG GT3</td>\n",
       "      <td>1925.56</td>\n",
       "    </tr>\n",
       "    <tr>\n",
       "      <th>3</th>\n",
       "      <td>Porsche 911 GT3 R (992)</td>\n",
       "      <td>1674.94</td>\n",
       "    </tr>\n",
       "    <tr>\n",
       "      <th>4</th>\n",
       "      <td>Ferrari 296 GT3</td>\n",
       "      <td>400.46</td>\n",
       "    </tr>\n",
       "    <tr>\n",
       "      <th>5</th>\n",
       "      <td>McLaren 720S GT3 EVO</td>\n",
       "      <td>262.60</td>\n",
       "    </tr>\n",
       "    <tr>\n",
       "      <th>6</th>\n",
       "      <td>Mercedes-AMG GT3 EVO</td>\n",
       "      <td>244.42</td>\n",
       "    </tr>\n",
       "    <tr>\n",
       "      <th>7</th>\n",
       "      <td>Lamborghini Huracan GT3 EVO 2</td>\n",
       "      <td>153.20</td>\n",
       "    </tr>\n",
       "    <tr>\n",
       "      <th>8</th>\n",
       "      <td>Aston Martin Vantage GT3</td>\n",
       "      <td>0.00</td>\n",
       "    </tr>\n",
       "    <tr>\n",
       "      <th>9</th>\n",
       "      <td>Ferrari 488 GT3</td>\n",
       "      <td>0.00</td>\n",
       "    </tr>\n",
       "    <tr>\n",
       "      <th>10</th>\n",
       "      <td>Honda NSX GT3</td>\n",
       "      <td>0.00</td>\n",
       "    </tr>\n",
       "    <tr>\n",
       "      <th>11</th>\n",
       "      <td>Honda NSX GT3 EVO 2</td>\n",
       "      <td>0.00</td>\n",
       "    </tr>\n",
       "    <tr>\n",
       "      <th>12</th>\n",
       "      <td>Lamborghini Huracan GT3 Evo</td>\n",
       "      <td>0.00</td>\n",
       "    </tr>\n",
       "    <tr>\n",
       "      <th>13</th>\n",
       "      <td>Porsche 911 GT3-R (991.II)</td>\n",
       "      <td>0.00</td>\n",
       "    </tr>\n",
       "  </tbody>\n",
       "</table>\n",
       "</div>"
      ],
      "text/plain": [
       "                              Car   Points\n",
       "0           Audi R8 LMS GT3 EVO 2  3081.72\n",
       "1                      BMW M4 GT3  2984.22\n",
       "2                Mercedes-AMG GT3  1925.56\n",
       "3         Porsche 911 GT3 R (992)  1674.94\n",
       "4                 Ferrari 296 GT3   400.46\n",
       "5            McLaren 720S GT3 EVO   262.60\n",
       "6            Mercedes-AMG GT3 EVO   244.42\n",
       "7   Lamborghini Huracan GT3 EVO 2   153.20\n",
       "8        Aston Martin Vantage GT3     0.00\n",
       "9                 Ferrari 488 GT3     0.00\n",
       "10                  Honda NSX GT3     0.00\n",
       "11            Honda NSX GT3 EVO 2     0.00\n",
       "12    Lamborghini Huracan GT3 Evo     0.00\n",
       "13     Porsche 911 GT3-R (991.II)     0.00"
      ]
     },
     "execution_count": 13,
     "metadata": {},
     "output_type": "execute_result"
    }
   ],
   "source": [
    "filtered_data = total_points_by_car_and_track[total_points_by_car_and_track['Season'] == 2023]\n",
    "best_cars = filtered_data.groupby('Car')['Points'].sum().sort_values(ascending=False).reset_index()\n",
    "best_cars"
   ]
  },
  {
   "cell_type": "markdown",
   "metadata": {},
   "source": [
    "## Best on Barcelona"
   ]
  },
  {
   "cell_type": "code",
   "execution_count": 18,
   "metadata": {},
   "outputs": [
    {
     "data": {
      "text/html": [
       "<div>\n",
       "<style scoped>\n",
       "    .dataframe tbody tr th:only-of-type {\n",
       "        vertical-align: middle;\n",
       "    }\n",
       "\n",
       "    .dataframe tbody tr th {\n",
       "        vertical-align: top;\n",
       "    }\n",
       "\n",
       "    .dataframe thead th {\n",
       "        text-align: right;\n",
       "    }\n",
       "</style>\n",
       "<table border=\"1\" class=\"dataframe\">\n",
       "  <thead>\n",
       "    <tr style=\"text-align: right;\">\n",
       "      <th></th>\n",
       "      <th>Car</th>\n",
       "      <th>Points</th>\n",
       "    </tr>\n",
       "  </thead>\n",
       "  <tbody>\n",
       "    <tr>\n",
       "      <th>0</th>\n",
       "      <td>Ferrari 296 GT3</td>\n",
       "      <td>65.38</td>\n",
       "    </tr>\n",
       "    <tr>\n",
       "      <th>1</th>\n",
       "      <td>Mercedes-AMG GT3 EVO</td>\n",
       "      <td>57.18</td>\n",
       "    </tr>\n",
       "    <tr>\n",
       "      <th>2</th>\n",
       "      <td>Porsche 911 GT3 R (992)</td>\n",
       "      <td>36.74</td>\n",
       "    </tr>\n",
       "    <tr>\n",
       "      <th>3</th>\n",
       "      <td>McLaren 720S GT3 EVO</td>\n",
       "      <td>8.10</td>\n",
       "    </tr>\n",
       "    <tr>\n",
       "      <th>4</th>\n",
       "      <td>Audi R8 LMS GT3 EVO 2</td>\n",
       "      <td>4.46</td>\n",
       "    </tr>\n",
       "    <tr>\n",
       "      <th>5</th>\n",
       "      <td>BMW M4 GT3</td>\n",
       "      <td>3.64</td>\n",
       "    </tr>\n",
       "    <tr>\n",
       "      <th>6</th>\n",
       "      <td>Aston Martin Vantage GT3</td>\n",
       "      <td>0.00</td>\n",
       "    </tr>\n",
       "    <tr>\n",
       "      <th>7</th>\n",
       "      <td>Lamborghini Huracan GT3 EVO 2</td>\n",
       "      <td>0.00</td>\n",
       "    </tr>\n",
       "    <tr>\n",
       "      <th>8</th>\n",
       "      <td>Mercedes-AMG GT3</td>\n",
       "      <td>0.00</td>\n",
       "    </tr>\n",
       "  </tbody>\n",
       "</table>\n",
       "</div>"
      ],
      "text/plain": [
       "                             Car  Points\n",
       "0                Ferrari 296 GT3   65.38\n",
       "1           Mercedes-AMG GT3 EVO   57.18\n",
       "2        Porsche 911 GT3 R (992)   36.74\n",
       "3           McLaren 720S GT3 EVO    8.10\n",
       "4          Audi R8 LMS GT3 EVO 2    4.46\n",
       "5                     BMW M4 GT3    3.64\n",
       "6       Aston Martin Vantage GT3    0.00\n",
       "7  Lamborghini Huracan GT3 EVO 2    0.00\n",
       "8               Mercedes-AMG GT3    0.00"
      ]
     },
     "execution_count": 18,
     "metadata": {},
     "output_type": "execute_result"
    }
   ],
   "source": [
    "filtered_data = total_points_by_car_and_track[(total_points_by_car_and_track['Season'] == 2023) & (total_points_by_car_and_track['Track'] == 'Barcelona')]\n",
    "best_cars = filtered_data.groupby('Car')['Points'].sum().sort_values(ascending=False).reset_index()\n",
    "best_cars"
   ]
  },
  {
   "cell_type": "markdown",
   "metadata": {},
   "source": [
    "## Best on Spa"
   ]
  },
  {
   "cell_type": "code",
   "execution_count": 20,
   "metadata": {},
   "outputs": [
    {
     "data": {
      "text/html": [
       "<div>\n",
       "<style scoped>\n",
       "    .dataframe tbody tr th:only-of-type {\n",
       "        vertical-align: middle;\n",
       "    }\n",
       "\n",
       "    .dataframe tbody tr th {\n",
       "        vertical-align: top;\n",
       "    }\n",
       "\n",
       "    .dataframe thead th {\n",
       "        text-align: right;\n",
       "    }\n",
       "</style>\n",
       "<table border=\"1\" class=\"dataframe\">\n",
       "  <thead>\n",
       "    <tr style=\"text-align: right;\">\n",
       "      <th></th>\n",
       "      <th>Car</th>\n",
       "      <th>Points</th>\n",
       "    </tr>\n",
       "  </thead>\n",
       "  <tbody>\n",
       "    <tr>\n",
       "      <th>0</th>\n",
       "      <td>Mercedes-AMG GT3</td>\n",
       "      <td>339.86</td>\n",
       "    </tr>\n",
       "    <tr>\n",
       "      <th>1</th>\n",
       "      <td>BMW M4 GT3</td>\n",
       "      <td>250.98</td>\n",
       "    </tr>\n",
       "    <tr>\n",
       "      <th>2</th>\n",
       "      <td>Audi R8 LMS GT3 EVO 2</td>\n",
       "      <td>184.36</td>\n",
       "    </tr>\n",
       "    <tr>\n",
       "      <th>3</th>\n",
       "      <td>Ferrari 296 GT3</td>\n",
       "      <td>129.62</td>\n",
       "    </tr>\n",
       "    <tr>\n",
       "      <th>4</th>\n",
       "      <td>Lamborghini Huracan GT3 EVO 2</td>\n",
       "      <td>24.60</td>\n",
       "    </tr>\n",
       "    <tr>\n",
       "      <th>5</th>\n",
       "      <td>Aston Martin Vantage GT3</td>\n",
       "      <td>0.00</td>\n",
       "    </tr>\n",
       "    <tr>\n",
       "      <th>6</th>\n",
       "      <td>Ferrari 488 GT3</td>\n",
       "      <td>0.00</td>\n",
       "    </tr>\n",
       "    <tr>\n",
       "      <th>7</th>\n",
       "      <td>McLaren 720S GT3 EVO</td>\n",
       "      <td>0.00</td>\n",
       "    </tr>\n",
       "    <tr>\n",
       "      <th>8</th>\n",
       "      <td>Porsche 911 GT3 R (992)</td>\n",
       "      <td>0.00</td>\n",
       "    </tr>\n",
       "    <tr>\n",
       "      <th>9</th>\n",
       "      <td>Porsche 911 GT3-R (991.II)</td>\n",
       "      <td>0.00</td>\n",
       "    </tr>\n",
       "  </tbody>\n",
       "</table>\n",
       "</div>"
      ],
      "text/plain": [
       "                             Car  Points\n",
       "0               Mercedes-AMG GT3  339.86\n",
       "1                     BMW M4 GT3  250.98\n",
       "2          Audi R8 LMS GT3 EVO 2  184.36\n",
       "3                Ferrari 296 GT3  129.62\n",
       "4  Lamborghini Huracan GT3 EVO 2   24.60\n",
       "5       Aston Martin Vantage GT3    0.00\n",
       "6                Ferrari 488 GT3    0.00\n",
       "7           McLaren 720S GT3 EVO    0.00\n",
       "8        Porsche 911 GT3 R (992)    0.00\n",
       "9     Porsche 911 GT3-R (991.II)    0.00"
      ]
     },
     "execution_count": 20,
     "metadata": {},
     "output_type": "execute_result"
    }
   ],
   "source": [
    "filtered_data = total_points_by_car_and_track[(total_points_by_car_and_track['Season'] == 2023) & (total_points_by_car_and_track['Track'] == 'CrowdStrike 24 Hours of Spa')]\n",
    "best_cars = filtered_data.groupby('Car')['Points'].sum().sort_values(ascending=False).reset_index()\n",
    "best_cars"
   ]
  },
  {
   "cell_type": "markdown",
   "metadata": {},
   "source": [
    "`Make an ANOVA test and pairwise_tukeyhsd for all RaceTracks to know if there is a Outperforming car`"
   ]
  },
  {
   "cell_type": "code",
   "execution_count": 15,
   "metadata": {},
   "outputs": [
    {
     "data": {
      "image/png": "[encoded data removed]",
      "text/plain": [
       "<Figure size 1200x800 with 1 Axes>"
      ]
     },
     "metadata": {},
     "output_type": "display_data"
    }
   ],
   "source": [
    "# Фильтрация данных для сезона 2021 и трассы Barcelona\n",
    "filtered_data = total_points_by_car_and_track[(total_points_by_car_and_track['Season'] == 2022) &\n",
    "                                             (total_points_by_car_and_track['Track'] == 'Barcelona')]\n",
    "\n",
    "# Создание barplot\n",
    "plt.figure(figsize=(12, 8))  # Установка размера фигуры\n",
    "barplot = sns.barplot(data=filtered_data, x='Car', y='Points')\n",
    "\n",
    "# Улучшение читабельности: поворот меток на оси X\n",
    "plt.xticks(rotation=30)\n",
    "\n",
    "# Добавление названий и меток\n",
    "plt.title('Points by Car for Barcelona Track, Season 2021')\n",
    "plt.xlabel('Car')\n",
    "plt.ylabel('Points')\n",
    "\n",
    "# Отображение графика\n",
    "plt.show()"
   ]
  }
 ],
 "metadata": {
  "kernelspec": {
   "display_name": "base",
   "language": "python",
   "name": "python3"
  },
  "language_info": {
   "codemirror_mode": {
    "name": "ipython",
    "version": 3
   },
   "file_extension": ".py",
   "mimetype": "text/x-python",
   "name": "python",
   "nbconvert_exporter": "python",
   "pygments_lexer": "ipython3",
   "version": "3.9.18"
  }
 },
 "nbformat": 4,
 "nbformat_minor": 2
}
