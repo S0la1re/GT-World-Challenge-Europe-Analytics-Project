{
 "cells": [
  {
   "cell_type": "markdown",
   "metadata": {},
   "source": [
    "# **Racing Data Analysis Project**\n",
    "\n",
    "Our primary goal is to analyze and determine which cars dominate on specific tracks and identify the most versatile vehicles.\n"
   ]
  },
  {
   "cell_type": "markdown",
   "metadata": {},
   "source": [
    "## **1\\. Methodology**\n",
    "\n",
    "###  **1.1. Accrual of points**\n",
    "\n",
    "Let's award first 10 racers in every race using that system:\n",
    "\n",
    "1. 1st place: 10 points + 3 bonuses = 13 points\n",
    "2. 2nd place: 9 points + 2 bonuses = 11 points\n",
    "3. 3rd place: 8 points + 1 bonus = 9 points\n",
    "4. 4th place: 7 points\n",
    "5. 5th place: 6 points\n",
    "6. 6th place: 5 points\n",
    "7. 7th place: 4 points\n",
    "8. 8th place: 3 points\n",
    "9. 9th place: 2 points\n",
    "10. 10th place: 1 point\n",
    "\n",
    "\n",
    "\n",
    "### **1.2. Weighing and normalizing points**\n",
    "\n",
    "In the gt-world-challenge-europe championships, different tracks may have a different number of races with different durations. There may be 5 races on one track, and 25 on another.\n",
    "\n",
    "To cope with the varying number of races and their duration, it is important to normalize the scores so that the results are comparable. This can be done in several ways:\n",
    "\n",
    "\n",
    "### **1.2.1. Weighing by the race duration**\n",
    "\n",
    "Let's develop a system where points will be multiplied by a coefficient directly proportional to the duration of the race.\n",
    "\n",
    "Determine the base length of the race = 50 laps.<br>\n",
    "If the race is longer, for example 64 laps, the points are multiplied by a factor (64/50).<br>\n",
    "If the race is shorter, for example 42 laps, the points are multiplied by a factor (42/50).<br>\n",
    "So, if a win is worth 13 points in a 50-lap race, in a 64-lap race it will be worth 13 * (64/50) = 16.64 points.\n",
    "\n",
    "\n",
    "####  **1.2.2. Normalizing by the number of races**\n",
    "\n",
    "Divide the total points at each track by the number of races at that track.\n",
    "For example: If the Mercedes-AMG GT3 scored 60 points in Barcelona in total 3 races, we will divide 60 by 3.\n",
    "\n",
    "\n",
    "### **1.3. Data visualization**\n",
    "\n",
    "Present the results graphically for clarity:<br>\n",
    "Bar Graphs: Displays total points scored or weighted average for each car."
   ]
  },
  {
   "cell_type": "markdown",
   "metadata": {},
   "source": [
    "## **2\\. Load Libraries**"
   ]
  },
  {
   "cell_type": "code",
   "execution_count": 42,
   "metadata": {},
   "outputs": [],
   "source": [
    "import pandas as pd\n",
    "import matplotlib.pyplot as plt\n",
    "import seaborn as sns\n",
    "import scipy.stats\n",
    "import scikit_posthocs as sp"
   ]
  },
  {
   "cell_type": "markdown",
   "metadata": {},
   "source": [
    "## **3\\. Load Data**"
   ]
  },
  {
   "cell_type": "code",
   "execution_count": 15,
   "metadata": {},
   "outputs": [
    {
     "name": "stdout",
     "output_type": "stream",
     "text": [
      "<class 'pandas.core.frame.DataFrame'>\n",
      "RangeIndex: 7319 entries, 0 to 7318\n",
      "Data columns (total 17 columns):\n",
      " #   Column                Non-Null Count  Dtype          \n",
      "---  ------                --------------  -----          \n",
      " 0   Season                7319 non-null   int64          \n",
      " 1   Meeting               7319 non-null   object         \n",
      " 2   Event name            7319 non-null   object         \n",
      " 3   Pos                   7319 non-null   int64          \n",
      " 4   Car #                 7319 non-null   int64          \n",
      " 5   Class                 7319 non-null   category       \n",
      " 6   Special Class         7319 non-null   bool           \n",
      " 7   Drivers               7319 non-null   object         \n",
      " 8   Team                  7319 non-null   object         \n",
      " 9   Car                   7319 non-null   object         \n",
      " 10  Best lap set          7319 non-null   bool           \n",
      " 11  Time                  7319 non-null   object         \n",
      " 12  Time timedelta        7319 non-null   timedelta64[ns]\n",
      " 13  Laps                  7319 non-null   int64          \n",
      " 14  Gap                   7319 non-null   object         \n",
      " 15  Gap Timedelta         7319 non-null   timedelta64[ns]\n",
      " 16  Dropped off the Race  7319 non-null   bool           \n",
      "dtypes: bool(3), category(1), int64(4), object(7), timedelta64[ns](2)\n",
      "memory usage: 772.4+ KB\n"
     ]
    }
   ],
   "source": [
    "df = pd.read_parquet(\".\\\\cleaned_data\\\\race_data.parquet\")\n",
    "df.info()"
   ]
  },
  {
   "cell_type": "markdown",
   "metadata": {},
   "source": [
    "## **4\\. Add weighted 'Points' column**"
   ]
  },
  {
   "cell_type": "code",
   "execution_count": 16,
   "metadata": {},
   "outputs": [],
   "source": [
    "# Definition of the point system\n",
    "points_system = {1: 15, 2: 12, 3: 10, 4: 7, 5: 6, 6: 5, 7: 4, 8: 3, 9: 2, 10: 1}\n",
    "\n",
    "# Function to assign points based on position\n",
    "def assign_points(pos, laps, weighted, base_laps=50):\n",
    "    base_points = points_system.get(pos, 0)\n",
    "    if weighted == False:\n",
    "        return base_points\n",
    "    else:\n",
    "        lap_factor = laps / base_laps\n",
    "        return base_points * lap_factor\n",
    "\n",
    "# Adding a 'Points' column to the DataFrame\n",
    "df['Points'] = df.apply(lambda row: assign_points(row['Pos'], row['Laps'], weighted = True), axis=1)\n",
    "\n",
    "#df['Non Weighted Points'] = df.apply(lambda row: assign_points(row['Pos'], row['Laps'], weighted = False), axis=1)\n",
    "#df.to_csv('C:\\\\Users\\\\ireev\\\\Desktop\\\\data.csv')"
   ]
  },
  {
   "cell_type": "markdown",
   "metadata": {},
   "source": [
    "### **4.1. Normalizing the 'Points' column**"
   ]
  },
  {
   "cell_type": "code",
   "execution_count": 17,
   "metadata": {},
   "outputs": [
    {
     "data": {
      "text/html": [
       "<div>\n",
       "<style scoped>\n",
       "    .dataframe tbody tr th:only-of-type {\n",
       "        vertical-align: middle;\n",
       "    }\n",
       "\n",
       "    .dataframe tbody tr th {\n",
       "        vertical-align: top;\n",
       "    }\n",
       "\n",
       "    .dataframe thead th {\n",
       "        text-align: right;\n",
       "    }\n",
       "</style>\n",
       "<table border=\"1\" class=\"dataframe\">\n",
       "  <thead>\n",
       "    <tr style=\"text-align: right;\">\n",
       "      <th></th>\n",
       "      <th>Car</th>\n",
       "      <th>Points</th>\n",
       "      <th>Meeting</th>\n",
       "      <th>Season</th>\n",
       "      <th>Pos</th>\n",
       "    </tr>\n",
       "  </thead>\n",
       "  <tbody>\n",
       "    <tr>\n",
       "      <th>0</th>\n",
       "      <td>Mercedes-AMG GT3</td>\n",
       "      <td>103.90</td>\n",
       "      <td>Barcelona</td>\n",
       "      <td>2021</td>\n",
       "      <td>1</td>\n",
       "    </tr>\n",
       "    <tr>\n",
       "      <th>1</th>\n",
       "      <td>Porsche 911 GT3-R (991.II)</td>\n",
       "      <td>65.44</td>\n",
       "      <td>Barcelona</td>\n",
       "      <td>2021</td>\n",
       "      <td>2</td>\n",
       "    </tr>\n",
       "    <tr>\n",
       "      <th>2</th>\n",
       "      <td>Lamborghini Huracan GT3 Evo</td>\n",
       "      <td>49.20</td>\n",
       "      <td>Barcelona</td>\n",
       "      <td>2021</td>\n",
       "      <td>3</td>\n",
       "    </tr>\n",
       "    <tr>\n",
       "      <th>3</th>\n",
       "      <td>Audi R8 LMS GT3</td>\n",
       "      <td>34.96</td>\n",
       "      <td>Barcelona</td>\n",
       "      <td>2021</td>\n",
       "      <td>4</td>\n",
       "    </tr>\n",
       "    <tr>\n",
       "      <th>4</th>\n",
       "      <td>Ferrari 488 GT3</td>\n",
       "      <td>30.04</td>\n",
       "      <td>Barcelona</td>\n",
       "      <td>2021</td>\n",
       "      <td>5</td>\n",
       "    </tr>\n",
       "  </tbody>\n",
       "</table>\n",
       "</div>"
      ],
      "text/plain": [
       "                           Car  Points    Meeting  Season  Pos\n",
       "0             Mercedes-AMG GT3  103.90  Barcelona    2021    1\n",
       "1   Porsche 911 GT3-R (991.II)   65.44  Barcelona    2021    2\n",
       "2  Lamborghini Huracan GT3 Evo   49.20  Barcelona    2021    3\n",
       "3              Audi R8 LMS GT3   34.96  Barcelona    2021    4\n",
       "4              Ferrari 488 GT3   30.04  Barcelona    2021    5"
      ]
     },
     "execution_count": 17,
     "metadata": {},
     "output_type": "execute_result"
    }
   ],
   "source": [
    "def normalizing_points(df, column_name, sum_points=True):\n",
    "    normalized_points = pd.DataFrame()\n",
    "\n",
    "    # Retrieving unique meetings and seasons\n",
    "    unique_meetings = df['Meeting'].unique()\n",
    "    unique_seasons = df['Season'].unique()\n",
    "\n",
    "    # Looping through all seasons and meetings to handle points\n",
    "    for season in unique_seasons:\n",
    "        for meeting in unique_meetings:\n",
    "            # Filtering data for a specific meeting and season\n",
    "            filtered_data = df[(df['Meeting'] == meeting) & (df['Season'] == season)]\n",
    "\n",
    "            if not filtered_data.empty:\n",
    "                if sum_points:\n",
    "                    # Summing points by car, sort, and reset index\n",
    "                    points_by_car = filtered_data.groupby('Car')[column_name].sum().reset_index()\n",
    "                else:\n",
    "                    # Just use the filtered data without summing or normalizing\n",
    "                    points_by_car = filtered_data[['Car', column_name]].copy()\n",
    "\n",
    "                points_by_car.sort_values(by=column_name, ascending=False, inplace=True)\n",
    "                points_by_car['Meeting'] = meeting\n",
    "                points_by_car['Season'] = season\n",
    "                points_by_car['Pos'] = points_by_car[column_name].rank(method='min', ascending=False).astype(int)\n",
    "\n",
    "                # Ensuring all necessary columns are present\n",
    "                columns_to_keep = ['Car', column_name, 'Meeting', 'Season', 'Pos']\n",
    "                points_by_car = points_by_car[columns_to_keep]\n",
    "\n",
    "                # Appending to the main dataframe\n",
    "                normalized_points = pd.concat([normalized_points, points_by_car], ignore_index=True)\n",
    "\n",
    "    return normalized_points\n",
    "\n",
    "\n",
    "# Displaying the final dataframe\n",
    "normalized_points_sum = normalizing_points(df, 'Points', True)\n",
    "normalized_points = normalizing_points(df, 'Points', False)\n",
    "\n",
    "normalized_points_sum.head()\n",
    "\n",
    "#normalized_points.to_csv('C:\\\\Users\\\\ireev\\\\Desktop\\\\normalized_points_False.csv')"
   ]
  },
  {
   "cell_type": "code",
   "execution_count": 18,
   "metadata": {},
   "outputs": [
    {
     "data": {
      "text/html": [
       "<div>\n",
       "<style scoped>\n",
       "    .dataframe tbody tr th:only-of-type {\n",
       "        vertical-align: middle;\n",
       "    }\n",
       "\n",
       "    .dataframe tbody tr th {\n",
       "        vertical-align: top;\n",
       "    }\n",
       "\n",
       "    .dataframe thead th {\n",
       "        text-align: right;\n",
       "    }\n",
       "</style>\n",
       "<table border=\"1\" class=\"dataframe\">\n",
       "  <thead>\n",
       "    <tr style=\"text-align: right;\">\n",
       "      <th></th>\n",
       "      <th>Car</th>\n",
       "      <th>Points</th>\n",
       "      <th>Meeting</th>\n",
       "      <th>Season</th>\n",
       "      <th>Pos</th>\n",
       "    </tr>\n",
       "  </thead>\n",
       "  <tbody>\n",
       "    <tr>\n",
       "      <th>0</th>\n",
       "      <td>Mercedes-AMG GT3</td>\n",
       "      <td>28.50</td>\n",
       "      <td>Barcelona</td>\n",
       "      <td>2021</td>\n",
       "      <td>1</td>\n",
       "    </tr>\n",
       "    <tr>\n",
       "      <th>1</th>\n",
       "      <td>Mercedes-AMG GT3</td>\n",
       "      <td>23.70</td>\n",
       "      <td>Barcelona</td>\n",
       "      <td>2021</td>\n",
       "      <td>2</td>\n",
       "    </tr>\n",
       "    <tr>\n",
       "      <th>2</th>\n",
       "      <td>Porsche 911 GT3-R (991.II)</td>\n",
       "      <td>22.80</td>\n",
       "      <td>Barcelona</td>\n",
       "      <td>2021</td>\n",
       "      <td>3</td>\n",
       "    </tr>\n",
       "    <tr>\n",
       "      <th>3</th>\n",
       "      <td>Audi R8 LMS GT3</td>\n",
       "      <td>19.00</td>\n",
       "      <td>Barcelona</td>\n",
       "      <td>2021</td>\n",
       "      <td>4</td>\n",
       "    </tr>\n",
       "    <tr>\n",
       "      <th>4</th>\n",
       "      <td>Porsche 911 GT3-R (991.II)</td>\n",
       "      <td>18.96</td>\n",
       "      <td>Barcelona</td>\n",
       "      <td>2021</td>\n",
       "      <td>5</td>\n",
       "    </tr>\n",
       "  </tbody>\n",
       "</table>\n",
       "</div>"
      ],
      "text/plain": [
       "                          Car  Points    Meeting  Season  Pos\n",
       "0            Mercedes-AMG GT3   28.50  Barcelona    2021    1\n",
       "1            Mercedes-AMG GT3   23.70  Barcelona    2021    2\n",
       "2  Porsche 911 GT3-R (991.II)   22.80  Barcelona    2021    3\n",
       "3             Audi R8 LMS GT3   19.00  Barcelona    2021    4\n",
       "4  Porsche 911 GT3-R (991.II)   18.96  Barcelona    2021    5"
      ]
     },
     "execution_count": 18,
     "metadata": {},
     "output_type": "execute_result"
    }
   ],
   "source": [
    "normalized_points.head()"
   ]
  },
  {
   "cell_type": "code",
   "execution_count": 19,
   "metadata": {},
   "outputs": [
    {
     "data": {
      "text/plain": [
       "65.44"
      ]
     },
     "execution_count": 19,
     "metadata": {},
     "output_type": "execute_result"
    }
   ],
   "source": [
    "normalized_points[(normalized_points['Meeting'] == 'Barcelona') & \n",
    "                        (normalized_points['Season'] == 2021) & \n",
    "                        (normalized_points['Car'] == 'Porsche 911 GT3-R (991.II)')]['Points'].sum()"
   ]
  },
  {
   "cell_type": "markdown",
   "metadata": {},
   "source": [
    "---"
   ]
  },
  {
   "cell_type": "code",
   "execution_count": 20,
   "metadata": {},
   "outputs": [
    {
     "data": {
      "text/plain": [
       "array(['Barcelona', 'Brands Hatch', 'Circuit Paul Ricard', 'Magny-Cours',\n",
       "       'Misano', 'Monza', 'Nürburgring', 'Circuit de Spa-Francorchamps',\n",
       "       'Valencia', 'Zandvoort', 'Hockenheim', 'Imola'], dtype=object)"
      ]
     },
     "execution_count": 20,
     "metadata": {},
     "output_type": "execute_result"
    }
   ],
   "source": [
    "df['Meeting'].unique()"
   ]
  },
  {
   "cell_type": "code",
   "execution_count": 21,
   "metadata": {},
   "outputs": [
    {
     "data": {
      "text/html": [
       "<div>\n",
       "<style scoped>\n",
       "    .dataframe tbody tr th:only-of-type {\n",
       "        vertical-align: middle;\n",
       "    }\n",
       "\n",
       "    .dataframe tbody tr th {\n",
       "        vertical-align: top;\n",
       "    }\n",
       "\n",
       "    .dataframe thead th {\n",
       "        text-align: right;\n",
       "    }\n",
       "</style>\n",
       "<table border=\"1\" class=\"dataframe\">\n",
       "  <thead>\n",
       "    <tr style=\"text-align: right;\">\n",
       "      <th></th>\n",
       "      <th>Car</th>\n",
       "      <th>Points</th>\n",
       "    </tr>\n",
       "  </thead>\n",
       "  <tbody>\n",
       "    <tr>\n",
       "      <th>0</th>\n",
       "      <td>Audi R8 LMS GT3 EVO 2</td>\n",
       "      <td>2582.94</td>\n",
       "    </tr>\n",
       "    <tr>\n",
       "      <th>1</th>\n",
       "      <td>BMW M4 GT3</td>\n",
       "      <td>2431.52</td>\n",
       "    </tr>\n",
       "    <tr>\n",
       "      <th>2</th>\n",
       "      <td>Porsche 911 GT3 R (992)</td>\n",
       "      <td>1580.96</td>\n",
       "    </tr>\n",
       "    <tr>\n",
       "      <th>3</th>\n",
       "      <td>Mercedes-AMG GT3</td>\n",
       "      <td>1561.62</td>\n",
       "    </tr>\n",
       "    <tr>\n",
       "      <th>4</th>\n",
       "      <td>McLaren 720S GT3 EVO</td>\n",
       "      <td>243.58</td>\n",
       "    </tr>\n",
       "    <tr>\n",
       "      <th>5</th>\n",
       "      <td>Ferrari 296 GT3</td>\n",
       "      <td>117.26</td>\n",
       "    </tr>\n",
       "    <tr>\n",
       "      <th>6</th>\n",
       "      <td>Lamborghini Huracan GT3 EVO 2</td>\n",
       "      <td>60.42</td>\n",
       "    </tr>\n",
       "    <tr>\n",
       "      <th>7</th>\n",
       "      <td>Aston Martin Vantage GT3</td>\n",
       "      <td>0.00</td>\n",
       "    </tr>\n",
       "    <tr>\n",
       "      <th>8</th>\n",
       "      <td>Ferrari 488 GT3</td>\n",
       "      <td>0.00</td>\n",
       "    </tr>\n",
       "    <tr>\n",
       "      <th>9</th>\n",
       "      <td>Porsche 911 GT3-R (991.II)</td>\n",
       "      <td>0.00</td>\n",
       "    </tr>\n",
       "  </tbody>\n",
       "</table>\n",
       "</div>"
      ],
      "text/plain": [
       "                             Car   Points\n",
       "0          Audi R8 LMS GT3 EVO 2  2582.94\n",
       "1                     BMW M4 GT3  2431.52\n",
       "2        Porsche 911 GT3 R (992)  1580.96\n",
       "3               Mercedes-AMG GT3  1561.62\n",
       "4           McLaren 720S GT3 EVO   243.58\n",
       "5                Ferrari 296 GT3   117.26\n",
       "6  Lamborghini Huracan GT3 EVO 2    60.42\n",
       "7       Aston Martin Vantage GT3     0.00\n",
       "8                Ferrari 488 GT3     0.00\n",
       "9     Porsche 911 GT3-R (991.II)     0.00"
      ]
     },
     "execution_count": 21,
     "metadata": {},
     "output_type": "execute_result"
    }
   ],
   "source": [
    "filtered_data = df[(df['Meeting'] == 'Circuit de Spa-Francorchamps') & (df['Season'] == 2023)]\n",
    "total_points_by_car = filtered_data.groupby('Car')['Points'].sum().sort_values(ascending=False).reset_index()\n",
    "total_points_by_car"
   ]
  },
  {
   "cell_type": "markdown",
   "metadata": {},
   "source": [
    "---------------------\n"
   ]
  },
  {
   "cell_type": "code",
   "execution_count": 22,
   "metadata": {},
   "outputs": [
    {
     "data": {
      "text/html": [
       "<div>\n",
       "<style scoped>\n",
       "    .dataframe tbody tr th:only-of-type {\n",
       "        vertical-align: middle;\n",
       "    }\n",
       "\n",
       "    .dataframe tbody tr th {\n",
       "        vertical-align: top;\n",
       "    }\n",
       "\n",
       "    .dataframe thead th {\n",
       "        text-align: right;\n",
       "    }\n",
       "</style>\n",
       "<table border=\"1\" class=\"dataframe\">\n",
       "  <thead>\n",
       "    <tr style=\"text-align: right;\">\n",
       "      <th></th>\n",
       "      <th>Car</th>\n",
       "      <th>Points</th>\n",
       "    </tr>\n",
       "  </thead>\n",
       "  <tbody>\n",
       "    <tr>\n",
       "      <th>0</th>\n",
       "      <td>Audi R8 LMS GT3 EVO 2</td>\n",
       "      <td>3081.72</td>\n",
       "    </tr>\n",
       "    <tr>\n",
       "      <th>1</th>\n",
       "      <td>BMW M4 GT3</td>\n",
       "      <td>2984.22</td>\n",
       "    </tr>\n",
       "    <tr>\n",
       "      <th>2</th>\n",
       "      <td>Mercedes-AMG GT3</td>\n",
       "      <td>1925.56</td>\n",
       "    </tr>\n",
       "    <tr>\n",
       "      <th>3</th>\n",
       "      <td>Porsche 911 GT3 R (992)</td>\n",
       "      <td>1674.94</td>\n",
       "    </tr>\n",
       "    <tr>\n",
       "      <th>4</th>\n",
       "      <td>Ferrari 296 GT3</td>\n",
       "      <td>400.46</td>\n",
       "    </tr>\n",
       "    <tr>\n",
       "      <th>5</th>\n",
       "      <td>McLaren 720S GT3 EVO</td>\n",
       "      <td>262.60</td>\n",
       "    </tr>\n",
       "    <tr>\n",
       "      <th>6</th>\n",
       "      <td>Mercedes-AMG GT3 EVO</td>\n",
       "      <td>244.42</td>\n",
       "    </tr>\n",
       "    <tr>\n",
       "      <th>7</th>\n",
       "      <td>Lamborghini Huracan GT3 EVO 2</td>\n",
       "      <td>153.20</td>\n",
       "    </tr>\n",
       "    <tr>\n",
       "      <th>8</th>\n",
       "      <td>Aston Martin Vantage GT3</td>\n",
       "      <td>0.00</td>\n",
       "    </tr>\n",
       "    <tr>\n",
       "      <th>9</th>\n",
       "      <td>Ferrari 488 GT3</td>\n",
       "      <td>0.00</td>\n",
       "    </tr>\n",
       "    <tr>\n",
       "      <th>10</th>\n",
       "      <td>Honda NSX GT3</td>\n",
       "      <td>0.00</td>\n",
       "    </tr>\n",
       "    <tr>\n",
       "      <th>11</th>\n",
       "      <td>Honda NSX GT3 EVO 2</td>\n",
       "      <td>0.00</td>\n",
       "    </tr>\n",
       "    <tr>\n",
       "      <th>12</th>\n",
       "      <td>Lamborghini Huracan GT3 Evo</td>\n",
       "      <td>0.00</td>\n",
       "    </tr>\n",
       "    <tr>\n",
       "      <th>13</th>\n",
       "      <td>Porsche 911 GT3-R (991.II)</td>\n",
       "      <td>0.00</td>\n",
       "    </tr>\n",
       "  </tbody>\n",
       "</table>\n",
       "</div>"
      ],
      "text/plain": [
       "                              Car   Points\n",
       "0           Audi R8 LMS GT3 EVO 2  3081.72\n",
       "1                      BMW M4 GT3  2984.22\n",
       "2                Mercedes-AMG GT3  1925.56\n",
       "3         Porsche 911 GT3 R (992)  1674.94\n",
       "4                 Ferrari 296 GT3   400.46\n",
       "5            McLaren 720S GT3 EVO   262.60\n",
       "6            Mercedes-AMG GT3 EVO   244.42\n",
       "7   Lamborghini Huracan GT3 EVO 2   153.20\n",
       "8        Aston Martin Vantage GT3     0.00\n",
       "9                 Ferrari 488 GT3     0.00\n",
       "10                  Honda NSX GT3     0.00\n",
       "11            Honda NSX GT3 EVO 2     0.00\n",
       "12    Lamborghini Huracan GT3 Evo     0.00\n",
       "13     Porsche 911 GT3-R (991.II)     0.00"
      ]
     },
     "execution_count": 22,
     "metadata": {},
     "output_type": "execute_result"
    }
   ],
   "source": [
    "filtered_data = normalized_points_sum[normalized_points_sum['Season'] == 2023]\n",
    "best_cars = filtered_data.groupby('Car')['Points'].sum().sort_values(ascending=False).reset_index()\n",
    "best_cars"
   ]
  },
  {
   "cell_type": "markdown",
   "metadata": {},
   "source": [
    "Define overall lider/s by points it's not really suitable. Because some race tracks has more racing events than others, such as on Spa. And this may skew our data."
   ]
  },
  {
   "cell_type": "markdown",
   "metadata": {},
   "source": [
    "## Best on each Trak"
   ]
  },
  {
   "cell_type": "code",
   "execution_count": 23,
   "metadata": {},
   "outputs": [
    {
     "data": {
      "image/png": "[encoded data removed]",
      "text/plain": [
       "<Figure size 1200x500 with 2 Axes>"
      ]
     },
     "metadata": {},
     "output_type": "display_data"
    }
   ],
   "source": [
    "barcelona_data = normalized_points[(normalized_points['Meeting'] == 'Barcelona') & \n",
    "                        (normalized_points['Season'] == 2023) & (normalized_points['Points'] > 0)]\n",
    "\n",
    "barcelona_data_sum = normalized_points_sum[(normalized_points_sum['Meeting'] == 'Barcelona') & \n",
    "                        (normalized_points_sum['Season'] == 2023) & (normalized_points_sum['Points'] > 0)]\n",
    "\n",
    "\n",
    "fig, axs = plt.subplots(1, 2, figsize=(12, 5))\n",
    "\n",
    "sns.barplot(x='Car', y='Points', hue='Car', data=barcelona_data, ax=axs[0])\n",
    "axs[0].tick_params(axis='x', rotation=25)\n",
    "axs[0].set_title('Points by Car in Barcelona')\n",
    "\n",
    "\n",
    "sns.barplot(x='Car', y='Points', hue='Car', data=barcelona_data_sum, ax=axs[1])\n",
    "axs[1].tick_params(axis='x', rotation=25)\n",
    "axs[1].set_title('Points by Car on Barcelona (summed)')\n",
    "plt.show()"
   ]
  },
  {
   "cell_type": "code",
   "execution_count": 32,
   "metadata": {},
   "outputs": [
    {
     "name": "stdout",
     "output_type": "stream",
     "text": [
      "Statistics=0.897, p=0.036\n",
      "Sample does not look Gaussian (reject H0)\n"
     ]
    }
   ],
   "source": [
    "stat, p = scipy.stats.shapiro(barcelona_data['Points'])\n",
    "print('Statistics=%.3f, p=%.3f' % (stat, p))\n",
    "\n",
    "alpha = 0.05\n",
    "if p > alpha:\n",
    "    print('Sample looks Gaussian (fail to reject H0)')\n",
    "else:\n",
    "    print('Sample does not look Gaussian (reject H0)')"
   ]
  },
  {
   "cell_type": "code",
   "execution_count": 41,
   "metadata": {},
   "outputs": [
    {
     "name": "stdout",
     "output_type": "stream",
     "text": [
      "Statistics=12.533, p=0.028\n",
      "At least one distribution of scores differs (reject H0)\n"
     ]
    }
   ],
   "source": [
    "groups = barcelona_data.groupby('Car')['Points'].apply(list)\n",
    "\n",
    "if all(len(group) >= 2 for group in groups):  # каждая группа должна иметь хотя бы 2 значения\n",
    "    # Применение Краскела-Уоллиса\n",
    "    stat, p = scipy.stats.kruskal(*groups)\n",
    "    print('Statistics=%.3f, p=%.3f' % (stat, p))\n",
    "\n",
    "    # Интерпретация результатов\n",
    "    if p > alpha:\n",
    "        print('The distributions of all cars are the same (fail to reject H0)')\n",
    "    else:\n",
    "        print('At least one distribution of scores differs (reject H0)')\n",
    "else:\n",
    "    print(\"Not enough data in each group for the test\")"
   ]
  },
  {
   "cell_type": "code",
   "execution_count": 50,
   "metadata": {},
   "outputs": [
    {
     "name": "stdout",
     "output_type": "stream",
     "text": [
      "                         Audi R8 LMS GT3 EVO 2  ...  Porsche 911 GT3 R (992)\n",
      "Audi R8 LMS GT3 EVO 2                 1.000000  ...                      1.0\n",
      "BMW M4 GT3                            1.000000  ...                      1.0\n",
      "Ferrari 296 GT3                       0.167548  ...                      1.0\n",
      "McLaren 720S GT3 EVO                  1.000000  ...                      1.0\n",
      "Mercedes-AMG GT3 EVO                  0.626717  ...                      1.0\n",
      "Porsche 911 GT3 R (992)               1.000000  ...                      1.0\n",
      "\n",
      "[6 rows x 6 columns]\n"
     ]
    }
   ],
   "source": [
    "p_values = sp.posthoc_dunn(barcelona_data, val_col='Points', group_col='Car', p_adjust='bonferroni')\n",
    "\n",
    "\n",
    "print(p_values)"
   ]
  },
  {
   "cell_type": "code",
   "execution_count": 51,
   "metadata": {},
   "outputs": [
    {
     "data": {
      "image/png": "[encoded data removed]",
      "text/plain": [
       "<Figure size 1000x800 with 2 Axes>"
      ]
     },
     "metadata": {},
     "output_type": "display_data"
    }
   ],
   "source": [
    "# Создание тепловой карты p-значений\n",
    "plt.figure(figsize=(10, 8))\n",
    "sns.heatmap(p_values, annot=True, fmt=\".3f\", cmap=\"coolwarm\", cbar_kws={'label': 'p-value'})\n",
    "plt.title(\"P-values from Dunn's Test of Race Car Performances\")\n",
    "plt.show()"
   ]
  },
  {
   "cell_type": "markdown",
   "metadata": {},
   "source": [
    "[CHAT GPT](https://chat.openai.com/c/dcd73c91-1358-46f9-aab7-d7818a294959)"
   ]
  },
  {
   "cell_type": "code",
   "execution_count": null,
   "metadata": {},
   "outputs": [],
   "source": []
  },
  {
   "cell_type": "code",
   "execution_count": null,
   "metadata": {},
   "outputs": [
    {
     "data": {
      "text/html": [
       "<div>\n",
       "<style scoped>\n",
       "    .dataframe tbody tr th:only-of-type {\n",
       "        vertical-align: middle;\n",
       "    }\n",
       "\n",
       "    .dataframe tbody tr th {\n",
       "        vertical-align: top;\n",
       "    }\n",
       "\n",
       "    .dataframe thead th {\n",
       "        text-align: right;\n",
       "    }\n",
       "</style>\n",
       "<table border=\"1\" class=\"dataframe\">\n",
       "  <thead>\n",
       "    <tr style=\"text-align: right;\">\n",
       "      <th></th>\n",
       "      <th>Car</th>\n",
       "      <th>Points</th>\n",
       "    </tr>\n",
       "  </thead>\n",
       "  <tbody>\n",
       "    <tr>\n",
       "      <th>0</th>\n",
       "      <td>Ferrari 296 GT3</td>\n",
       "      <td>65.38</td>\n",
       "    </tr>\n",
       "    <tr>\n",
       "      <th>1</th>\n",
       "      <td>Mercedes-AMG GT3 EVO</td>\n",
       "      <td>57.18</td>\n",
       "    </tr>\n",
       "    <tr>\n",
       "      <th>2</th>\n",
       "      <td>Porsche 911 GT3 R (992)</td>\n",
       "      <td>36.74</td>\n",
       "    </tr>\n",
       "    <tr>\n",
       "      <th>3</th>\n",
       "      <td>McLaren 720S GT3 EVO</td>\n",
       "      <td>8.10</td>\n",
       "    </tr>\n",
       "    <tr>\n",
       "      <th>4</th>\n",
       "      <td>Audi R8 LMS GT3 EVO 2</td>\n",
       "      <td>4.46</td>\n",
       "    </tr>\n",
       "    <tr>\n",
       "      <th>5</th>\n",
       "      <td>BMW M4 GT3</td>\n",
       "      <td>3.64</td>\n",
       "    </tr>\n",
       "    <tr>\n",
       "      <th>6</th>\n",
       "      <td>Aston Martin Vantage GT3</td>\n",
       "      <td>0.00</td>\n",
       "    </tr>\n",
       "    <tr>\n",
       "      <th>7</th>\n",
       "      <td>Lamborghini Huracan GT3 EVO 2</td>\n",
       "      <td>0.00</td>\n",
       "    </tr>\n",
       "    <tr>\n",
       "      <th>8</th>\n",
       "      <td>Mercedes-AMG GT3</td>\n",
       "      <td>0.00</td>\n",
       "    </tr>\n",
       "  </tbody>\n",
       "</table>\n",
       "</div>"
      ],
      "text/plain": [
       "                             Car  Points\n",
       "0                Ferrari 296 GT3   65.38\n",
       "1           Mercedes-AMG GT3 EVO   57.18\n",
       "2        Porsche 911 GT3 R (992)   36.74\n",
       "3           McLaren 720S GT3 EVO    8.10\n",
       "4          Audi R8 LMS GT3 EVO 2    4.46\n",
       "5                     BMW M4 GT3    3.64\n",
       "6       Aston Martin Vantage GT3    0.00\n",
       "7  Lamborghini Huracan GT3 EVO 2    0.00\n",
       "8               Mercedes-AMG GT3    0.00"
      ]
     },
     "execution_count": 12,
     "metadata": {},
     "output_type": "execute_result"
    }
   ],
   "source": [
    "filtered_data = normalized_points[(normalized_points['Season'] == 2023) & (normalized_points['Meeting'] == 'Barcelona')]\n",
    "best_cars = filtered_data.groupby('Car')['Points'].sum().sort_values(ascending=False).reset_index()\n",
    "best_cars"
   ]
  },
  {
   "cell_type": "markdown",
   "metadata": {},
   "source": [
    "Let's provide some statistical test/s to see if there is some statistically significant leader/s. Good options for us are ANOVA and Tukey Test."
   ]
  }
 ],
 "metadata": {
  "kernelspec": {
   "display_name": "base",
   "language": "python",
   "name": "python3"
  },
  "language_info": {
   "codemirror_mode": {
    "name": "ipython",
    "version": 3
   },
   "file_extension": ".py",
   "mimetype": "text/x-python",
   "name": "python",
   "nbconvert_exporter": "python",
   "pygments_lexer": "ipython3",
   "version": "3.9.18"
  }
 },
 "nbformat": 4,
 "nbformat_minor": 2
}
