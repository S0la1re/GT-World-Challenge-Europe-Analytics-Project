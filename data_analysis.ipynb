{
 "cells": [
  {
   "cell_type": "markdown",
   "metadata": {},
   "source": [
    "# **Racing Data Analysis Project**\n",
    "\n",
    "Our primary goal is to analyze and determine which cars dominate on specific tracks and identify the most versatile vehicles.\n"
   ]
  },
  {
   "cell_type": "markdown",
   "metadata": {},
   "source": [
    "## **1\\. Methodology**\n",
    "\n",
    "###  **1.1. Accrual of points**\n",
    "\n",
    "Let's award first 10 racers in every race using that system:\n",
    "\n",
    "1. 1st place: 10 points + 3 bonuses = 13 points\n",
    "2. 2nd place: 9 points + 2 bonuses = 11 points\n",
    "3. 3rd place: 8 points + 1 bonus = 9 points\n",
    "4. 4th place: 7 points\n",
    "5. 5th place: 6 points\n",
    "6. 6th place: 5 points\n",
    "7. 7th place: 4 points\n",
    "8. 8th place: 3 points\n",
    "9. 9th place: 2 points\n",
    "10. 10th place: 1 point\n",
    "\n",
    "\n",
    "\n",
    "### **1.2. Weighing and normalizing points**\n",
    "\n",
    "In the gt-world-challenge-europe championships, different tracks may have a different number of races with different durations. There may be 5 races on one track, and 25 on another.\n",
    "\n",
    "To cope with the varying number of races and their duration, it is important to normalize the scores so that the results are comparable. This can be done in several ways:\n",
    "\n",
    "\n",
    "### **1.2.1. Weighing by the race duration**\n",
    "\n",
    "Let's develop a system where points will be multiplied by a coefficient directly proportional to the duration of the race.\n",
    "\n",
    "Determine the base length of the race = 50 laps.<br>\n",
    "If the race is longer, for example 64 laps, the points are multiplied by a factor (64/50).<br>\n",
    "If the race is shorter, for example 42 laps, the points are multiplied by a factor (42/50).<br>\n",
    "So, if a win is worth 13 points in a 50-lap race, in a 64-lap race it will be worth 13 * (64/50) = 16.64 points.\n",
    "\n",
    "\n",
    "####  **1.2.2. Normalizing by the number of races**\n",
    "\n",
    "Divide the total points at each track by the number of races at that track.\n",
    "For example: If the Mercedes-AMG GT3 scored 60 points in Barcelona in total 3 races, we will divide 60 by 3.\n",
    "\n",
    "\n",
    "### **1.3. Data visualization**\n",
    "\n",
    "Present the results graphically for clarity:<br>\n",
    "Bar Graphs: Displays total points scored or weighted average for each car."
   ]
  },
  {
   "cell_type": "markdown",
   "metadata": {},
   "source": [
    "## **2\\. Load Libraries**"
   ]
  },
  {
   "cell_type": "code",
   "execution_count": 2,
   "metadata": {},
   "outputs": [],
   "source": [
    "import pandas as pd\n",
    "import matplotlib.pyplot as plt\n",
    "import seaborn as sns"
   ]
  },
  {
   "cell_type": "markdown",
   "metadata": {},
   "source": [
    "## **3\\. Load Data**"
   ]
  },
  {
   "cell_type": "code",
   "execution_count": 3,
   "metadata": {},
   "outputs": [
    {
     "name": "stdout",
     "output_type": "stream",
     "text": [
      "<class 'pandas.core.frame.DataFrame'>\n",
      "RangeIndex: 7319 entries, 0 to 7318\n",
      "Data columns (total 17 columns):\n",
      " #   Column                Non-Null Count  Dtype          \n",
      "---  ------                --------------  -----          \n",
      " 0   Season                7319 non-null   int64          \n",
      " 1   Meeting               7319 non-null   object         \n",
      " 2   Event name            7319 non-null   object         \n",
      " 3   Pos                   7319 non-null   int64          \n",
      " 4   Car #                 7319 non-null   int64          \n",
      " 5   Class                 7319 non-null   category       \n",
      " 6   Special Class         7319 non-null   bool           \n",
      " 7   Drivers               7319 non-null   object         \n",
      " 8   Team                  7319 non-null   object         \n",
      " 9   Car                   7319 non-null   object         \n",
      " 10  Best lap set          7319 non-null   bool           \n",
      " 11  Time                  7319 non-null   object         \n",
      " 12  Time timedelta        7319 non-null   timedelta64[ns]\n",
      " 13  Laps                  7319 non-null   int64          \n",
      " 14  Gap                   7319 non-null   object         \n",
      " 15  Gap Timedelta         7319 non-null   timedelta64[ns]\n",
      " 16  Dropped off the Race  7319 non-null   bool           \n",
      "dtypes: bool(3), category(1), int64(4), object(7), timedelta64[ns](2)\n",
      "memory usage: 772.4+ KB\n"
     ]
    }
   ],
   "source": [
    "df = pd.read_parquet(\".\\\\cleaned_data\\\\race_data.parquet\")\n",
    "df.info()"
   ]
  },
  {
   "cell_type": "markdown",
   "metadata": {},
   "source": [
    "## **4\\. Add weighted 'Points' column**"
   ]
  },
  {
   "cell_type": "code",
   "execution_count": 23,
   "metadata": {},
   "outputs": [],
   "source": [
    "# Definition of the point system\n",
    "points_system = {1: 15, 2: 12, 3: 10, 4: 7, 5: 6, 6: 5, 7: 4, 8: 3, 9: 2, 10: 1}\n",
    "\n",
    "# Function to assign points based on position\n",
    "def assign_points(pos, laps, weighted, base_laps=50):\n",
    "    base_points = points_system.get(pos, 0)\n",
    "    if weighted == False:\n",
    "        return base_points\n",
    "    else:\n",
    "        lap_factor = laps / base_laps\n",
    "        return base_points * lap_factor\n",
    "\n",
    "# Adding a 'Points' column to the DataFrame\n",
    "df['Points'] = df.apply(lambda row: assign_points(row['Pos'], row['Laps'], weighted = True), axis=1)\n",
    "\n",
    "#df['Non Weighted Points'] = df.apply(lambda row: assign_points(row['Pos'], row['Laps'], weighted = False), axis=1)\n"
   ]
  },
  {
   "cell_type": "markdown",
   "metadata": {},
   "source": [
    "### **4.1. Normalizing the 'Points' column**"
   ]
  },
  {
   "cell_type": "code",
   "execution_count": 28,
   "metadata": {},
   "outputs": [
    {
     "data": {
      "text/html": [
       "<div>\n",
       "<style scoped>\n",
       "    .dataframe tbody tr th:only-of-type {\n",
       "        vertical-align: middle;\n",
       "    }\n",
       "\n",
       "    .dataframe tbody tr th {\n",
       "        vertical-align: top;\n",
       "    }\n",
       "\n",
       "    .dataframe thead th {\n",
       "        text-align: right;\n",
       "    }\n",
       "</style>\n",
       "<table border=\"1\" class=\"dataframe\">\n",
       "  <thead>\n",
       "    <tr style=\"text-align: right;\">\n",
       "      <th></th>\n",
       "      <th>Car</th>\n",
       "      <th>Points</th>\n",
       "      <th>Meeting</th>\n",
       "      <th>Season</th>\n",
       "    </tr>\n",
       "  </thead>\n",
       "  <tbody>\n",
       "    <tr>\n",
       "      <th>0</th>\n",
       "      <td>Mercedes-AMG GT3</td>\n",
       "      <td>34.63</td>\n",
       "      <td>Barcelona</td>\n",
       "      <td>2021</td>\n",
       "    </tr>\n",
       "    <tr>\n",
       "      <th>1</th>\n",
       "      <td>Porsche 911 GT3-R (991.II)</td>\n",
       "      <td>21.81</td>\n",
       "      <td>Barcelona</td>\n",
       "      <td>2021</td>\n",
       "    </tr>\n",
       "    <tr>\n",
       "      <th>2</th>\n",
       "      <td>Lamborghini Huracan GT3 Evo</td>\n",
       "      <td>16.40</td>\n",
       "      <td>Barcelona</td>\n",
       "      <td>2021</td>\n",
       "    </tr>\n",
       "    <tr>\n",
       "      <th>3</th>\n",
       "      <td>Audi R8 LMS GT3</td>\n",
       "      <td>11.65</td>\n",
       "      <td>Barcelona</td>\n",
       "      <td>2021</td>\n",
       "    </tr>\n",
       "    <tr>\n",
       "      <th>4</th>\n",
       "      <td>Ferrari 488 GT3</td>\n",
       "      <td>10.01</td>\n",
       "      <td>Barcelona</td>\n",
       "      <td>2021</td>\n",
       "    </tr>\n",
       "  </tbody>\n",
       "</table>\n",
       "</div>"
      ],
      "text/plain": [
       "                           Car  Points    Meeting  Season\n",
       "0             Mercedes-AMG GT3   34.63  Barcelona    2021\n",
       "1   Porsche 911 GT3-R (991.II)   21.81  Barcelona    2021\n",
       "2  Lamborghini Huracan GT3 Evo   16.40  Barcelona    2021\n",
       "3              Audi R8 LMS GT3   11.65  Barcelona    2021\n",
       "4              Ferrari 488 GT3   10.01  Barcelona    2021"
      ]
     },
     "execution_count": 28,
     "metadata": {},
     "output_type": "execute_result"
    }
   ],
   "source": [
    "# Preparing the dataframe to store aggregate results\n",
    "def normalizing_points(df, column_name):\n",
    "    normalized_points = pd.DataFrame()\n",
    "\n",
    "    # Retrieving unique tracks and seasons\n",
    "    unique_tracks = df['Meeting'].unique()\n",
    "    unique_seasons = df['Season'].unique()\n",
    "\n",
    "    # Looping through all seasons and tracks to calculate points\n",
    "    for season in unique_seasons:\n",
    "        for track in unique_tracks:\n",
    "            # Filtering data for a specific track and season\n",
    "            filtered_data = df[(df['Meeting'] == track) & (df['Season'] == season)]\n",
    "            \n",
    "            # Checking if there is data for this track and season\n",
    "            if not filtered_data.empty:\n",
    "                # Calculating and summing points\n",
    "                points_by_car = filtered_data.groupby('Car')[column_name].sum() / (len(filtered_data['Event name'].unique()))\n",
    "                points_by_car = points_by_car.round(2).sort_values(ascending=False).reset_index()\n",
    "                # Adding information about the track and season\n",
    "                points_by_car['Meeting'] = track\n",
    "                points_by_car['Season'] = season\n",
    "                \n",
    "                # Saving results in the aggregate dataframe\n",
    "                normalized_points = pd.concat([normalized_points, points_by_car])\n",
    "\n",
    "    # Resetting the index in the final dataframe\n",
    "    normalized_points.reset_index(drop=True, inplace=True)\n",
    "    return normalized_points\n",
    "\n",
    "# Displaying the final dataframe\n",
    "normalized_points = normalizing_points(df, 'Points')\n",
    "normalized_points.head()\n",
    "\n",
    "#normalized_points.to_csv('C:\\\\Users\\\\ireev\\\\Desktop\\\\Non Weighted Points.csv')"
   ]
  },
  {
   "cell_type": "markdown",
   "metadata": {},
   "source": [
    "---"
   ]
  },
  {
   "cell_type": "code",
   "execution_count": 29,
   "metadata": {},
   "outputs": [
    {
     "data": {
      "text/plain": [
       "array(['Barcelona', 'Brands Hatch', 'Circuit Paul Ricard', 'Magny-Cours',\n",
       "       'Misano', 'Monza', 'Nürburgring', 'Circuit de Spa-Francorchamps',\n",
       "       'Valencia', 'Zandvoort', 'Hockenheim', 'Imola'], dtype=object)"
      ]
     },
     "execution_count": 29,
     "metadata": {},
     "output_type": "execute_result"
    }
   ],
   "source": [
    "df['Meeting'].unique()"
   ]
  },
  {
   "cell_type": "code",
   "execution_count": 30,
   "metadata": {},
   "outputs": [
    {
     "data": {
      "text/html": [
       "<div>\n",
       "<style scoped>\n",
       "    .dataframe tbody tr th:only-of-type {\n",
       "        vertical-align: middle;\n",
       "    }\n",
       "\n",
       "    .dataframe tbody tr th {\n",
       "        vertical-align: top;\n",
       "    }\n",
       "\n",
       "    .dataframe thead th {\n",
       "        text-align: right;\n",
       "    }\n",
       "</style>\n",
       "<table border=\"1\" class=\"dataframe\">\n",
       "  <thead>\n",
       "    <tr style=\"text-align: right;\">\n",
       "      <th></th>\n",
       "      <th>Car</th>\n",
       "      <th>Points</th>\n",
       "    </tr>\n",
       "  </thead>\n",
       "  <tbody>\n",
       "    <tr>\n",
       "      <th>0</th>\n",
       "      <td>Audi R8 LMS GT3 EVO 2</td>\n",
       "      <td>2582.94</td>\n",
       "    </tr>\n",
       "    <tr>\n",
       "      <th>1</th>\n",
       "      <td>BMW M4 GT3</td>\n",
       "      <td>2431.52</td>\n",
       "    </tr>\n",
       "    <tr>\n",
       "      <th>2</th>\n",
       "      <td>Porsche 911 GT3 R (992)</td>\n",
       "      <td>1580.96</td>\n",
       "    </tr>\n",
       "    <tr>\n",
       "      <th>3</th>\n",
       "      <td>Mercedes-AMG GT3</td>\n",
       "      <td>1561.62</td>\n",
       "    </tr>\n",
       "    <tr>\n",
       "      <th>4</th>\n",
       "      <td>McLaren 720S GT3 EVO</td>\n",
       "      <td>243.58</td>\n",
       "    </tr>\n",
       "    <tr>\n",
       "      <th>5</th>\n",
       "      <td>Ferrari 296 GT3</td>\n",
       "      <td>117.26</td>\n",
       "    </tr>\n",
       "    <tr>\n",
       "      <th>6</th>\n",
       "      <td>Lamborghini Huracan GT3 EVO 2</td>\n",
       "      <td>60.42</td>\n",
       "    </tr>\n",
       "    <tr>\n",
       "      <th>7</th>\n",
       "      <td>Aston Martin Vantage GT3</td>\n",
       "      <td>0.00</td>\n",
       "    </tr>\n",
       "    <tr>\n",
       "      <th>8</th>\n",
       "      <td>Ferrari 488 GT3</td>\n",
       "      <td>0.00</td>\n",
       "    </tr>\n",
       "    <tr>\n",
       "      <th>9</th>\n",
       "      <td>Porsche 911 GT3-R (991.II)</td>\n",
       "      <td>0.00</td>\n",
       "    </tr>\n",
       "  </tbody>\n",
       "</table>\n",
       "</div>"
      ],
      "text/plain": [
       "                             Car   Points\n",
       "0          Audi R8 LMS GT3 EVO 2  2582.94\n",
       "1                     BMW M4 GT3  2431.52\n",
       "2        Porsche 911 GT3 R (992)  1580.96\n",
       "3               Mercedes-AMG GT3  1561.62\n",
       "4           McLaren 720S GT3 EVO   243.58\n",
       "5                Ferrari 296 GT3   117.26\n",
       "6  Lamborghini Huracan GT3 EVO 2    60.42\n",
       "7       Aston Martin Vantage GT3     0.00\n",
       "8                Ferrari 488 GT3     0.00\n",
       "9     Porsche 911 GT3-R (991.II)     0.00"
      ]
     },
     "execution_count": 30,
     "metadata": {},
     "output_type": "execute_result"
    }
   ],
   "source": [
    "filtered_data = df[(df['Meeting'] == 'Circuit de Spa-Francorchamps') & (df['Season'] == 2023)]\n",
    "total_points_by_car = filtered_data.groupby('Car')['Points'].sum().sort_values(ascending=False).reset_index()\n",
    "total_points_by_car"
   ]
  },
  {
   "cell_type": "markdown",
   "metadata": {},
   "source": [
    "---------------------\n"
   ]
  },
  {
   "cell_type": "code",
   "execution_count": 31,
   "metadata": {},
   "outputs": [
    {
     "data": {
      "text/html": [
       "<div>\n",
       "<style scoped>\n",
       "    .dataframe tbody tr th:only-of-type {\n",
       "        vertical-align: middle;\n",
       "    }\n",
       "\n",
       "    .dataframe tbody tr th {\n",
       "        vertical-align: top;\n",
       "    }\n",
       "\n",
       "    .dataframe thead th {\n",
       "        text-align: right;\n",
       "    }\n",
       "</style>\n",
       "<table border=\"1\" class=\"dataframe\">\n",
       "  <thead>\n",
       "    <tr style=\"text-align: right;\">\n",
       "      <th></th>\n",
       "      <th>Car</th>\n",
       "      <th>Points</th>\n",
       "    </tr>\n",
       "  </thead>\n",
       "  <tbody>\n",
       "    <tr>\n",
       "      <th>0</th>\n",
       "      <td>Audi R8 LMS GT3 EVO 2</td>\n",
       "      <td>266.63</td>\n",
       "    </tr>\n",
       "    <tr>\n",
       "      <th>1</th>\n",
       "      <td>BMW M4 GT3</td>\n",
       "      <td>251.62</td>\n",
       "    </tr>\n",
       "    <tr>\n",
       "      <th>2</th>\n",
       "      <td>Mercedes-AMG GT3</td>\n",
       "      <td>131.90</td>\n",
       "    </tr>\n",
       "    <tr>\n",
       "      <th>3</th>\n",
       "      <td>Porsche 911 GT3 R (992)</td>\n",
       "      <td>103.23</td>\n",
       "    </tr>\n",
       "    <tr>\n",
       "      <th>4</th>\n",
       "      <td>Ferrari 296 GT3</td>\n",
       "      <td>100.71</td>\n",
       "    </tr>\n",
       "    <tr>\n",
       "      <th>5</th>\n",
       "      <td>Mercedes-AMG GT3 EVO</td>\n",
       "      <td>99.64</td>\n",
       "    </tr>\n",
       "    <tr>\n",
       "      <th>6</th>\n",
       "      <td>Lamborghini Huracan GT3 EVO 2</td>\n",
       "      <td>28.62</td>\n",
       "    </tr>\n",
       "    <tr>\n",
       "      <th>7</th>\n",
       "      <td>McLaren 720S GT3 EVO</td>\n",
       "      <td>19.21</td>\n",
       "    </tr>\n",
       "    <tr>\n",
       "      <th>8</th>\n",
       "      <td>Aston Martin Vantage GT3</td>\n",
       "      <td>0.00</td>\n",
       "    </tr>\n",
       "    <tr>\n",
       "      <th>9</th>\n",
       "      <td>Ferrari 488 GT3</td>\n",
       "      <td>0.00</td>\n",
       "    </tr>\n",
       "    <tr>\n",
       "      <th>10</th>\n",
       "      <td>Honda NSX GT3</td>\n",
       "      <td>0.00</td>\n",
       "    </tr>\n",
       "    <tr>\n",
       "      <th>11</th>\n",
       "      <td>Honda NSX GT3 EVO 2</td>\n",
       "      <td>0.00</td>\n",
       "    </tr>\n",
       "    <tr>\n",
       "      <th>12</th>\n",
       "      <td>Lamborghini Huracan GT3 Evo</td>\n",
       "      <td>0.00</td>\n",
       "    </tr>\n",
       "    <tr>\n",
       "      <th>13</th>\n",
       "      <td>Porsche 911 GT3-R (991.II)</td>\n",
       "      <td>0.00</td>\n",
       "    </tr>\n",
       "  </tbody>\n",
       "</table>\n",
       "</div>"
      ],
      "text/plain": [
       "                              Car  Points\n",
       "0           Audi R8 LMS GT3 EVO 2  266.63\n",
       "1                      BMW M4 GT3  251.62\n",
       "2                Mercedes-AMG GT3  131.90\n",
       "3         Porsche 911 GT3 R (992)  103.23\n",
       "4                 Ferrari 296 GT3  100.71\n",
       "5            Mercedes-AMG GT3 EVO   99.64\n",
       "6   Lamborghini Huracan GT3 EVO 2   28.62\n",
       "7            McLaren 720S GT3 EVO   19.21\n",
       "8        Aston Martin Vantage GT3    0.00\n",
       "9                 Ferrari 488 GT3    0.00\n",
       "10                  Honda NSX GT3    0.00\n",
       "11            Honda NSX GT3 EVO 2    0.00\n",
       "12    Lamborghini Huracan GT3 Evo    0.00\n",
       "13     Porsche 911 GT3-R (991.II)    0.00"
      ]
     },
     "execution_count": 31,
     "metadata": {},
     "output_type": "execute_result"
    }
   ],
   "source": [
    "filtered_data = normalized_points[normalized_points['Season'] == 2023]\n",
    "best_cars = filtered_data.groupby('Car')['Points'].sum().sort_values(ascending=False).reset_index()\n",
    "best_cars"
   ]
  },
  {
   "cell_type": "markdown",
   "metadata": {},
   "source": [
    "Define overall lider/s by points it's not really suitable. Because some race tracks has more racing events than others, such as on Spa. And this may skew our data."
   ]
  },
  {
   "cell_type": "markdown",
   "metadata": {},
   "source": [
    "## Best on Barcelona"
   ]
  },
  {
   "cell_type": "code",
   "execution_count": 10,
   "metadata": {},
   "outputs": [
    {
     "data": {
      "text/html": [
       "<div>\n",
       "<style scoped>\n",
       "    .dataframe tbody tr th:only-of-type {\n",
       "        vertical-align: middle;\n",
       "    }\n",
       "\n",
       "    .dataframe tbody tr th {\n",
       "        vertical-align: top;\n",
       "    }\n",
       "\n",
       "    .dataframe thead th {\n",
       "        text-align: right;\n",
       "    }\n",
       "</style>\n",
       "<table border=\"1\" class=\"dataframe\">\n",
       "  <thead>\n",
       "    <tr style=\"text-align: right;\">\n",
       "      <th></th>\n",
       "      <th>Car</th>\n",
       "      <th>Points</th>\n",
       "    </tr>\n",
       "  </thead>\n",
       "  <tbody>\n",
       "    <tr>\n",
       "      <th>0</th>\n",
       "      <td>Ferrari 296 GT3</td>\n",
       "      <td>32.69</td>\n",
       "    </tr>\n",
       "    <tr>\n",
       "      <th>1</th>\n",
       "      <td>Mercedes-AMG GT3 EVO</td>\n",
       "      <td>28.59</td>\n",
       "    </tr>\n",
       "    <tr>\n",
       "      <th>2</th>\n",
       "      <td>Porsche 911 GT3 R (992)</td>\n",
       "      <td>18.37</td>\n",
       "    </tr>\n",
       "    <tr>\n",
       "      <th>3</th>\n",
       "      <td>McLaren 720S GT3 EVO</td>\n",
       "      <td>4.05</td>\n",
       "    </tr>\n",
       "    <tr>\n",
       "      <th>4</th>\n",
       "      <td>Audi R8 LMS GT3 EVO 2</td>\n",
       "      <td>2.23</td>\n",
       "    </tr>\n",
       "    <tr>\n",
       "      <th>5</th>\n",
       "      <td>BMW M4 GT3</td>\n",
       "      <td>1.82</td>\n",
       "    </tr>\n",
       "    <tr>\n",
       "      <th>6</th>\n",
       "      <td>Aston Martin Vantage GT3</td>\n",
       "      <td>0.00</td>\n",
       "    </tr>\n",
       "    <tr>\n",
       "      <th>7</th>\n",
       "      <td>Lamborghini Huracan GT3 EVO 2</td>\n",
       "      <td>0.00</td>\n",
       "    </tr>\n",
       "    <tr>\n",
       "      <th>8</th>\n",
       "      <td>Mercedes-AMG GT3</td>\n",
       "      <td>0.00</td>\n",
       "    </tr>\n",
       "  </tbody>\n",
       "</table>\n",
       "</div>"
      ],
      "text/plain": [
       "                             Car  Points\n",
       "0                Ferrari 296 GT3   32.69\n",
       "1           Mercedes-AMG GT3 EVO   28.59\n",
       "2        Porsche 911 GT3 R (992)   18.37\n",
       "3           McLaren 720S GT3 EVO    4.05\n",
       "4          Audi R8 LMS GT3 EVO 2    2.23\n",
       "5                     BMW M4 GT3    1.82\n",
       "6       Aston Martin Vantage GT3    0.00\n",
       "7  Lamborghini Huracan GT3 EVO 2    0.00\n",
       "8               Mercedes-AMG GT3    0.00"
      ]
     },
     "execution_count": 10,
     "metadata": {},
     "output_type": "execute_result"
    }
   ],
   "source": [
    "filtered_data = normalized_points[(normalized_points['Season'] == 2023) & (normalized_points['Meeting'] == 'Barcelona')]\n",
    "best_cars = filtered_data.groupby('Car')['Points'].sum().sort_values(ascending=False).reset_index()\n",
    "best_cars"
   ]
  },
  {
   "cell_type": "markdown",
   "metadata": {},
   "source": [
    "Let's provide some statistical test/s to see if there is some statistically significant leader/s. Good options for us are ANOVA and Tukey Test."
   ]
  }
 ],
 "metadata": {
  "kernelspec": {
   "display_name": "base",
   "language": "python",
   "name": "python3"
  },
  "language_info": {
   "codemirror_mode": {
    "name": "ipython",
    "version": 3
   },
   "file_extension": ".py",
   "mimetype": "text/x-python",
   "name": "python",
   "nbconvert_exporter": "python",
   "pygments_lexer": "ipython3",
   "version": "3.9.18"
  }
 },
 "nbformat": 4,
 "nbformat_minor": 2
}
