{
 "cells": [
  {
   "cell_type": "markdown",
   "metadata": {},
   "source": [
    "# Data Preparation"
   ]
  },
  {
   "cell_type": "code",
   "execution_count": 484,
   "metadata": {},
   "outputs": [],
   "source": [
    "import os\n",
    "import re\n",
    "import pandas as pd\n",
    "from pandas.api.types import CategoricalDtype"
   ]
  },
  {
   "cell_type": "code",
   "execution_count": 485,
   "metadata": {},
   "outputs": [],
   "source": [
    "def create_dataframe_from_races_csvs_multi_years(base_path, years):\n",
    "    required_columns = ['Pos', 'Car #', 'Class', 'Drivers', 'Team', 'Car', 'Time', 'Laps', 'Gap']\n",
    "    all_data = []  # List to hold all data rows\n",
    "\n",
    "    for year in years:  # Process each year in the list\n",
    "        year_path = os.path.join(base_path, str(year))  # Path to the specific year\n",
    "\n",
    "        if not os.path.exists(year_path):\n",
    "            print(f\"The directory for year {year} does not exist.\")\n",
    "            continue  # Skip to the next year if the directory doesn't exist\n",
    "\n",
    "        for meeting in os.listdir(year_path):  # Iterate through all meetings in the year\n",
    "            meeting_path = os.path.join(year_path, meeting)\n",
    "            races_path = os.path.join(meeting_path, \"Races\")  # Path to the 'Races' folder\n",
    "\n",
    "            if os.path.exists(races_path):\n",
    "                for race_file in os.listdir(races_path):  # Iterate through all race files\n",
    "                    file_path = os.path.join(races_path, race_file)\n",
    "                    try:\n",
    "                        df = pd.read_csv(file_path)\n",
    "                        if set(required_columns).issubset(df.columns):\n",
    "                            df['Season'] = year\n",
    "                            df['Meeting'] = meeting.replace(\"_\", \" \")\n",
    "                            df['Race name'] = race_file.replace(\".csv\", \"\").replace(\"_\", \" \")\n",
    "                            all_data.append(df[[\"Season\", \"Meeting\", \"Race name\"] + required_columns])\n",
    "                        else:\n",
    "                            print(f\"Skipping {file_path} due to missing required columns.\")\n",
    "                    except Exception as e:\n",
    "                        print(f\"Error reading {file_path}: {e}\")\n",
    "\n",
    "    # Concatenate all data into a single DataFrame\n",
    "    final_df = pd.concat(all_data, ignore_index=True) if all_data else pd.DataFrame()\n",
    "    return final_df\n"
   ]
  },
  {
   "cell_type": "markdown",
   "metadata": {},
   "source": [
    "## Load the Data About Races "
   ]
  },
  {
   "cell_type": "code",
   "execution_count": 486,
   "metadata": {},
   "outputs": [],
   "source": [
    "base_path = \".\\data_csv\"  # Update to your path\n",
    "years = [2021, 2022, 2023]\n",
    "all_races = create_dataframe_from_races_csvs_multi_years(base_path, years)"
   ]
  },
  {
   "cell_type": "markdown",
   "metadata": {},
   "source": [
    "## Exploratory Data Analysis (EDA)"
   ]
  },
  {
   "cell_type": "markdown",
   "metadata": {},
   "source": [
    "**`Disclaimer:`** <br>\n",
    "`I haven't found any information that explains what data these columns actually contain.`<br>\n",
    "`Next will be my guesses about the true meaning of the columns.`<br><br>\n",
    "\n",
    "\n",
    "The **raw** dataset contains information about various races, with the following columns:\n",
    "\n",
    "1. **Season**: The year the race took place;\n",
    "2. **Meeting**: The location of the meeting;\n",
    "3. **Race name**: The name of the race;\n",
    "4. **Pos**: The finishing position in the race;\n",
    "5. **Car #**: The car number;\n",
    "6. **Class**: The racing class in which a team competes in a race;\n",
    "7. **Drivers**: The names of the drivers;\n",
    "8. **Team**: The name of the team;\n",
    "9. **Car**: The make and model of the car;\n",
    "10. **Time**: Best lap time;\n",
    "11. **Laps**: The number of laps completed;\n",
    "12. **Gap**: Represent the time difference between each car and the car ahead of it, with a slight twist: <br>\n",
    "    * If a car is on the same lap as the leader of the race, the Gap shows the actual time difference. <br>\n",
    "    * If a car is one or more laps behind, the Gap resets and shows the time difference to the car ahead within the same lap, not the overall race leader.\n",
    "    * **Gap** also stores negative values, according to my assumptions this means that the participant dropped out of the race\n"
   ]
  },
  {
   "cell_type": "code",
   "execution_count": 487,
   "metadata": {},
   "outputs": [
    {
     "data": {
      "text/html": [
       "<div>\n",
       "<style scoped>\n",
       "    .dataframe tbody tr th:only-of-type {\n",
       "        vertical-align: middle;\n",
       "    }\n",
       "\n",
       "    .dataframe tbody tr th {\n",
       "        vertical-align: top;\n",
       "    }\n",
       "\n",
       "    .dataframe thead th {\n",
       "        text-align: right;\n",
       "    }\n",
       "</style>\n",
       "<table border=\"1\" class=\"dataframe\">\n",
       "  <thead>\n",
       "    <tr style=\"text-align: right;\">\n",
       "      <th></th>\n",
       "      <th>Season</th>\n",
       "      <th>Meeting</th>\n",
       "      <th>Race name</th>\n",
       "      <th>Pos</th>\n",
       "      <th>Car #</th>\n",
       "      <th>Class</th>\n",
       "      <th>Drivers</th>\n",
       "      <th>Team</th>\n",
       "      <th>Car</th>\n",
       "      <th>Time</th>\n",
       "      <th>Laps</th>\n",
       "      <th>Gap</th>\n",
       "    </tr>\n",
       "  </thead>\n",
       "  <tbody>\n",
       "    <tr>\n",
       "      <th>0</th>\n",
       "      <td>2021</td>\n",
       "      <td>Barcelona</td>\n",
       "      <td>Main Race</td>\n",
       "      <td>1</td>\n",
       "      <td>88</td>\n",
       "      <td>Pro Cup</td>\n",
       "      <td>Raffaele Marciello, Felipe Fraga, Jules Gounon</td>\n",
       "      <td>AKKA ASP</td>\n",
       "      <td>Mercedes-AMG GT3</td>\n",
       "      <td>1:47.211</td>\n",
       "      <td>95.0</td>\n",
       "      <td>NaN</td>\n",
       "    </tr>\n",
       "    <tr>\n",
       "      <th>1</th>\n",
       "      <td>2021</td>\n",
       "      <td>Barcelona</td>\n",
       "      <td>Main Race</td>\n",
       "      <td>2</td>\n",
       "      <td>54</td>\n",
       "      <td>Pro Cup</td>\n",
       "      <td>Klaus Bachler, Christian Engelhart, Matteo Cai...</td>\n",
       "      <td>Dinamic Motorsport</td>\n",
       "      <td>Porsche 911 GT3-R (991.II)</td>\n",
       "      <td>1:47.148</td>\n",
       "      <td>95.0</td>\n",
       "      <td>2.174</td>\n",
       "    </tr>\n",
       "    <tr>\n",
       "      <th>2</th>\n",
       "      <td>2021</td>\n",
       "      <td>Barcelona</td>\n",
       "      <td>Main Race</td>\n",
       "      <td>3</td>\n",
       "      <td>32</td>\n",
       "      <td>Pro Cup</td>\n",
       "      <td>Dries Vanthoor, Robin Frijns, Charles Weerts</td>\n",
       "      <td>Team WRT</td>\n",
       "      <td>Audi R8 LMS GT3</td>\n",
       "      <td>1:47.612</td>\n",
       "      <td>95.0</td>\n",
       "      <td>4.036</td>\n",
       "    </tr>\n",
       "    <tr>\n",
       "      <th>3</th>\n",
       "      <td>2021</td>\n",
       "      <td>Barcelona</td>\n",
       "      <td>Main Race</td>\n",
       "      <td>4</td>\n",
       "      <td>63</td>\n",
       "      <td>Pro Cup</td>\n",
       "      <td>Mirko Bortolotti, Marco Mapelli, Andrea Caldar...</td>\n",
       "      <td>Orange 1 FFF Racing Team</td>\n",
       "      <td>Lamborghini Huracan GT3 Evo</td>\n",
       "      <td>1:47.027</td>\n",
       "      <td>95.0</td>\n",
       "      <td>9.511</td>\n",
       "    </tr>\n",
       "    <tr>\n",
       "      <th>4</th>\n",
       "      <td>2021</td>\n",
       "      <td>Barcelona</td>\n",
       "      <td>Main Race</td>\n",
       "      <td>5</td>\n",
       "      <td>4</td>\n",
       "      <td>Pro Cup</td>\n",
       "      <td>Maro Engel, Luca Stolz, Nico Bastian</td>\n",
       "      <td>HRT</td>\n",
       "      <td>Mercedes-AMG GT3</td>\n",
       "      <td>1:47.588</td>\n",
       "      <td>95.0</td>\n",
       "      <td>9.984</td>\n",
       "    </tr>\n",
       "  </tbody>\n",
       "</table>\n",
       "</div>"
      ],
      "text/plain": [
       "   Season    Meeting  Race name  ...      Time  Laps    Gap\n",
       "0    2021  Barcelona  Main Race  ...  1:47.211  95.0    NaN\n",
       "1    2021  Barcelona  Main Race  ...  1:47.148  95.0  2.174\n",
       "2    2021  Barcelona  Main Race  ...  1:47.612  95.0  4.036\n",
       "3    2021  Barcelona  Main Race  ...  1:47.027  95.0  9.511\n",
       "4    2021  Barcelona  Main Race  ...  1:47.588  95.0  9.984\n",
       "\n",
       "[5 rows x 12 columns]"
      ]
     },
     "execution_count": 487,
     "metadata": {},
     "output_type": "execute_result"
    }
   ],
   "source": [
    "all_races.head()"
   ]
  },
  {
   "cell_type": "markdown",
   "metadata": {},
   "source": [
    "### Data Types and Missing Values\n",
    "\n",
    "Data Types should be:\n",
    "\n",
    "1. **Season**: is a numerical and discrete variable, it should be represented as **integer**;\n",
    "2. **Meeting**: is categorical and nominal variable, it should be represented as **object**;\n",
    "3. **Race name**: is categorical and nominal variable, it should be represented as **object**;\n",
    "4. **Pos**: is categorical and ordinal variable, it should be represented as **integer**;\n",
    "5. **Car #**: is categorical and discrete variable, it should be represented as **integer**;\n",
    "6. **Class**: is categorical and ordinal variable, it should be represented as **category**;\n",
    "7. **Drivers**: is categorical and nominal variable, it should be represented as **object**;\n",
    "8. **Team**: is categorical and nominal variable, it should be represented as **object**;\n",
    "9. **Car**: is categorical and nominal variable, it should be represented as **object**;\n",
    "10. **Time**: is numerical and continuous variable, it should be represented as **timedelta**;\n",
    "11. **Laps**: is a numerical and discrete variable, it should be represented as **integer**;\n",
    "12. **Gap**: is numerical and continuous variable, it should be represented as **timedelta**;"
   ]
  },
  {
   "cell_type": "code",
   "execution_count": 488,
   "metadata": {},
   "outputs": [
    {
     "name": "stdout",
     "output_type": "stream",
     "text": [
      "<class 'pandas.core.frame.DataFrame'>\n",
      "RangeIndex: 7606 entries, 0 to 7605\n",
      "Data columns (total 12 columns):\n",
      " #   Column     Non-Null Count  Dtype  \n",
      "---  ------     --------------  -----  \n",
      " 0   Season     7606 non-null   int64  \n",
      " 1   Meeting    7606 non-null   object \n",
      " 2   Race name  7606 non-null   object \n",
      " 3   Pos        7606 non-null   object \n",
      " 4   Car #      7606 non-null   int64  \n",
      " 5   Class      7606 non-null   object \n",
      " 6   Drivers    7606 non-null   object \n",
      " 7   Team       7606 non-null   object \n",
      " 8   Car        7606 non-null   object \n",
      " 9   Time       7467 non-null   object \n",
      " 10  Laps       7533 non-null   float64\n",
      " 11  Gap        7389 non-null   object \n",
      "dtypes: float64(1), int64(2), object(9)\n",
      "memory usage: 713.2+ KB\n"
     ]
    }
   ],
   "source": [
    "all_races.info()"
   ]
  },
  {
   "cell_type": "markdown",
   "metadata": {},
   "source": [
    "##### Columns data types that differ from the required data type\n",
    "\n",
    "4.   Pos        7606 non-null   object, should be int;\n",
    "6.   Class      7606 non-null   object, should be category;\n",
    "10.   Time       7467 non-null   object, should be timedelta;\n",
    "11.  Laps       7533 non-null   float64, should be integer;\n",
    "12.  Gap        7389 non-null   object, should be timedelta.\n",
    "\n",
    "\n",
    "##### Missing Values\n",
    "\n",
    "Columns that contain missing values:\n",
    "\n",
    "10.   Time       7467 non-null   object; \n",
    "11.  Laps       7533 non-null   float64;\n",
    "12.  Gap        7389 non-null   object.\n",
    "\n"
   ]
  },
  {
   "cell_type": "markdown",
   "metadata": {},
   "source": [
    "### Inspecting and fix columns"
   ]
  },
  {
   "cell_type": "markdown",
   "metadata": {},
   "source": [
    "#### 1. Pos\n",
    "Column `'Pos'` is object, it's mean that most likely it contains non digit values. Then inspect column and select all not digit values."
   ]
  },
  {
   "cell_type": "code",
   "execution_count": 489,
   "metadata": {},
   "outputs": [
    {
     "data": {
      "text/html": [
       "<div>\n",
       "<style scoped>\n",
       "    .dataframe tbody tr th:only-of-type {\n",
       "        vertical-align: middle;\n",
       "    }\n",
       "\n",
       "    .dataframe tbody tr th {\n",
       "        vertical-align: top;\n",
       "    }\n",
       "\n",
       "    .dataframe thead th {\n",
       "        text-align: right;\n",
       "    }\n",
       "</style>\n",
       "<table border=\"1\" class=\"dataframe\">\n",
       "  <thead>\n",
       "    <tr style=\"text-align: right;\">\n",
       "      <th></th>\n",
       "      <th>Pos</th>\n",
       "      <th>count</th>\n",
       "    </tr>\n",
       "  </thead>\n",
       "  <tbody>\n",
       "    <tr>\n",
       "      <th>0</th>\n",
       "      <td>NC</td>\n",
       "      <td>286</td>\n",
       "    </tr>\n",
       "    <tr>\n",
       "      <th>1</th>\n",
       "      <td>DSQ</td>\n",
       "      <td>1</td>\n",
       "    </tr>\n",
       "  </tbody>\n",
       "</table>\n",
       "</div>"
      ],
      "text/plain": [
       "   Pos  count\n",
       "0   NC    286\n",
       "1  DSQ      1"
      ]
     },
     "execution_count": 489,
     "metadata": {},
     "output_type": "execute_result"
    }
   ],
   "source": [
    "all_races[all_races['Pos'].str.contains('\\D', regex=True, na=False)]['Pos'].value_counts().reset_index()"
   ]
  },
  {
   "cell_type": "markdown",
   "metadata": {},
   "source": [
    "Next delete all rows that contain 'NC' (Not Classified) and 'DSQ' (Disqualified).\n",
    "\n",
    "'Not Classified': This is a term used to refer to competitors who do not meet certain criteria for classification in the final results of a race or event."
   ]
  },
  {
   "cell_type": "code",
   "execution_count": 490,
   "metadata": {},
   "outputs": [],
   "source": [
    "all_races = all_races.loc[~all_races['Pos'].isin(['NC', 'DSQ'])]\n",
    "all_races.reset_index(drop=True, inplace=True)"
   ]
  },
  {
   "cell_type": "markdown",
   "metadata": {},
   "source": [
    "Change 'Pos' datatype from object to int"
   ]
  },
  {
   "cell_type": "code",
   "execution_count": 491,
   "metadata": {},
   "outputs": [],
   "source": [
    "all_races.loc[:, 'Pos'] = all_races['Pos'].astype('int64')"
   ]
  },
  {
   "cell_type": "markdown",
   "metadata": {},
   "source": [
    "#### 2. Class\n",
    "Column `'Class'` is object, but we will change it to category."
   ]
  },
  {
   "cell_type": "code",
   "execution_count": 492,
   "metadata": {},
   "outputs": [
    {
     "data": {
      "text/html": [
       "<div>\n",
       "<style scoped>\n",
       "    .dataframe tbody tr th:only-of-type {\n",
       "        vertical-align: middle;\n",
       "    }\n",
       "\n",
       "    .dataframe tbody tr th {\n",
       "        vertical-align: top;\n",
       "    }\n",
       "\n",
       "    .dataframe thead th {\n",
       "        text-align: right;\n",
       "    }\n",
       "</style>\n",
       "<table border=\"1\" class=\"dataframe\">\n",
       "  <thead>\n",
       "    <tr style=\"text-align: right;\">\n",
       "      <th></th>\n",
       "      <th>Class</th>\n",
       "      <th>count</th>\n",
       "    </tr>\n",
       "  </thead>\n",
       "  <tbody>\n",
       "    <tr>\n",
       "      <th>0</th>\n",
       "      <td>Pro Cup</td>\n",
       "      <td>2614</td>\n",
       "    </tr>\n",
       "    <tr>\n",
       "      <th>1</th>\n",
       "      <td>Silver Cup</td>\n",
       "      <td>1870</td>\n",
       "    </tr>\n",
       "    <tr>\n",
       "      <th>2</th>\n",
       "      <td>Pro-AM Cup</td>\n",
       "      <td>1042</td>\n",
       "    </tr>\n",
       "    <tr>\n",
       "      <th>3</th>\n",
       "      <td>Gold Cup</td>\n",
       "      <td>827</td>\n",
       "    </tr>\n",
       "    <tr>\n",
       "      <th>4</th>\n",
       "      <td>Bronze Cup</td>\n",
       "      <td>823</td>\n",
       "    </tr>\n",
       "    <tr>\n",
       "      <th>5</th>\n",
       "      <td>Pro-Am Cup</td>\n",
       "      <td>72</td>\n",
       "    </tr>\n",
       "    <tr>\n",
       "      <th>6</th>\n",
       "      <td>AM Cup</td>\n",
       "      <td>44</td>\n",
       "    </tr>\n",
       "    <tr>\n",
       "      <th>7</th>\n",
       "      <td>Bronze</td>\n",
       "      <td>21</td>\n",
       "    </tr>\n",
       "    <tr>\n",
       "      <th>8</th>\n",
       "      <td>Invitational</td>\n",
       "      <td>6</td>\n",
       "    </tr>\n",
       "  </tbody>\n",
       "</table>\n",
       "</div>"
      ],
      "text/plain": [
       "          Class  count\n",
       "0       Pro Cup   2614\n",
       "1    Silver Cup   1870\n",
       "2    Pro-AM Cup   1042\n",
       "3      Gold Cup    827\n",
       "4    Bronze Cup    823\n",
       "5    Pro-Am Cup     72\n",
       "6        AM Cup     44\n",
       "7        Bronze     21\n",
       "8  Invitational      6"
      ]
     },
     "execution_count": 492,
     "metadata": {},
     "output_type": "execute_result"
    }
   ],
   "source": [
    "all_races['Class'].value_counts().reset_index()"
   ]
  },
  {
   "cell_type": "markdown",
   "metadata": {},
   "source": [
    "Change 'Pro-AM Cup' to 'Pro-Am Cup'. \n",
    "\n",
    "And 'AM Cup' change to 'Am Cup' for the sake of uniformity. \n",
    "\n",
    "And 'Bronze ' change to 'Bronze Cup' according to racing compliance."
   ]
  },
  {
   "cell_type": "code",
   "execution_count": 493,
   "metadata": {},
   "outputs": [
    {
     "data": {
      "text/html": [
       "<div>\n",
       "<style scoped>\n",
       "    .dataframe tbody tr th:only-of-type {\n",
       "        vertical-align: middle;\n",
       "    }\n",
       "\n",
       "    .dataframe tbody tr th {\n",
       "        vertical-align: top;\n",
       "    }\n",
       "\n",
       "    .dataframe thead th {\n",
       "        text-align: right;\n",
       "    }\n",
       "</style>\n",
       "<table border=\"1\" class=\"dataframe\">\n",
       "  <thead>\n",
       "    <tr style=\"text-align: right;\">\n",
       "      <th></th>\n",
       "      <th>Class</th>\n",
       "      <th>count</th>\n",
       "    </tr>\n",
       "  </thead>\n",
       "  <tbody>\n",
       "    <tr>\n",
       "      <th>0</th>\n",
       "      <td>Pro Cup</td>\n",
       "      <td>2614</td>\n",
       "    </tr>\n",
       "    <tr>\n",
       "      <th>1</th>\n",
       "      <td>Silver Cup</td>\n",
       "      <td>1870</td>\n",
       "    </tr>\n",
       "    <tr>\n",
       "      <th>2</th>\n",
       "      <td>Pro-Am Cup</td>\n",
       "      <td>1114</td>\n",
       "    </tr>\n",
       "    <tr>\n",
       "      <th>3</th>\n",
       "      <td>Bronze Cup</td>\n",
       "      <td>844</td>\n",
       "    </tr>\n",
       "    <tr>\n",
       "      <th>4</th>\n",
       "      <td>Gold Cup</td>\n",
       "      <td>827</td>\n",
       "    </tr>\n",
       "    <tr>\n",
       "      <th>5</th>\n",
       "      <td>Am Cup</td>\n",
       "      <td>44</td>\n",
       "    </tr>\n",
       "    <tr>\n",
       "      <th>6</th>\n",
       "      <td>Invitational</td>\n",
       "      <td>6</td>\n",
       "    </tr>\n",
       "  </tbody>\n",
       "</table>\n",
       "</div>"
      ],
      "text/plain": [
       "          Class  count\n",
       "0       Pro Cup   2614\n",
       "1    Silver Cup   1870\n",
       "2    Pro-Am Cup   1114\n",
       "3    Bronze Cup    844\n",
       "4      Gold Cup    827\n",
       "5        Am Cup     44\n",
       "6  Invitational      6"
      ]
     },
     "execution_count": 493,
     "metadata": {},
     "output_type": "execute_result"
    }
   ],
   "source": [
    "all_races['Class'] = all_races['Class'].replace({'Pro-AM Cup': 'Pro-Am Cup', 'AM Cup': 'Am Cup', 'Bronze': 'Bronze Cup'})\n",
    "\n",
    "all_races['Class'].value_counts().reset_index()"
   ]
  },
  {
   "cell_type": "markdown",
   "metadata": {},
   "source": [
    "Determining the order of categories and changing data type."
   ]
  },
  {
   "cell_type": "code",
   "execution_count": 494,
   "metadata": {},
   "outputs": [],
   "source": [
    "# Determine the order for the main categories\n",
    "cat_type = CategoricalDtype(categories=[\n",
    "    'Invitational', 'Am Cup', 'Bronze Cup', 'Pro-Am Cup', 'Silver Cup', 'Gold Cup', 'Pro Cup'\n",
    "], ordered=True)\n",
    "# Change the data type of the 'Class' column\n",
    "all_races['Class'] = all_races['Class'].astype(cat_type)\n",
    "# Create new column \n",
    "all_races.insert(loc=6, column='Special Class', value=False)\n",
    "# Indicate that 'Invitational' is a special class\n",
    "all_races.loc[all_races['Class'] == 'Invitational', 'Special Class'] = True"
   ]
  },
  {
   "cell_type": "code",
   "execution_count": 495,
   "metadata": {},
   "outputs": [
    {
     "data": {
      "text/plain": [
       "8      Invitational\n",
       "15     Invitational\n",
       "52     Invitational\n",
       "58     Invitational\n",
       "98     Invitational\n",
       "105    Invitational\n",
       "Name: Class, dtype: category\n",
       "Categories (7, object): ['Invitational' < 'Am Cup' < 'Bronze Cup' < 'Pro-Am Cup' < 'Silver Cup' < 'Gold Cup' < 'Pro Cup']"
      ]
     },
     "execution_count": 495,
     "metadata": {},
     "output_type": "execute_result"
    }
   ],
   "source": [
    "all_races[all_races['Special Class'] == True]['Class']"
   ]
  },
  {
   "cell_type": "markdown",
   "metadata": {},
   "source": [
    "#### 3. Time \n",
    "The Time column have missing values, and we need to change data type from object to timedelta. First we need to investigate it."
   ]
  },
  {
   "cell_type": "code",
   "execution_count": 496,
   "metadata": {},
   "outputs": [
    {
     "data": {
      "text/html": [
       "<div>\n",
       "<style scoped>\n",
       "    .dataframe tbody tr th:only-of-type {\n",
       "        vertical-align: middle;\n",
       "    }\n",
       "\n",
       "    .dataframe tbody tr th {\n",
       "        vertical-align: top;\n",
       "    }\n",
       "\n",
       "    .dataframe thead th {\n",
       "        text-align: right;\n",
       "    }\n",
       "</style>\n",
       "<table border=\"1\" class=\"dataframe\">\n",
       "  <thead>\n",
       "    <tr style=\"text-align: right;\">\n",
       "      <th></th>\n",
       "      <th>Season</th>\n",
       "      <th>Meeting</th>\n",
       "      <th>Race name</th>\n",
       "      <th>Pos</th>\n",
       "      <th>Car #</th>\n",
       "      <th>Class</th>\n",
       "      <th>Special Class</th>\n",
       "      <th>Drivers</th>\n",
       "      <th>Team</th>\n",
       "      <th>Car</th>\n",
       "      <th>Time</th>\n",
       "      <th>Laps</th>\n",
       "      <th>Gap</th>\n",
       "    </tr>\n",
       "  </thead>\n",
       "  <tbody>\n",
       "    <tr>\n",
       "      <th>633</th>\n",
       "      <td>2021</td>\n",
       "      <td>Monza</td>\n",
       "      <td>Main Race after 1.30 hour</td>\n",
       "      <td>41</td>\n",
       "      <td>25</td>\n",
       "      <td>Pro Cup</td>\n",
       "      <td>False</td>\n",
       "      <td>Adrien Tambay, Alexandre Cougnaud, Christopher...</td>\n",
       "      <td>Sainteloc Racing</td>\n",
       "      <td>Audi R8 LMS GT3</td>\n",
       "      <td>NaN</td>\n",
       "      <td>2.0</td>\n",
       "      <td>-1:18:14.532</td>\n",
       "    </tr>\n",
       "    <tr>\n",
       "      <th>634</th>\n",
       "      <td>2021</td>\n",
       "      <td>Monza</td>\n",
       "      <td>Main Race after 1.30 hour</td>\n",
       "      <td>42</td>\n",
       "      <td>70</td>\n",
       "      <td>Pro-Am Cup</td>\n",
       "      <td>False</td>\n",
       "      <td>Oliver Millroy, Brendan Iribe</td>\n",
       "      <td>Inception Racing</td>\n",
       "      <td>McLaren 720S GT3</td>\n",
       "      <td>NaN</td>\n",
       "      <td>1.0</td>\n",
       "      <td>-1:29:07.011</td>\n",
       "    </tr>\n",
       "    <tr>\n",
       "      <th>675</th>\n",
       "      <td>2021</td>\n",
       "      <td>Monza</td>\n",
       "      <td>Main Race after 2.30 hours</td>\n",
       "      <td>41</td>\n",
       "      <td>25</td>\n",
       "      <td>Pro Cup</td>\n",
       "      <td>False</td>\n",
       "      <td>Adrien Tambay, Alexandre Cougnaud, Christopher...</td>\n",
       "      <td>Sainteloc Racing</td>\n",
       "      <td>Audi R8 LMS GT3</td>\n",
       "      <td>NaN</td>\n",
       "      <td>2.0</td>\n",
       "      <td>-2:16:56.451</td>\n",
       "    </tr>\n",
       "    <tr>\n",
       "      <th>676</th>\n",
       "      <td>2021</td>\n",
       "      <td>Monza</td>\n",
       "      <td>Main Race after 2.30 hours</td>\n",
       "      <td>42</td>\n",
       "      <td>70</td>\n",
       "      <td>Pro-Am Cup</td>\n",
       "      <td>False</td>\n",
       "      <td>Oliver Millroy, Brendan Iribe</td>\n",
       "      <td>Inception Racing</td>\n",
       "      <td>McLaren 720S GT3</td>\n",
       "      <td>NaN</td>\n",
       "      <td>1.0</td>\n",
       "      <td>-2:27:48.930</td>\n",
       "    </tr>\n",
       "    <tr>\n",
       "      <th>2246</th>\n",
       "      <td>2022</td>\n",
       "      <td>Barcelona</td>\n",
       "      <td>Main Race after 1.30 hour</td>\n",
       "      <td>47</td>\n",
       "      <td>19</td>\n",
       "      <td>Pro Cup</td>\n",
       "      <td>False</td>\n",
       "      <td>Leo Roussel, Giacomo Altoe, Arthur Rougier</td>\n",
       "      <td>Emil Frey Racing</td>\n",
       "      <td>Lamborghini Huracan GT3 Evo</td>\n",
       "      <td>NaN</td>\n",
       "      <td>2.0</td>\n",
       "      <td>-1:27:06.233</td>\n",
       "    </tr>\n",
       "  </tbody>\n",
       "</table>\n",
       "</div>"
      ],
      "text/plain": [
       "      Season    Meeting                   Race name  ... Time  Laps           Gap\n",
       "633     2021      Monza   Main Race after 1.30 hour  ...  NaN   2.0  -1:18:14.532\n",
       "634     2021      Monza   Main Race after 1.30 hour  ...  NaN   1.0  -1:29:07.011\n",
       "675     2021      Monza  Main Race after 2.30 hours  ...  NaN   2.0  -2:16:56.451\n",
       "676     2021      Monza  Main Race after 2.30 hours  ...  NaN   1.0  -2:27:48.930\n",
       "2246    2022  Barcelona   Main Race after 1.30 hour  ...  NaN   2.0  -1:27:06.233\n",
       "\n",
       "[5 rows x 13 columns]"
      ]
     },
     "execution_count": 496,
     "metadata": {},
     "output_type": "execute_result"
    }
   ],
   "source": [
    "missing_time_rows = all_races[all_races['Time'].isnull()]\n",
    "missing_time_rows.head()"
   ]
  },
  {
   "cell_type": "markdown",
   "metadata": {},
   "source": [
    "It seems to me that these rows can be **deleted** because the \"Time\" column contains the time of the fastest lap, but if there's no time, it means they did not set the fastest lap. Looking at the number of laps completed, one can notice that these people completed only 1 or 2 laps. The \"Gap\" for them is negative, which, in my guess, indicates that the participant has dropped out of the race, most likely, they withdrew from the race due to an accident or technical malfunction."
   ]
  },
  {
   "cell_type": "code",
   "execution_count": 497,
   "metadata": {},
   "outputs": [],
   "source": [
    "all_races = all_races.dropna(subset=['Time'])"
   ]
  },
  {
   "cell_type": "markdown",
   "metadata": {},
   "source": [
    "To be able to perform calculations with times, we will create a separate column with timedelta values. And in Time' we save the original values."
   ]
  },
  {
   "cell_type": "code",
   "execution_count": 498,
   "metadata": {},
   "outputs": [],
   "source": [
    "time_timedelta_values = pd.to_timedelta('00:' + all_races['Time'].astype(str))\n",
    "\n",
    "all_races.insert(loc=11, column='Time timedelta', value=time_timedelta_values)"
   ]
  },
  {
   "cell_type": "markdown",
   "metadata": {},
   "source": [
    "#### 4. Laps"
   ]
  },
  {
   "cell_type": "code",
   "execution_count": 499,
   "metadata": {},
   "outputs": [
    {
     "name": "stdout",
     "output_type": "stream",
     "text": [
      "<class 'pandas.core.frame.DataFrame'>\n",
      "Index: 7279 entries, 0 to 7318\n",
      "Data columns (total 14 columns):\n",
      " #   Column          Non-Null Count  Dtype          \n",
      "---  ------          --------------  -----          \n",
      " 0   Season          7279 non-null   int64          \n",
      " 1   Meeting         7279 non-null   object         \n",
      " 2   Race name       7279 non-null   object         \n",
      " 3   Pos             7279 non-null   object         \n",
      " 4   Car #           7279 non-null   int64          \n",
      " 5   Class           7279 non-null   category       \n",
      " 6   Special Class   7279 non-null   bool           \n",
      " 7   Drivers         7279 non-null   object         \n",
      " 8   Team            7279 non-null   object         \n",
      " 9   Car             7279 non-null   object         \n",
      " 10  Time            7279 non-null   object         \n",
      " 11  Time timedelta  7279 non-null   timedelta64[ns]\n",
      " 12  Laps            7279 non-null   float64        \n",
      " 13  Gap             7135 non-null   object         \n",
      "dtypes: bool(1), category(1), float64(1), int64(2), object(8), timedelta64[ns](1)\n",
      "memory usage: 753.8+ KB\n"
     ]
    }
   ],
   "source": [
    "all_races.info()"
   ]
  },
  {
   "cell_type": "markdown",
   "metadata": {},
   "source": [
    "change laps dtype from float to int"
   ]
  },
  {
   "cell_type": "code",
   "execution_count": 500,
   "metadata": {},
   "outputs": [],
   "source": [
    "all_races['Laps'] = all_races['Laps'].astype('int64')"
   ]
  },
  {
   "cell_type": "markdown",
   "metadata": {},
   "source": [
    "#### 5. Gap "
   ]
  },
  {
   "cell_type": "code",
   "execution_count": 501,
   "metadata": {},
   "outputs": [
    {
     "name": "stdout",
     "output_type": "stream",
     "text": [
      "<class 'pandas.core.frame.DataFrame'>\n",
      "Index: 7279 entries, 0 to 7318\n",
      "Data columns (total 14 columns):\n",
      " #   Column          Non-Null Count  Dtype          \n",
      "---  ------          --------------  -----          \n",
      " 0   Season          7279 non-null   int64          \n",
      " 1   Meeting         7279 non-null   object         \n",
      " 2   Race name       7279 non-null   object         \n",
      " 3   Pos             7279 non-null   object         \n",
      " 4   Car #           7279 non-null   int64          \n",
      " 5   Class           7279 non-null   category       \n",
      " 6   Special Class   7279 non-null   bool           \n",
      " 7   Drivers         7279 non-null   object         \n",
      " 8   Team            7279 non-null   object         \n",
      " 9   Car             7279 non-null   object         \n",
      " 10  Time            7279 non-null   object         \n",
      " 11  Time timedelta  7279 non-null   timedelta64[ns]\n",
      " 12  Laps            7279 non-null   int64          \n",
      " 13  Gap             7135 non-null   object         \n",
      "dtypes: bool(1), category(1), int64(3), object(8), timedelta64[ns](1)\n",
      "memory usage: 753.8+ KB\n"
     ]
    }
   ],
   "source": [
    "all_races.info()"
   ]
  },
  {
   "cell_type": "markdown",
   "metadata": {},
   "source": [
    "#### deal with missing values"
   ]
  },
  {
   "cell_type": "code",
   "execution_count": 502,
   "metadata": {},
   "outputs": [
    {
     "data": {
      "text/html": [
       "<div>\n",
       "<style scoped>\n",
       "    .dataframe tbody tr th:only-of-type {\n",
       "        vertical-align: middle;\n",
       "    }\n",
       "\n",
       "    .dataframe tbody tr th {\n",
       "        vertical-align: top;\n",
       "    }\n",
       "\n",
       "    .dataframe thead th {\n",
       "        text-align: right;\n",
       "    }\n",
       "</style>\n",
       "<table border=\"1\" class=\"dataframe\">\n",
       "  <thead>\n",
       "    <tr style=\"text-align: right;\">\n",
       "      <th></th>\n",
       "      <th>Pos</th>\n",
       "      <th>count</th>\n",
       "    </tr>\n",
       "  </thead>\n",
       "  <tbody>\n",
       "    <tr>\n",
       "      <th>0</th>\n",
       "      <td>1</td>\n",
       "      <td>144</td>\n",
       "    </tr>\n",
       "  </tbody>\n",
       "</table>\n",
       "</div>"
      ],
      "text/plain": [
       "   Pos  count\n",
       "0    1    144"
      ]
     },
     "execution_count": 502,
     "metadata": {},
     "output_type": "execute_result"
    }
   ],
   "source": [
    "null_gap_rows = all_races[pd.isnull(all_races['Gap'])]\n",
    "null_gap_rows['Pos'].value_counts().reset_index()"
   ]
  },
  {
   "cell_type": "markdown",
   "metadata": {},
   "source": [
    "The missing values are found among the race leaders; their absence can be explained by the fact that these participants do not have a lag behind the leader, since they are the leaders.\n",
    "\n",
    "Next we will fill the missing values to '0.000'."
   ]
  },
  {
   "cell_type": "code",
   "execution_count": 503,
   "metadata": {},
   "outputs": [],
   "source": [
    "all_races['Gap'] = all_races['Gap'].fillna('0.000')"
   ]
  },
  {
   "cell_type": "markdown",
   "metadata": {},
   "source": [
    "\"Gap\" also contain times with '-' before the digits. My assumption is that '-' indicates about cars that droped of the race for some reasons. In futere we will quantify my assumption.\n",
    "\n",
    "\n",
    "Check out rows with negative 'Gap's"
   ]
  },
  {
   "cell_type": "code",
   "execution_count": 504,
   "metadata": {},
   "outputs": [
    {
     "data": {
      "text/html": [
       "<div>\n",
       "<style scoped>\n",
       "    .dataframe tbody tr th:only-of-type {\n",
       "        vertical-align: middle;\n",
       "    }\n",
       "\n",
       "    .dataframe tbody tr th {\n",
       "        vertical-align: top;\n",
       "    }\n",
       "\n",
       "    .dataframe thead th {\n",
       "        text-align: right;\n",
       "    }\n",
       "</style>\n",
       "<table border=\"1\" class=\"dataframe\">\n",
       "  <thead>\n",
       "    <tr style=\"text-align: right;\">\n",
       "      <th></th>\n",
       "      <th>Season</th>\n",
       "      <th>Meeting</th>\n",
       "      <th>Race name</th>\n",
       "      <th>Pos</th>\n",
       "      <th>Car #</th>\n",
       "      <th>Class</th>\n",
       "      <th>Special Class</th>\n",
       "      <th>Drivers</th>\n",
       "      <th>Team</th>\n",
       "      <th>Car</th>\n",
       "      <th>Time</th>\n",
       "      <th>Time timedelta</th>\n",
       "      <th>Laps</th>\n",
       "      <th>Gap</th>\n",
       "    </tr>\n",
       "  </thead>\n",
       "  <tbody>\n",
       "    <tr>\n",
       "      <th>37</th>\n",
       "      <td>2021</td>\n",
       "      <td>Barcelona</td>\n",
       "      <td>Main Race</td>\n",
       "      <td>38</td>\n",
       "      <td>16</td>\n",
       "      <td>Silver Cup</td>\n",
       "      <td>False</td>\n",
       "      <td>Kikko Galbiati, Tim Zimmermann, Clemens Schmid</td>\n",
       "      <td>GRT Grasser Racing Team</td>\n",
       "      <td>Lamborghini Huracan GT3 Evo</td>\n",
       "      <td>1:48.194</td>\n",
       "      <td>0 days 00:01:48.194000</td>\n",
       "      <td>89</td>\n",
       "      <td>-10:05.535</td>\n",
       "    </tr>\n",
       "    <tr>\n",
       "      <th>38</th>\n",
       "      <td>2021</td>\n",
       "      <td>Barcelona</td>\n",
       "      <td>Main Race</td>\n",
       "      <td>39</td>\n",
       "      <td>71</td>\n",
       "      <td>Pro Cup</td>\n",
       "      <td>False</td>\n",
       "      <td>Callum Ilott, Alessio Rovera, Antonio Fuoco</td>\n",
       "      <td>Iron Lynx</td>\n",
       "      <td>Ferrari 488 GT3</td>\n",
       "      <td>1:47.704</td>\n",
       "      <td>0 days 00:01:47.704000</td>\n",
       "      <td>87</td>\n",
       "      <td>-15:55.406</td>\n",
       "    </tr>\n",
       "    <tr>\n",
       "      <th>39</th>\n",
       "      <td>2021</td>\n",
       "      <td>Barcelona</td>\n",
       "      <td>Main Race</td>\n",
       "      <td>40</td>\n",
       "      <td>66</td>\n",
       "      <td>Pro Cup</td>\n",
       "      <td>False</td>\n",
       "      <td>Mattia Drudi, Steijn Schothorst, Christopher Mies</td>\n",
       "      <td>Attempto Racing</td>\n",
       "      <td>Audi R8 LMS GT3</td>\n",
       "      <td>1:47.443</td>\n",
       "      <td>0 days 00:01:47.443000</td>\n",
       "      <td>86</td>\n",
       "      <td>-17:25.545</td>\n",
       "    </tr>\n",
       "    <tr>\n",
       "      <th>40</th>\n",
       "      <td>2021</td>\n",
       "      <td>Barcelona</td>\n",
       "      <td>Main Race</td>\n",
       "      <td>41</td>\n",
       "      <td>2</td>\n",
       "      <td>Pro-Am Cup</td>\n",
       "      <td>False</td>\n",
       "      <td>Jim Pla, Olivier Grotz, Florian Scholze</td>\n",
       "      <td>GetSpeed</td>\n",
       "      <td>Mercedes-AMG GT3</td>\n",
       "      <td>1:48.768</td>\n",
       "      <td>0 days 00:01:48.768000</td>\n",
       "      <td>75</td>\n",
       "      <td>-36:45.969</td>\n",
       "    </tr>\n",
       "    <tr>\n",
       "      <th>41</th>\n",
       "      <td>2021</td>\n",
       "      <td>Barcelona</td>\n",
       "      <td>Main Race</td>\n",
       "      <td>42</td>\n",
       "      <td>5</td>\n",
       "      <td>Silver Cup</td>\n",
       "      <td>False</td>\n",
       "      <td>Indy Dontje, Patrick Assenheimer, Hubert Haupt</td>\n",
       "      <td>HRT</td>\n",
       "      <td>Mercedes-AMG GT3</td>\n",
       "      <td>1:48.700</td>\n",
       "      <td>0 days 00:01:48.700000</td>\n",
       "      <td>74</td>\n",
       "      <td>-41:38.337</td>\n",
       "    </tr>\n",
       "  </tbody>\n",
       "</table>\n",
       "</div>"
      ],
      "text/plain": [
       "    Season    Meeting  Race name  ...         Time timedelta  Laps         Gap\n",
       "37    2021  Barcelona  Main Race  ... 0 days 00:01:48.194000    89  -10:05.535\n",
       "38    2021  Barcelona  Main Race  ... 0 days 00:01:47.704000    87  -15:55.406\n",
       "39    2021  Barcelona  Main Race  ... 0 days 00:01:47.443000    86  -17:25.545\n",
       "40    2021  Barcelona  Main Race  ... 0 days 00:01:48.768000    75  -36:45.969\n",
       "41    2021  Barcelona  Main Race  ... 0 days 00:01:48.700000    74  -41:38.337\n",
       "\n",
       "[5 rows x 14 columns]"
      ]
     },
     "execution_count": 504,
     "metadata": {},
     "output_type": "execute_result"
    }
   ],
   "source": [
    "all_races[all_races['Gap'].str.match(r'^-')].head()"
   ]
  },
  {
   "cell_type": "markdown",
   "metadata": {},
   "source": [
    "But now we will Create new Column with name 'Dropped off the Race' with bool data type. True if '-' in 'Gap', and False if doesn't. Choose the rows with negative \"Gap\""
   ]
  },
  {
   "cell_type": "code",
   "execution_count": 505,
   "metadata": {},
   "outputs": [],
   "source": [
    "# Function to determine if a participant has dropped off of the race\n",
    "def check_dropped_off(value):\n",
    "    if pd.isnull(value):\n",
    "        return False\n",
    "    return bool(re.match(r\"^-\", value))\n",
    "\n",
    "all_races['Dropped off the Race'] = all_races['Gap'].apply(check_dropped_off)"
   ]
  },
  {
   "cell_type": "markdown",
   "metadata": {},
   "source": [
    "delete all '-' in 'Gap' column"
   ]
  },
  {
   "cell_type": "code",
   "execution_count": 506,
   "metadata": {},
   "outputs": [
    {
     "data": {
      "text/html": [
       "<div>\n",
       "<style scoped>\n",
       "    .dataframe tbody tr th:only-of-type {\n",
       "        vertical-align: middle;\n",
       "    }\n",
       "\n",
       "    .dataframe tbody tr th {\n",
       "        vertical-align: top;\n",
       "    }\n",
       "\n",
       "    .dataframe thead th {\n",
       "        text-align: right;\n",
       "    }\n",
       "</style>\n",
       "<table border=\"1\" class=\"dataframe\">\n",
       "  <thead>\n",
       "    <tr style=\"text-align: right;\">\n",
       "      <th></th>\n",
       "      <th>Season</th>\n",
       "      <th>Meeting</th>\n",
       "      <th>Race name</th>\n",
       "      <th>Pos</th>\n",
       "      <th>Car #</th>\n",
       "      <th>Class</th>\n",
       "      <th>Special Class</th>\n",
       "      <th>Drivers</th>\n",
       "      <th>Team</th>\n",
       "      <th>Car</th>\n",
       "      <th>Time</th>\n",
       "      <th>Time timedelta</th>\n",
       "      <th>Laps</th>\n",
       "      <th>Gap</th>\n",
       "      <th>Dropped off the Race</th>\n",
       "    </tr>\n",
       "  </thead>\n",
       "  <tbody>\n",
       "    <tr>\n",
       "      <th>0</th>\n",
       "      <td>2021</td>\n",
       "      <td>Barcelona</td>\n",
       "      <td>Main Race</td>\n",
       "      <td>1</td>\n",
       "      <td>88</td>\n",
       "      <td>Pro Cup</td>\n",
       "      <td>False</td>\n",
       "      <td>Raffaele Marciello, Felipe Fraga, Jules Gounon</td>\n",
       "      <td>AKKA ASP</td>\n",
       "      <td>Mercedes-AMG GT3</td>\n",
       "      <td>1:47.211</td>\n",
       "      <td>0 days 00:01:47.211000</td>\n",
       "      <td>95</td>\n",
       "      <td>0.000</td>\n",
       "      <td>False</td>\n",
       "    </tr>\n",
       "    <tr>\n",
       "      <th>1</th>\n",
       "      <td>2021</td>\n",
       "      <td>Barcelona</td>\n",
       "      <td>Main Race</td>\n",
       "      <td>2</td>\n",
       "      <td>54</td>\n",
       "      <td>Pro Cup</td>\n",
       "      <td>False</td>\n",
       "      <td>Klaus Bachler, Christian Engelhart, Matteo Cai...</td>\n",
       "      <td>Dinamic Motorsport</td>\n",
       "      <td>Porsche 911 GT3-R (991.II)</td>\n",
       "      <td>1:47.148</td>\n",
       "      <td>0 days 00:01:47.148000</td>\n",
       "      <td>95</td>\n",
       "      <td>2.174</td>\n",
       "      <td>False</td>\n",
       "    </tr>\n",
       "    <tr>\n",
       "      <th>2</th>\n",
       "      <td>2021</td>\n",
       "      <td>Barcelona</td>\n",
       "      <td>Main Race</td>\n",
       "      <td>3</td>\n",
       "      <td>32</td>\n",
       "      <td>Pro Cup</td>\n",
       "      <td>False</td>\n",
       "      <td>Dries Vanthoor, Robin Frijns, Charles Weerts</td>\n",
       "      <td>Team WRT</td>\n",
       "      <td>Audi R8 LMS GT3</td>\n",
       "      <td>1:47.612</td>\n",
       "      <td>0 days 00:01:47.612000</td>\n",
       "      <td>95</td>\n",
       "      <td>4.036</td>\n",
       "      <td>False</td>\n",
       "    </tr>\n",
       "    <tr>\n",
       "      <th>3</th>\n",
       "      <td>2021</td>\n",
       "      <td>Barcelona</td>\n",
       "      <td>Main Race</td>\n",
       "      <td>4</td>\n",
       "      <td>63</td>\n",
       "      <td>Pro Cup</td>\n",
       "      <td>False</td>\n",
       "      <td>Mirko Bortolotti, Marco Mapelli, Andrea Caldar...</td>\n",
       "      <td>Orange 1 FFF Racing Team</td>\n",
       "      <td>Lamborghini Huracan GT3 Evo</td>\n",
       "      <td>1:47.027</td>\n",
       "      <td>0 days 00:01:47.027000</td>\n",
       "      <td>95</td>\n",
       "      <td>9.511</td>\n",
       "      <td>False</td>\n",
       "    </tr>\n",
       "    <tr>\n",
       "      <th>4</th>\n",
       "      <td>2021</td>\n",
       "      <td>Barcelona</td>\n",
       "      <td>Main Race</td>\n",
       "      <td>5</td>\n",
       "      <td>4</td>\n",
       "      <td>Pro Cup</td>\n",
       "      <td>False</td>\n",
       "      <td>Maro Engel, Luca Stolz, Nico Bastian</td>\n",
       "      <td>HRT</td>\n",
       "      <td>Mercedes-AMG GT3</td>\n",
       "      <td>1:47.588</td>\n",
       "      <td>0 days 00:01:47.588000</td>\n",
       "      <td>95</td>\n",
       "      <td>9.984</td>\n",
       "      <td>False</td>\n",
       "    </tr>\n",
       "  </tbody>\n",
       "</table>\n",
       "</div>"
      ],
      "text/plain": [
       "   Season    Meeting  Race name  ... Laps    Gap Dropped off the Race\n",
       "0    2021  Barcelona  Main Race  ...   95  0.000                False\n",
       "1    2021  Barcelona  Main Race  ...   95  2.174                False\n",
       "2    2021  Barcelona  Main Race  ...   95  4.036                False\n",
       "3    2021  Barcelona  Main Race  ...   95  9.511                False\n",
       "4    2021  Barcelona  Main Race  ...   95  9.984                False\n",
       "\n",
       "[5 rows x 15 columns]"
      ]
     },
     "execution_count": 506,
     "metadata": {},
     "output_type": "execute_result"
    }
   ],
   "source": [
    "all_races['Gap'] = all_races['Gap'].str.replace('-', '', regex=False)\n",
    "all_races.head()"
   ]
  },
  {
   "cell_type": "markdown",
   "metadata": {},
   "source": [
    "Now add new column 'Gap Timedelta' with the same values from 'Gap' but in different data type."
   ]
  },
  {
   "cell_type": "code",
   "execution_count": 507,
   "metadata": {},
   "outputs": [],
   "source": [
    "def convert_to_timedelta(value):\n",
    "    try:\n",
    "        # Directly return a timedelta of zero for '0.000'\n",
    "        if value == '0.000':\n",
    "            return pd.to_timedelta('00:00:00.000')\n",
    "        \n",
    "        # Check the number of parts when split by ':'\n",
    "        parts = value.split(':')\n",
    "        if len(parts) == 1:  # Only seconds (and possibly milliseconds)\n",
    "            return pd.to_timedelta(float(value), unit='s')\n",
    "        elif len(parts) == 2:  # Minutes and seconds\n",
    "            return pd.to_timedelta('00:' + value)\n",
    "        elif len(parts) == 3:  # Hours, minutes, and seconds\n",
    "            return pd.to_timedelta(value)\n",
    "    except Exception as e:\n",
    "        print(f\"Error converting value: {value}, Error: {e}\")\n",
    "        # Return a default timedelta in case of unexpected format\n",
    "        return pd.Timedelta(0)\n",
    "    \n",
    "\n",
    "# Apply the conversion to each value in 'Gap'\n",
    "gaps_timedelta_values = all_races['Gap'].astype(str).apply(convert_to_timedelta)\n",
    "\n",
    "# Insert the new 'Gap Timedelta' column into the DataFrame\n",
    "all_races.insert(loc=14, column='Gap Timedelta', value=gaps_timedelta_values)"
   ]
  },
  {
   "cell_type": "code",
   "execution_count": 508,
   "metadata": {},
   "outputs": [
    {
     "name": "stdout",
     "output_type": "stream",
     "text": [
      "<class 'pandas.core.frame.DataFrame'>\n",
      "Index: 7279 entries, 0 to 7318\n",
      "Data columns (total 16 columns):\n",
      " #   Column                Non-Null Count  Dtype          \n",
      "---  ------                --------------  -----          \n",
      " 0   Season                7279 non-null   int64          \n",
      " 1   Meeting               7279 non-null   object         \n",
      " 2   Race name             7279 non-null   object         \n",
      " 3   Pos                   7279 non-null   object         \n",
      " 4   Car #                 7279 non-null   int64          \n",
      " 5   Class                 7279 non-null   category       \n",
      " 6   Special Class         7279 non-null   bool           \n",
      " 7   Drivers               7279 non-null   object         \n",
      " 8   Team                  7279 non-null   object         \n",
      " 9   Car                   7279 non-null   object         \n",
      " 10  Time                  7279 non-null   object         \n",
      " 11  Time timedelta        7279 non-null   timedelta64[ns]\n",
      " 12  Laps                  7279 non-null   int64          \n",
      " 13  Gap                   7279 non-null   object         \n",
      " 14  Gap Timedelta         7279 non-null   timedelta64[ns]\n",
      " 15  Dropped off the Race  7279 non-null   bool           \n",
      "dtypes: bool(2), category(1), int64(3), object(8), timedelta64[ns](2)\n",
      "memory usage: 817.8+ KB\n"
     ]
    }
   ],
   "source": [
    "all_races.info()"
   ]
  }
 ],
 "metadata": {
  "kernelspec": {
   "display_name": "base",
   "language": "python",
   "name": "python3"
  },
  "language_info": {
   "codemirror_mode": {
    "name": "ipython",
    "version": 3
   },
   "file_extension": ".py",
   "mimetype": "text/x-python",
   "name": "python",
   "nbconvert_exporter": "python",
   "pygments_lexer": "ipython3",
   "version": "3.9.18"
  }
 },
 "nbformat": 4,
 "nbformat_minor": 2
}
